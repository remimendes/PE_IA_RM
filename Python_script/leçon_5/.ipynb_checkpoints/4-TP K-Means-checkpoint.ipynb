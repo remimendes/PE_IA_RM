{
 "cells": [
  {
   "cell_type": "markdown",
   "id": "d856e889",
   "metadata": {},
   "source": [
    "## TP: Réaliser des clusters avec l'algorithme K-means \n",
    "\n",
    "Le dataset Palmer Penguin est un ensemble de données qui contient des images de manchots de différentes espèces et sous-espèces, recueillies sur l'île de Palmer en Antarctique. Il a été créé par des chercheurs universitaires pour aider à la reconnaissance automatique des espèces de manchots. Il permet de tester l'algorithme K-means en utilisant des images pour regrouper les manchots similaires ensemble et en utilisant des caractéristiques visuelles similaires pour le clustering. Il a une classification précise pour évaluer la performance de l'algorithme.\n",
    "\n",
    "Vous pouvez le télécharger sous le lien suivant : \n",
    "https://www.kaggle.com/code/parulpandey/penguin-dataset-the-new-iris/notebook"
   ]
  },
  {
   "cell_type": "markdown",
   "id": "7127c429",
   "metadata": {},
   "source": [
    "## Charger les librairies "
   ]
  },
  {
   "cell_type": "code",
   "execution_count": 1,
   "id": "0a87e732",
   "metadata": {},
   "outputs": [
    {
     "name": "stdout",
     "output_type": "stream",
     "text": [
      "Requirement already satisfied: seaborn in c:\\users\\miaou\\anaconda3\\lib\\site-packages (0.11.1)\n",
      "Requirement already satisfied: pandas>=0.23 in c:\\users\\miaou\\anaconda3\\lib\\site-packages (from seaborn) (1.2.5)\n",
      "Requirement already satisfied: scipy>=1.0 in c:\\users\\miaou\\anaconda3\\lib\\site-packages (from seaborn) (1.6.2)\n",
      "Requirement already satisfied: numpy>=1.15 in c:\\users\\miaou\\anaconda3\\lib\\site-packages (from seaborn) (1.20.2)\n",
      "Requirement already satisfied: matplotlib>=2.2 in c:\\users\\miaou\\anaconda3\\lib\\site-packages (from seaborn) (3.3.4)\n",
      "Requirement already satisfied: pillow>=6.2.0 in c:\\users\\miaou\\anaconda3\\lib\\site-packages (from matplotlib>=2.2->seaborn) (8.3.1)\n",
      "Requirement already satisfied: kiwisolver>=1.0.1 in c:\\users\\miaou\\anaconda3\\lib\\site-packages (from matplotlib>=2.2->seaborn) (1.3.1)\n",
      "Requirement already satisfied: pyparsing!=2.0.4,!=2.1.2,!=2.1.6,>=2.0.3 in c:\\users\\miaou\\anaconda3\\lib\\site-packages (from matplotlib>=2.2->seaborn) (2.4.7)\n",
      "Requirement already satisfied: python-dateutil>=2.1 in c:\\users\\miaou\\anaconda3\\lib\\site-packages (from matplotlib>=2.2->seaborn) (2.8.1)\n",
      "Requirement already satisfied: cycler>=0.10 in c:\\users\\miaou\\anaconda3\\lib\\site-packages (from matplotlib>=2.2->seaborn) (0.10.0)\n",
      "Requirement already satisfied: six in c:\\users\\miaou\\anaconda3\\lib\\site-packages (from cycler>=0.10->matplotlib>=2.2->seaborn) (1.16.0)\n",
      "Requirement already satisfied: pytz>=2017.3 in c:\\users\\miaou\\anaconda3\\lib\\site-packages (from pandas>=0.23->seaborn) (2021.1)\n"
     ]
    }
   ],
   "source": [
    "!pip install seaborn\n",
    "import pandas as pd \n",
    "import numpy as np \n",
    "import math \n",
    "import matplotlib.pyplot as plt\n",
    "import seaborn as sns\n",
    "\n",
    "\n",
    "from sklearn.preprocessing import StandardScaler\n",
    "from sklearn.preprocessing import LabelEncoder\n",
    "from sklearn.cluster import KMeans\n",
    "from sklearn.metrics import silhouette_score\n",
    "from sklearn.metrics import v_measure_score\n"
   ]
  },
  {
   "cell_type": "markdown",
   "id": "cd6513f7",
   "metadata": {},
   "source": [
    "## Charger les données\n",
    "\n",
    "Le lien précédent vous donne accès à deux fichiers \"penguins_size.csv\" & \"penguins_lter.csv\". Nous avons choisi de restreindre notre étude à un seul fichier csv. "
   ]
  },
  {
   "cell_type": "code",
   "execution_count": 2,
   "id": "c927135c",
   "metadata": {},
   "outputs": [],
   "source": [
    "Penguin = pd.read_csv('penguins_size.csv')\n"
   ]
  },
  {
   "cell_type": "markdown",
   "id": "b0706223",
   "metadata": {},
   "source": [
    "## Découvrir et Visualiser les données pour en tirer des informations"
   ]
  },
  {
   "cell_type": "code",
   "execution_count": 3,
   "id": "13582a01",
   "metadata": {},
   "outputs": [
    {
     "name": "stdout",
     "output_type": "stream",
     "text": [
      "  species     island  culmen_length_mm  culmen_depth_mm  flipper_length_mm  \\\n",
      "0  Adelie  Torgersen              39.1             18.7              181.0   \n",
      "1  Adelie  Torgersen              39.5             17.4              186.0   \n",
      "2  Adelie  Torgersen              40.3             18.0              195.0   \n",
      "3  Adelie  Torgersen               NaN              NaN                NaN   \n",
      "4  Adelie  Torgersen              36.7             19.3              193.0   \n",
      "\n",
      "   body_mass_g     sex  \n",
      "0       3750.0    MALE  \n",
      "1       3800.0  FEMALE  \n",
      "2       3250.0  FEMALE  \n",
      "3          NaN     NaN  \n",
      "4       3450.0  FEMALE  \n"
     ]
    }
   ],
   "source": [
    "print(Penguin.head())"
   ]
  },
  {
   "cell_type": "code",
   "execution_count": 4,
   "id": "dc12786c",
   "metadata": {},
   "outputs": [
    {
     "name": "stdout",
     "output_type": "stream",
     "text": [
      "<class 'pandas.core.frame.DataFrame'>\n",
      "RangeIndex: 344 entries, 0 to 343\n",
      "Data columns (total 7 columns):\n",
      " #   Column             Non-Null Count  Dtype  \n",
      "---  ------             --------------  -----  \n",
      " 0   species            344 non-null    object \n",
      " 1   island             344 non-null    object \n",
      " 2   culmen_length_mm   342 non-null    float64\n",
      " 3   culmen_depth_mm    342 non-null    float64\n",
      " 4   flipper_length_mm  342 non-null    float64\n",
      " 5   body_mass_g        342 non-null    float64\n",
      " 6   sex                334 non-null    object \n",
      "dtypes: float64(4), object(3)\n",
      "memory usage: 18.9+ KB\n"
     ]
    },
    {
     "data": {
      "text/plain": [
       "species               0\n",
       "island                0\n",
       "culmen_length_mm      2\n",
       "culmen_depth_mm       2\n",
       "flipper_length_mm     2\n",
       "body_mass_g           2\n",
       "sex                  10\n",
       "dtype: int64"
      ]
     },
     "execution_count": 4,
     "metadata": {},
     "output_type": "execute_result"
    },
    {
     "data": {
      "image/png": "[encoded data removed]",
      "text/plain": [
       "<Figure size 640x480 with 1 Axes>"
      ]
     },
     "metadata": {},
     "output_type": "display_data"
    }
   ],
   "source": [
    "#Exploration des données \n",
    "sns.countplot(x = \"species\", data = Penguin)\n",
    "\n",
    "#Recherche des valeurs manquantes\n",
    "Penguin.info()\n",
    "Penguin.isna().sum()"
   ]
  },
  {
   "cell_type": "markdown",
   "id": "95a8aa56",
   "metadata": {},
   "source": [
    "Nous remarquons que la colonne \"sex\" a le plus de valeurs manquantes. Aussi, l'espèce \"Adelie\" est la plus présente. "
   ]
  },
  {
   "cell_type": "markdown",
   "id": "5593ed69",
   "metadata": {},
   "source": [
    "## Préparer les données \n",
    "\n",
    "Il est important de nettoyer et de préparer les données avant de les utiliser pour l'apprentissage automatique. Cela peut inclure des tâches telles que la suppression des données manquantes, la normalisation des données et la transformation des données pour qu'elles soient utilisables par l'algorithme. Etant donné que nous allons faire de l'apprentissage non-supervisé, nous n'allons pas nous servir de la colonne \"species\" qui est la colonne de sortie (colonne des étiquettes) pour l'entrainement. Nous pourrons l'utiliser à la fin pour évaluer notre modèle. "
   ]
  },
  {
   "cell_type": "code",
   "execution_count": 5,
   "id": "831e7bef",
   "metadata": {},
   "outputs": [
    {
     "data": {
      "text/html": [
       "<div>\n",
       "<style scoped>\n",
       "    .dataframe tbody tr th:only-of-type {\n",
       "        vertical-align: middle;\n",
       "    }\n",
       "\n",
       "    .dataframe tbody tr th {\n",
       "        vertical-align: top;\n",
       "    }\n",
       "\n",
       "    .dataframe thead th {\n",
       "        text-align: right;\n",
       "    }\n",
       "</style>\n",
       "<table border=\"1\" class=\"dataframe\">\n",
       "  <thead>\n",
       "    <tr style=\"text-align: right;\">\n",
       "      <th></th>\n",
       "      <th>island</th>\n",
       "      <th>culmen_length_mm</th>\n",
       "      <th>culmen_depth_mm</th>\n",
       "      <th>flipper_length_mm</th>\n",
       "      <th>body_mass_g</th>\n",
       "      <th>sex</th>\n",
       "    </tr>\n",
       "  </thead>\n",
       "  <tbody>\n",
       "    <tr>\n",
       "      <th>0</th>\n",
       "      <td>2</td>\n",
       "      <td>-0.897653</td>\n",
       "      <td>0.783487</td>\n",
       "      <td>-1.429521</td>\n",
       "      <td>-0.571229</td>\n",
       "      <td>2</td>\n",
       "    </tr>\n",
       "    <tr>\n",
       "      <th>1</th>\n",
       "      <td>2</td>\n",
       "      <td>-0.824290</td>\n",
       "      <td>0.121896</td>\n",
       "      <td>-1.072408</td>\n",
       "      <td>-0.509011</td>\n",
       "      <td>1</td>\n",
       "    </tr>\n",
       "    <tr>\n",
       "      <th>2</th>\n",
       "      <td>2</td>\n",
       "      <td>-0.677564</td>\n",
       "      <td>0.427246</td>\n",
       "      <td>-0.429605</td>\n",
       "      <td>-1.193405</td>\n",
       "      <td>1</td>\n",
       "    </tr>\n",
       "    <tr>\n",
       "      <th>4</th>\n",
       "      <td>2</td>\n",
       "      <td>-1.337831</td>\n",
       "      <td>1.088836</td>\n",
       "      <td>-0.572450</td>\n",
       "      <td>-0.944535</td>\n",
       "      <td>1</td>\n",
       "    </tr>\n",
       "    <tr>\n",
       "      <th>5</th>\n",
       "      <td>2</td>\n",
       "      <td>-0.860972</td>\n",
       "      <td>1.750427</td>\n",
       "      <td>-0.786718</td>\n",
       "      <td>-0.695664</td>\n",
       "      <td>2</td>\n",
       "    </tr>\n",
       "    <tr>\n",
       "      <th>...</th>\n",
       "      <td>...</td>\n",
       "      <td>...</td>\n",
       "      <td>...</td>\n",
       "      <td>...</td>\n",
       "      <td>...</td>\n",
       "      <td>...</td>\n",
       "    </tr>\n",
       "    <tr>\n",
       "      <th>338</th>\n",
       "      <td>0</td>\n",
       "      <td>0.587947</td>\n",
       "      <td>-1.761093</td>\n",
       "      <td>0.927425</td>\n",
       "      <td>0.890886</td>\n",
       "      <td>1</td>\n",
       "    </tr>\n",
       "    <tr>\n",
       "      <th>340</th>\n",
       "      <td>0</td>\n",
       "      <td>0.514584</td>\n",
       "      <td>-1.455743</td>\n",
       "      <td>0.998847</td>\n",
       "      <td>0.797560</td>\n",
       "      <td>1</td>\n",
       "    </tr>\n",
       "    <tr>\n",
       "      <th>341</th>\n",
       "      <td>0</td>\n",
       "      <td>1.174851</td>\n",
       "      <td>-0.743261</td>\n",
       "      <td>1.498806</td>\n",
       "      <td>1.917477</td>\n",
       "      <td>2</td>\n",
       "    </tr>\n",
       "    <tr>\n",
       "      <th>342</th>\n",
       "      <td>0</td>\n",
       "      <td>0.221132</td>\n",
       "      <td>-1.201285</td>\n",
       "      <td>0.784580</td>\n",
       "      <td>1.233083</td>\n",
       "      <td>1</td>\n",
       "    </tr>\n",
       "    <tr>\n",
       "      <th>343</th>\n",
       "      <td>0</td>\n",
       "      <td>1.083147</td>\n",
       "      <td>-0.539695</td>\n",
       "      <td>0.856002</td>\n",
       "      <td>1.481954</td>\n",
       "      <td>2</td>\n",
       "    </tr>\n",
       "  </tbody>\n",
       "</table>\n",
       "<p>334 rows × 6 columns</p>\n",
       "</div>"
      ],
      "text/plain": [
       "     island  culmen_length_mm  culmen_depth_mm  flipper_length_mm  \\\n",
       "0         2         -0.897653         0.783487          -1.429521   \n",
       "1         2         -0.824290         0.121896          -1.072408   \n",
       "2         2         -0.677564         0.427246          -0.429605   \n",
       "4         2         -1.337831         1.088836          -0.572450   \n",
       "5         2         -0.860972         1.750427          -0.786718   \n",
       "..      ...               ...              ...                ...   \n",
       "338       0          0.587947        -1.761093           0.927425   \n",
       "340       0          0.514584        -1.455743           0.998847   \n",
       "341       0          1.174851        -0.743261           1.498806   \n",
       "342       0          0.221132        -1.201285           0.784580   \n",
       "343       0          1.083147        -0.539695           0.856002   \n",
       "\n",
       "     body_mass_g  sex  \n",
       "0      -0.571229    2  \n",
       "1      -0.509011    1  \n",
       "2      -1.193405    1  \n",
       "4      -0.944535    1  \n",
       "5      -0.695664    2  \n",
       "..           ...  ...  \n",
       "338     0.890886    1  \n",
       "340     0.797560    1  \n",
       "341     1.917477    2  \n",
       "342     1.233083    1  \n",
       "343     1.481954    2  \n",
       "\n",
       "[334 rows x 6 columns]"
      ]
     },
     "execution_count": 5,
     "metadata": {},
     "output_type": "execute_result"
    }
   ],
   "source": [
    "#Suppression des données manquantes \n",
    "Penguin = Penguin.dropna()\n",
    "\n",
    "#Normalisation des données \n",
    "scaler = StandardScaler()\n",
    "Penguin[['culmen_length_mm', 'culmen_depth_mm', 'flipper_length_mm', 'body_mass_g']] = scaler.fit_transform(Penguin[['culmen_length_mm', 'culmen_depth_mm', 'flipper_length_mm', 'body_mass_g']])\n",
    "\n",
    "#Encodage des variables categorielles\n",
    "le = LabelEncoder()\n",
    "Penguin['sex'] = le.fit_transform(Penguin['sex'])\n",
    "Penguin['island'] = le.fit_transform(Penguin['island'])\n",
    "Penguin['species'] = le.fit_transform(Penguin['species'])\n",
    "\n",
    "#création de la variable d'évaluation species et suppression de la colonne species\n",
    "species = Penguin[\"species\"]\n",
    "del Penguin[\"species\"]\n",
    "\n",
    "\n",
    "Penguin"
   ]
  },
  {
   "cell_type": "markdown",
   "id": "07ed79f8",
   "metadata": {},
   "source": [
    "## Choisir le nombre de clusters  "
   ]
  },
  {
   "cell_type": "markdown",
   "id": "42d0d507",
   "metadata": {},
   "source": [
    "D'après le dataset original, nous avons 3 étiquettes donc k=3. Mais pour les besoins de ce tutoriel, nous allons nous servir des techniques pour trouver le nombre optimal de clusters et ainsi confimer que k=3. \n",
    "\n",
    "Il existe plusieurs méthodes pour choisir le nombre de clusters pour un dataset donné, nous allons nous servir de la méthode de l'écart intra-classe (ou \"Elbow Method\"). Cette méthode consiste à tracer la somme des carrés intra-clusters (ou \"inertie\") en fonction du nombre de clusters. Le nombre de clusters optimal est généralement celui pour lequel l'augmentation de l'inertie est la plus faible. Avant ce point k, la variance expliquée augmente rapidement avec l'augmentation du nombre de clusters, mais après ce point, l'augmentation de la variance expliquée est plus linéaire, c'est à dire plus faible."
   ]
  },
  {
   "cell_type": "code",
   "execution_count": 6,
   "id": "8931bd9d",
   "metadata": {},
   "outputs": [
    {
     "name": "stderr",
     "output_type": "stream",
     "text": [
      "C:\\Users\\u253558\\Anaconda3\\lib\\site-packages\\sklearn\\cluster\\_kmeans.py:1036: UserWarning: KMeans is known to have a memory leak on Windows with MKL, when there are less chunks than available threads. You can avoid it by setting the environment variable OMP_NUM_THREADS=2.\n",
      "  warnings.warn(\n"
     ]
    },
    {
     "data": {
      "image/png": "[encoded data removed]",
      "text/plain": [
       "<Figure size 640x480 with 1 Axes>"
      ]
     },
     "metadata": {},
     "output_type": "display_data"
    }
   ],
   "source": [
    "wcss = []\n",
    "for i in range(1, 10):\n",
    "    kmeans = KMeans(n_clusters = i, init = 'k-means++', random_state = 42)\n",
    "    kmeans.fit(Penguin)\n",
    "    wcss.append(kmeans.inertia_)\n",
    "plt.plot(range(1, 10), wcss)\n",
    "plt.title('La méthode de l\\'écart intra-classe')\n",
    "plt.xlabel('Nombre de clusters')\n",
    "plt.ylabel('WCSS')\n",
    "plt.show()"
   ]
  },
  {
   "cell_type": "markdown",
   "id": "55e31b0e",
   "metadata": {},
   "source": [
    "En prenant en compte, le critère d'évaluation précedent, k=3 et k=5 apparaissant comme étant de bonnes valeurs potentielles. Pour faire le choix entre ces deux valeurs nous allons utiliser une deuxième méthode: la méthode de score de silhouette. Elle est utilisée pour déterminer le nombre optimal de clusters (k) en trouvant celui qui donne les meilleurs scores de silhouette. Cela consiste à calculer le score de silhouette pour différentes valeurs de k, puis à tracer un graphique des scores de silhouette en fonction de k. La valeur de k pour laquelle les scores de silhouette sont les plus élevés est considérée comme étant la meilleure segmentation en cluster."
   ]
  },
  {
   "cell_type": "code",
   "execution_count": 7,
   "id": "3526c273",
   "metadata": {},
   "outputs": [
    {
     "data": {
      "image/png": "[encoded data removed]",
      "text/plain": [
       "<Figure size 640x480 with 1 Axes>"
      ]
     },
     "metadata": {},
     "output_type": "display_data"
    }
   ],
   "source": [
    "range_n_clusters = range(2,9)\n",
    "scores = []\n",
    "for n_clusters in range_n_clusters:\n",
    "    kmeans = KMeans(n_clusters=n_clusters, random_state=0)\n",
    "    kmeans.fit(Penguin)\n",
    "    silhouette_avg = silhouette_score(Penguin, kmeans.labels_)\n",
    "    scores.append(silhouette_avg)\n",
    "\n",
    "# Tracer les scores de silhouette en fonction du nombre de clusters\n",
    "plt.plot(range_n_clusters, scores)\n",
    "plt.xlabel('Number of Clusters')\n",
    "plt.ylabel('Silhouette Score')\n",
    "plt.show()"
   ]
  },
  {
   "cell_type": "markdown",
   "id": "0497cdd3",
   "metadata": {},
   "source": [
    "Ce graphique nous permet donc de confirmer la valeur de k qui est de 3. "
   ]
  },
  {
   "cell_type": "markdown",
   "id": "30ebdeb6",
   "metadata": {},
   "source": [
    "# Entrainer l'algorithme \n",
    "Une fois que les données sont préparées et que le nombre de clusters est défini, l'algorithme K-means peut être entraîné sur les données.\n",
    "\n",
    "Il est important de noter que l'algorithme K-means a besoin de choisir des centres de clusters initiaux pour commencer, il existe plusieurs stratégies pour le faire : \n",
    "\n",
    "-Choisir les centres initiaux aléatoirement: C'est la stratégie par défaut utilisée par l'implémentation de Scikit-learn.\n",
    "\n",
    "-Utiliser la stratégie k-means++ pour choisir les centres initiaux: Cette stratégie consiste à choisir les centres initiaux en utilisant une stratégie de sélection pondérée qui vise à minimiser la somme des carrés intra-clusters pour les centres initiaux choisis. \n",
    "\n",
    "-Utiliser des données précédemment étiquetées pour choisir les centres initiaux.\n",
    "\n",
    "-Générer des données aléatoires pour choisir les centres initiaux: Cette stratégie consiste à générer des données aléatoires qui serviront de centres initiaux pour l'algorithme. \n",
    "\n",
    "Nous allons utiliser la stratégie k-means++."
   ]
  },
  {
   "cell_type": "code",
   "execution_count": 8,
   "id": "3e74fe65",
   "metadata": {},
   "outputs": [],
   "source": [
    "#Initialisation de l'algorithme et choix de la méthode permettant de choisir les centres de clusters initiaux \n",
    "kmeans = KMeans(n_clusters=3, init = 'k-means++')\n",
    "\n",
    "#Entrainement de l'algorithme sur le jeu de données \n",
    "kmeans.fit(Penguin)\n",
    "\n",
    "#Prédication des clusters \n",
    "y_pred = kmeans.predict(Penguin)\n"
   ]
  },
  {
   "cell_type": "markdown",
   "id": "74e3c60d",
   "metadata": {},
   "source": [
    "# Evaluer l'algorithme \n",
    "Il existe plusieurs méthodes pour évaluer la qualité d'un modèle k-means. Les méthodes les plus couramment utilisées sont les suivantes:\n",
    "\n",
    "Indice de Rand (Rand index): Il mesure la similitude entre les prédictions et les variables de sortie initiales en comparant les paires d'éléments qui ont été correctement classés ou non. Il varie entre 0 et 1, où une valeur de 1 indique une correspondance parfaite entre les prédictions et les variables de sortie initiales.\n",
    "\n",
    "Indice de Jaccard (Jaccard index): Il mesure la similitude entre les prédictions et les variables de sortie initiales en comparant le nombre d'éléments qui ont été correctement classés sur le nombre total d'éléments. Il varie entre 0 et 1, où une valeur de 1 indique une correspondance parfaite entre les prédictions et les variables de sortie initiales.\n",
    "\n",
    "Score de V-mesure (V-measure score): Il est une combinaison de l'indice de Rand et de l'indice de Jaccard. Il prend en compte à la fois la similitude entre les prédictions et les variables de sortie initiales et le nombre de clusters dans les deux ensembles de données. Il varie entre 0 et 1, où une valeur de 1 indique une correspondance parfaite entre les prédictions et les variables de sortie initiales.\n",
    "\n",
    "Score de silhouette (Silhouette score) : Il évalue la qualité de l'affectation des points de données à des clusters en comparant la proximité des points de données à leur propre cluster et à d'autres clusters. Il varie entre -1 et 1, où une valeur de 1 indique une affectation très bonne des points de données à des clusters.\n",
    "\n",
    "Nous allons combiner ces méthodes pour obtenir une évaluation complète de la qualité du modèle k-means."
   ]
  },
  {
   "cell_type": "code",
   "execution_count": 9,
   "id": "b306c3dc",
   "metadata": {},
   "outputs": [
    {
     "name": "stdout",
     "output_type": "stream",
     "text": [
      "Score de V-mesure:  0.7605670701550687\n",
      "Indice de silhouette:  0.3858405430625669\n"
     ]
    }
   ],
   "source": [
    "#Calculer le V-measure score\n",
    "v_measure = v_measure_score(species, y_pred)\n",
    "print(\"Score de V-mesure: \", v_measure)\n",
    "\n",
    "#Calculer l'indice de silhouette\n",
    "silhouette = silhouette_score(Penguin, y_pred)\n",
    "print(\"Indice de silhouette: \", silhouette)\n"
   ]
  },
  {
   "cell_type": "markdown",
   "id": "a9da1f19",
   "metadata": {},
   "source": [
    "V-mesure est très proche de 1, En général, une valeur proche de 1 indique que les prédictions sont très similaires aux variables de sortie initiales. \n",
    "Par contre, notre silhouette score est très proche de 0. Une valeur proche de 0 indique que les points de données sont sur la frontière entre les clusters."
   ]
  },
  {
   "cell_type": "markdown",
   "id": "4be6c2d2",
   "metadata": {},
   "source": [
    "# Amelioration de Kmeans "
   ]
  },
  {
   "cell_type": "markdown",
   "id": "4a56046b",
   "metadata": {},
   "source": [
    "À vous de jouer !\n",
    "Le but est d'améliorer ce score grâce aux différentes méthodes de nettoyage de données et aussi des paramètres de kmeans! "
   ]
  },
  {
   "cell_type": "code",
   "execution_count": null,
   "id": "dcd48cf6",
   "metadata": {},
   "outputs": [],
   "source": []
  }
 ],
 "metadata": {
  "kernelspec": {
   "display_name": "Python 3",
   "language": "python",
   "name": "python3"
  },
  "language_info": {
   "codemirror_mode": {
    "name": "ipython",
    "version": 3
   },
   "file_extension": ".py",
   "mimetype": "text/x-python",
   "name": "python",
   "nbconvert_exporter": "python",
   "pygments_lexer": "ipython3",
   "version": "3.8.8"
  }
 },
 "nbformat": 4,
 "nbformat_minor": 5
}
