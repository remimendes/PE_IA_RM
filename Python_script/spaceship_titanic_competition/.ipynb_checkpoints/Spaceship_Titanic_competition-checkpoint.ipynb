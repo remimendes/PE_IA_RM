{
 "cells": [
  {
   "cell_type": "code",
   "execution_count": 1,
   "id": "1d517b7e",
   "metadata": {},
   "outputs": [],
   "source": [
    "#on importe toutes les bibliothèques\n",
    "import pandas as pd\n",
    "import seaborn as sns\n",
    "\n",
    "\n",
    "import numpy as np # linear algebra\n",
    "import pandas as pd # data processing, CSV file I/O (e.g. pd.read_csv)\n",
    "import datetime\n",
    "import multiprocessing\n",
    "import pandas as pd\n",
    "from sklearn.base import BaseEstimator, TransformerMixin\n",
    "from sklearn.ensemble import RandomForestClassifier\n",
    "from sklearn.impute import SimpleImputer\n",
    "from sklearn.linear_model import LogisticRegression\n",
    "from sklearn import metrics\n",
    "from sklearn.pipeline import FeatureUnion, Pipeline \n",
    "from sklearn.preprocessing import StandardScaler, OneHotEncoder\n",
    "from sklearn.model_selection import GridSearchCV, TimeSeriesSplit\n",
    "import sys\n",
    "from sklearn.pipeline import Pipeline, make_pipeline\n",
    "from sklearn.ensemble import RandomForestClassifier, VotingClassifier\n",
    "from sklearn.svm import SVC\n",
    "from sklearn.tree import DecisionTreeClassifier\n",
    "from sklearn.preprocessing import OrdinalEncoder, OneHotEncoder, StandardScaler, FunctionTransformer\n",
    "from sklearn.compose import ColumnTransformer\n",
    "from sklearn.model_selection import  RandomizedSearchCV, cross_val_predict, cross_val_score\n",
    "from scipy.stats import randint\n",
    "from sklearn.metrics import confusion_matrix, ConfusionMatrixDisplay\n",
    "import matplotlib.pyplot as plt\n",
    "#import xgboost as xgb\n",
    "import seaborn as sns\n",
    "import os"
   ]
  },
  {
   "cell_type": "code",
   "execution_count": 2,
   "id": "62ce8c7b",
   "metadata": {},
   "outputs": [],
   "source": [
    "train_data=pd.read_csv(\"data/train.csv\")\n",
    "X_test=pd.read_csv(\"data/test.csv\")"
   ]
  },
  {
   "cell_type": "code",
   "execution_count": 3,
   "id": "85dc6e5f",
   "metadata": {},
   "outputs": [
    {
     "name": "stdout",
     "output_type": "stream",
     "text": [
      "<class 'pandas.core.frame.DataFrame'>\n",
      "RangeIndex: 8693 entries, 0 to 8692\n",
      "Data columns (total 14 columns):\n",
      " #   Column        Non-Null Count  Dtype  \n",
      "---  ------        --------------  -----  \n",
      " 0   PassengerId   8693 non-null   object \n",
      " 1   HomePlanet    8492 non-null   object \n",
      " 2   CryoSleep     8476 non-null   object \n",
      " 3   Cabin         8494 non-null   object \n",
      " 4   Destination   8511 non-null   object \n",
      " 5   Age           8514 non-null   float64\n",
      " 6   VIP           8490 non-null   object \n",
      " 7   RoomService   8512 non-null   float64\n",
      " 8   FoodCourt     8510 non-null   float64\n",
      " 9   ShoppingMall  8485 non-null   float64\n",
      " 10  Spa           8510 non-null   float64\n",
      " 11  VRDeck        8505 non-null   float64\n",
      " 12  Name          8493 non-null   object \n",
      " 13  Transported   8693 non-null   bool   \n",
      "dtypes: bool(1), float64(6), object(7)\n",
      "memory usage: 891.5+ KB\n"
     ]
    }
   ],
   "source": [
    "train_data.info()"
   ]
  },
  {
   "cell_type": "code",
   "execution_count": 4,
   "id": "7e7237f6",
   "metadata": {},
   "outputs": [
    {
     "data": {
      "text/html": [
       "<div>\n",
       "<style scoped>\n",
       "    .dataframe tbody tr th:only-of-type {\n",
       "        vertical-align: middle;\n",
       "    }\n",
       "\n",
       "    .dataframe tbody tr th {\n",
       "        vertical-align: top;\n",
       "    }\n",
       "\n",
       "    .dataframe thead th {\n",
       "        text-align: right;\n",
       "    }\n",
       "</style>\n",
       "<table border=\"1\" class=\"dataframe\">\n",
       "  <thead>\n",
       "    <tr style=\"text-align: right;\">\n",
       "      <th></th>\n",
       "      <th>Age</th>\n",
       "      <th>RoomService</th>\n",
       "      <th>FoodCourt</th>\n",
       "      <th>ShoppingMall</th>\n",
       "      <th>Spa</th>\n",
       "      <th>VRDeck</th>\n",
       "    </tr>\n",
       "  </thead>\n",
       "  <tbody>\n",
       "    <tr>\n",
       "      <th>count</th>\n",
       "      <td>8514.000000</td>\n",
       "      <td>8512.000000</td>\n",
       "      <td>8510.000000</td>\n",
       "      <td>8485.000000</td>\n",
       "      <td>8510.000000</td>\n",
       "      <td>8505.000000</td>\n",
       "    </tr>\n",
       "    <tr>\n",
       "      <th>mean</th>\n",
       "      <td>28.827930</td>\n",
       "      <td>224.687617</td>\n",
       "      <td>458.077203</td>\n",
       "      <td>173.729169</td>\n",
       "      <td>311.138778</td>\n",
       "      <td>304.854791</td>\n",
       "    </tr>\n",
       "    <tr>\n",
       "      <th>std</th>\n",
       "      <td>14.489021</td>\n",
       "      <td>666.717663</td>\n",
       "      <td>1611.489240</td>\n",
       "      <td>604.696458</td>\n",
       "      <td>1136.705535</td>\n",
       "      <td>1145.717189</td>\n",
       "    </tr>\n",
       "    <tr>\n",
       "      <th>min</th>\n",
       "      <td>0.000000</td>\n",
       "      <td>0.000000</td>\n",
       "      <td>0.000000</td>\n",
       "      <td>0.000000</td>\n",
       "      <td>0.000000</td>\n",
       "      <td>0.000000</td>\n",
       "    </tr>\n",
       "    <tr>\n",
       "      <th>25%</th>\n",
       "      <td>19.000000</td>\n",
       "      <td>0.000000</td>\n",
       "      <td>0.000000</td>\n",
       "      <td>0.000000</td>\n",
       "      <td>0.000000</td>\n",
       "      <td>0.000000</td>\n",
       "    </tr>\n",
       "    <tr>\n",
       "      <th>50%</th>\n",
       "      <td>27.000000</td>\n",
       "      <td>0.000000</td>\n",
       "      <td>0.000000</td>\n",
       "      <td>0.000000</td>\n",
       "      <td>0.000000</td>\n",
       "      <td>0.000000</td>\n",
       "    </tr>\n",
       "    <tr>\n",
       "      <th>75%</th>\n",
       "      <td>38.000000</td>\n",
       "      <td>47.000000</td>\n",
       "      <td>76.000000</td>\n",
       "      <td>27.000000</td>\n",
       "      <td>59.000000</td>\n",
       "      <td>46.000000</td>\n",
       "    </tr>\n",
       "    <tr>\n",
       "      <th>max</th>\n",
       "      <td>79.000000</td>\n",
       "      <td>14327.000000</td>\n",
       "      <td>29813.000000</td>\n",
       "      <td>23492.000000</td>\n",
       "      <td>22408.000000</td>\n",
       "      <td>24133.000000</td>\n",
       "    </tr>\n",
       "  </tbody>\n",
       "</table>\n",
       "</div>"
      ],
      "text/plain": [
       "               Age   RoomService     FoodCourt  ShoppingMall           Spa  \\\n",
       "count  8514.000000   8512.000000   8510.000000   8485.000000   8510.000000   \n",
       "mean     28.827930    224.687617    458.077203    173.729169    311.138778   \n",
       "std      14.489021    666.717663   1611.489240    604.696458   1136.705535   \n",
       "min       0.000000      0.000000      0.000000      0.000000      0.000000   \n",
       "25%      19.000000      0.000000      0.000000      0.000000      0.000000   \n",
       "50%      27.000000      0.000000      0.000000      0.000000      0.000000   \n",
       "75%      38.000000     47.000000     76.000000     27.000000     59.000000   \n",
       "max      79.000000  14327.000000  29813.000000  23492.000000  22408.000000   \n",
       "\n",
       "             VRDeck  \n",
       "count   8505.000000  \n",
       "mean     304.854791  \n",
       "std     1145.717189  \n",
       "min        0.000000  \n",
       "25%        0.000000  \n",
       "50%        0.000000  \n",
       "75%       46.000000  \n",
       "max    24133.000000  "
      ]
     },
     "execution_count": 4,
     "metadata": {},
     "output_type": "execute_result"
    }
   ],
   "source": [
    "train_data.describe()"
   ]
  },
  {
   "cell_type": "code",
   "execution_count": 5,
   "id": "08a5e705",
   "metadata": {},
   "outputs": [
    {
     "data": {
      "text/plain": [
       "PassengerId       0\n",
       "HomePlanet      201\n",
       "CryoSleep       217\n",
       "Cabin           199\n",
       "Destination     182\n",
       "Age             179\n",
       "VIP             203\n",
       "RoomService     181\n",
       "FoodCourt       183\n",
       "ShoppingMall    208\n",
       "Spa             183\n",
       "VRDeck          188\n",
       "Name            200\n",
       "Transported       0\n",
       "dtype: int64"
      ]
     },
     "execution_count": 5,
     "metadata": {},
     "output_type": "execute_result"
    }
   ],
   "source": [
    "train_data.isnull().sum()"
   ]
  },
  {
   "cell_type": "code",
   "execution_count": 6,
   "id": "99f069a2",
   "metadata": {},
   "outputs": [
    {
     "data": {
      "text/plain": [
       "193.66666666666666"
      ]
     },
     "execution_count": 6,
     "metadata": {},
     "output_type": "execute_result"
    }
   ],
   "source": [
    "train_data.isnull().sum().sum()/12 # calcul de la moyenne des données null"
   ]
  },
  {
   "cell_type": "code",
   "execution_count": 7,
   "id": "9fbba3f0",
   "metadata": {},
   "outputs": [],
   "source": [
    "#On créer une fonction qui permet de calculer le taux de survit en fonction de l'attribut\n",
    "def survival_rate(df,feature_name):\n",
    "    group_count=df[[feature_name,'Transported']].groupby(feature_name).count().rename(columns={'Transported':'Passengers'})\n",
    "    group_survived= df[[feature_name,'Transported']].groupby(feature_name).sum().rename(columns={'Transported':'Survived'})\n",
    "    final_df= group_count.merge(group_survived,how=\"left\",left_index=True,right_index=True)\n",
    "    final_df['Survival_rate']=final_df['Survived']/final_df['Passengers']\n",
    "    final_df.drop(columns={'Passengers','Survived'},inplace=True)\n",
    "    return final_df"
   ]
  },
  {
   "cell_type": "code",
   "execution_count": 26,
   "id": "7995ec4b",
   "metadata": {
    "scrolled": true
   },
   "outputs": [
    {
     "name": "stdout",
     "output_type": "stream",
     "text": [
      "       Survival_rate\n",
      "VIP                 \n",
      "False       0.506332\n",
      "True        0.381910\n"
     ]
    },
    {
     "data": {
      "text/plain": [
       "<AxesSubplot:xlabel='VIP', ylabel='Survival_rate'>"
      ]
     },
     "execution_count": 26,
     "metadata": {},
     "output_type": "execute_result"
    },
    {
     "data": {
      "image/png": "[encoded data removed]",
      "text/plain": [
       "<Figure size 432x288 with 1 Axes>"
      ]
     },
     "metadata": {},
     "output_type": "display_data"
    }
   ],
   "source": [
    "print(survival_rate(train_data, \"VIP\"))\n",
    "sns.set_style(\"whitegrid\")\n",
    "sns.barplot(data=survival_rate(train_data, \"VIP\").reset_index(),x=\"VIP\",y=\"Survival_rate\")"
   ]
  },
  {
   "cell_type": "code",
   "execution_count": 27,
   "id": "14055386",
   "metadata": {},
   "outputs": [
    {
     "name": "stdout",
     "output_type": "stream",
     "text": [
      "           Survival_rate\n",
      "CryoSleep               \n",
      "False           0.328921\n",
      "True            0.817583\n"
     ]
    },
    {
     "data": {
      "text/plain": [
       "<AxesSubplot:xlabel='CryoSleep', ylabel='Survival_rate'>"
      ]
     },
     "execution_count": 27,
     "metadata": {},
     "output_type": "execute_result"
    },
    {
     "data": {
      "image/png": "[encoded data removed]",
      "text/plain": [
       "<Figure size 432x288 with 1 Axes>"
      ]
     },
     "metadata": {},
     "output_type": "display_data"
    }
   ],
   "source": [
    "print(survival_rate(train_data, \"CryoSleep\"))\n",
    "sns.set_style(\"whitegrid\")\n",
    "sns.barplot(data=survival_rate(train_data, \"CryoSleep\").reset_index(),x=\"CryoSleep\",y=\"Survival_rate\")"
   ]
  },
  {
   "cell_type": "code",
   "execution_count": 28,
   "id": "820c5b1c",
   "metadata": {},
   "outputs": [
    {
     "name": "stdout",
     "output_type": "stream",
     "text": [
      "            Survival_rate\n",
      "HomePlanet               \n",
      "Earth            0.423946\n",
      "Europa           0.658846\n",
      "Mars             0.523024\n"
     ]
    },
    {
     "data": {
      "text/plain": [
       "<AxesSubplot:xlabel='HomePlanet', ylabel='Survival_rate'>"
      ]
     },
     "execution_count": 28,
     "metadata": {},
     "output_type": "execute_result"
    },
    {
     "data": {
      "image/png": "[encoded data removed]",
      "text/plain": [
       "<Figure size 432x288 with 1 Axes>"
      ]
     },
     "metadata": {},
     "output_type": "display_data"
    }
   ],
   "source": [
    "print(survival_rate(train_data, \"HomePlanet\"))\n",
    "sns.set_style(\"whitegrid\")\n",
    "sns.barplot(data=survival_rate(train_data, \"HomePlanet\").reset_index(),x=\"HomePlanet\",y=\"Survival_rate\")"
   ]
  },
  {
   "cell_type": "code",
   "execution_count": 29,
   "id": "d6c8b6cc",
   "metadata": {},
   "outputs": [
    {
     "name": "stdout",
     "output_type": "stream",
     "text": [
      "               Survival_rate\n",
      "Destination                 \n",
      "55 Cancri e         0.610000\n",
      "PSO J318.5-22       0.503769\n",
      "TRAPPIST-1e         0.471175\n"
     ]
    },
    {
     "data": {
      "text/plain": [
       "<AxesSubplot:xlabel='Destination', ylabel='Survival_rate'>"
      ]
     },
     "execution_count": 29,
     "metadata": {},
     "output_type": "execute_result"
    },
    {
     "data": {
      "image/png": "[encoded data removed]",
      "text/plain": [
       "<Figure size 432x288 with 1 Axes>"
      ]
     },
     "metadata": {},
     "output_type": "display_data"
    }
   ],
   "source": [
    "print(survival_rate(train_data, \"Destination\"))\n",
    "sns.set_style(\"whitegrid\")\n",
    "sns.barplot(data=survival_rate(train_data, \"Destination\").reset_index(),x=\"Destination\",y=\"Survival_rate\")"
   ]
  },
  {
   "cell_type": "code",
   "execution_count": 31,
   "id": "a1903c56",
   "metadata": {},
   "outputs": [],
   "source": [
    "#on créer une feature qui représente le groupe et une leur numéro du groupe\n",
    "train_data[\"group\"]=train_data[\"PassengerId\"].str.slice(stop=4)\n",
    "X_test[\"group\"]=X_test[\"PassengerId\"].str.slice(stop=4)\n",
    "\n",
    "train_data[\"number\"]=train_data[\"PassengerId\"].str.slice(start=5)\n",
    "X_test[\"number\"]=X_test[\"PassengerId\"].str.slice(start=5)\n",
    "\n",
    "train_data['totalTips']=train_data['RoomService']+train_data['FoodCourt']+train_data['ShoppingMall']+train_data['Spa']+train_data['VRDeck']\n",
    "X_test['totalTips']=X_test['RoomService']+X_test['FoodCourt']+X_test['ShoppingMall']+X_test['Spa']+X_test['VRDeck']\n",
    "\n",
    "train_data[\"AgeBucket\"] = train_data[\"Age\"] // 15 * 15 #on créer un age bucket\n",
    "train_data=train_data.merge(train_data.groupby(by=['group']).count().rename(columns={\"PassengerId\": \"numberInGroup\"})[\"numberInGroup\"],on=\"group\")\n",
    "\n",
    "X_test[\"AgeBucket\"] = X_test[\"Age\"] // 15 * 15 #on créer un age bucket\n",
    "X_test=X_test.merge(X_test.groupby(by=['group']).count().rename(columns={\"PassengerId\": \"numberInGroup\"})[\"numberInGroup\"],on=\"group\")\n",
    "\n",
    "train_data[\"totalTipsBucket\"] = train_data[\"totalTips\"] // 5000 * 5000 #on créer un totalTips bucket\n",
    "X_test[\"totalTipsBucket\"] = X_test[\"totalTips\"] // 5000 * 5000 #on créer un totalTips bucket\n",
    "\n",
    "\n",
    "group_wise=train_data[['Cabin','PassengerId']].groupby(['Cabin']).count().rename(columns={\"PassengerId\":\"numberInCabin\"})\n",
    "train_data=pd.merge(train_data,group_wise,how=\"left\",left_on=\"Cabin\",right_index=True)\n",
    "\n",
    "group_wise=X_test[['Cabin','PassengerId']].groupby(['Cabin']).count().rename(columns={\"PassengerId\":\"numberInCabin\"})\n",
    "X_test=pd.merge(X_test,group_wise,how=\"left\",left_on=\"Cabin\",right_index=True)\n",
    "\n",
    "train_data['Deck']=train_data['Cabin'].str.split('/', expand=True)[0]\n",
    "train_data['Side']=train_data['Cabin'].str.split('/', expand=True)[2]\n",
    "\n",
    "X_test['Deck']=X_test['Cabin'].str.split('/', expand=True)[0]\n",
    "X_test['Side']=X_test['Cabin'].str.split('/', expand=True)[2]"
   ]
  },
  {
   "cell_type": "code",
   "execution_count": 32,
   "id": "dfe55ce5",
   "metadata": {},
   "outputs": [
    {
     "name": "stdout",
     "output_type": "stream",
     "text": [
      "8\n",
      "6217\n"
     ]
    }
   ],
   "source": [
    "print(train_data[\"number\"].nunique())\n",
    "print(train_data[\"group\"].nunique())"
   ]
  },
  {
   "cell_type": "markdown",
   "id": "d28c44a2",
   "metadata": {},
   "source": [
    "on remarque qu'il y a beaucoup trop de groupe pour utiliser le onehot encoder dessus ou encore comparer le taux de survie, mais on peut utiliser les numbers"
   ]
  },
  {
   "cell_type": "code",
   "execution_count": 33,
   "id": "c428447a",
   "metadata": {},
   "outputs": [
    {
     "name": "stdout",
     "output_type": "stream",
     "text": [
      "           Survival_rate\n",
      "AgeBucket               \n",
      "0.0             0.657143\n",
      "15.0            0.483442\n",
      "30.0            0.474511\n",
      "45.0            0.491886\n",
      "60.0            0.475000\n",
      "75.0            0.357143\n"
     ]
    },
    {
     "data": {
      "text/plain": [
       "<AxesSubplot:xlabel='AgeBucket', ylabel='Survival_rate'>"
      ]
     },
     "execution_count": 33,
     "metadata": {},
     "output_type": "execute_result"
    },
    {
     "data": {
      "image/png": "[encoded data removed]",
      "text/plain": [
       "<Figure size 432x288 with 1 Axes>"
      ]
     },
     "metadata": {},
     "output_type": "display_data"
    }
   ],
   "source": [
    "print(survival_rate(train_data, \"AgeBucket\"))\n",
    "sns.set_style(\"whitegrid\")\n",
    "sns.barplot(data=survival_rate(train_data, \"AgeBucket\").reset_index(),x=\"AgeBucket\",y=\"Survival_rate\")"
   ]
  },
  {
   "cell_type": "code",
   "execution_count": 34,
   "id": "01b999db",
   "metadata": {},
   "outputs": [
    {
     "name": "stdout",
     "output_type": "stream",
     "text": [
      "               Survival_rate\n",
      "numberInGroup               \n",
      "1                   0.452445\n",
      "2                   0.538050\n",
      "3                   0.593137\n",
      "4                   0.640777\n",
      "5                   0.592453\n",
      "6                   0.614943\n",
      "7                   0.541126\n",
      "8                   0.394231\n"
     ]
    },
    {
     "data": {
      "text/plain": [
       "<AxesSubplot:xlabel='numberInGroup', ylabel='Survival_rate'>"
      ]
     },
     "execution_count": 34,
     "metadata": {},
     "output_type": "execute_result"
    },
    {
     "data": {
      "image/png": "[encoded data removed]",
      "text/plain": [
       "<Figure size 432x288 with 1 Axes>"
      ]
     },
     "metadata": {},
     "output_type": "display_data"
    }
   ],
   "source": [
    "print(survival_rate(train_data, \"numberInGroup\"))\n",
    "sns.set_style(\"whitegrid\")\n",
    "sns.barplot(data=survival_rate(train_data, \"numberInGroup\").reset_index(),x=\"numberInGroup\",y=\"Survival_rate\")"
   ]
  },
  {
   "cell_type": "code",
   "execution_count": 35,
   "id": "c7a72e66",
   "metadata": {},
   "outputs": [
    {
     "name": "stdout",
     "output_type": "stream",
     "text": [
      "                 Survival_rate\n",
      "totalTipsBucket               \n",
      "0.0                   0.517045\n",
      "5000.0                0.334118\n",
      "10000.0               0.336842\n",
      "15000.0               0.307692\n",
      "20000.0               0.142857\n",
      "25000.0               0.250000\n",
      "30000.0               0.666667\n",
      "35000.0               0.000000\n"
     ]
    },
    {
     "data": {
      "text/plain": [
       "<AxesSubplot:xlabel='totalTipsBucket', ylabel='Survival_rate'>"
      ]
     },
     "execution_count": 35,
     "metadata": {},
     "output_type": "execute_result"
    },
    {
     "data": {
      "image/png": "[encoded data removed]",
      "text/plain": [
       "<Figure size 432x288 with 1 Axes>"
      ]
     },
     "metadata": {},
     "output_type": "display_data"
    }
   ],
   "source": [
    "print(survival_rate(train_data, \"totalTipsBucket\"))\n",
    "sns.set_style(\"whitegrid\")\n",
    "sns.barplot(data=survival_rate(train_data, \"totalTipsBucket\").reset_index(),x=\"totalTipsBucket\",y=\"Survival_rate\")"
   ]
  },
  {
   "cell_type": "code",
   "execution_count": 36,
   "id": "1d60b651",
   "metadata": {},
   "outputs": [
    {
     "name": "stdout",
     "output_type": "stream",
     "text": [
      "               Survival_rate\n",
      "numberInCabin               \n",
      "1.0                 0.445550\n",
      "2.0                 0.595481\n",
      "3.0                 0.611780\n",
      "4.0                 0.634615\n",
      "5.0                 0.604255\n",
      "6.0                 0.631313\n",
      "7.0                 0.571429\n",
      "8.0                 0.375000\n"
     ]
    },
    {
     "data": {
      "text/plain": [
       "<AxesSubplot:xlabel='numberInCabin', ylabel='Survival_rate'>"
      ]
     },
     "execution_count": 36,
     "metadata": {},
     "output_type": "execute_result"
    },
    {
     "data": {
      "image/png": "[encoded data removed]",
      "text/plain": [
       "<Figure size 432x288 with 1 Axes>"
      ]
     },
     "metadata": {},
     "output_type": "display_data"
    }
   ],
   "source": [
    "print(survival_rate(train_data, \"numberInCabin\"))\n",
    "sns.set_style(\"whitegrid\")\n",
    "sns.barplot(data=survival_rate(train_data, \"numberInCabin\").reset_index(),x=\"numberInCabin\",y=\"Survival_rate\")"
   ]
  },
  {
   "cell_type": "code",
   "execution_count": 18,
   "id": "d76e06c2",
   "metadata": {},
   "outputs": [],
   "source": [
    "from sklearn.pipeline import Pipeline\n",
    "from sklearn.impute import SimpleImputer\n",
    "from sklearn.preprocessing import StandardScaler\n",
    "\n",
    "num_pipeline = Pipeline([\n",
    "        (\"imputer\", SimpleImputer(strategy=\"median\")),\n",
    "        (\"scaler\", StandardScaler())\n",
    "    ])"
   ]
  },
  {
   "cell_type": "code",
   "execution_count": 19,
   "id": "f477a35a",
   "metadata": {},
   "outputs": [],
   "source": [
    "from sklearn.preprocessing import OneHotEncoder\n",
    "cat_pipeline = Pipeline([\n",
    "        (\"imputer\", SimpleImputer(strategy=\"most_frequent\")),\n",
    "        (\"cat_encoder\", OneHotEncoder()),\n",
    "    ])"
   ]
  },
  {
   "cell_type": "code",
   "execution_count": 20,
   "id": "15ea7bc0",
   "metadata": {},
   "outputs": [],
   "source": [
    "from sklearn.compose import ColumnTransformer\n",
    "#pour l'instant on n'utilise pas tout, on se contente pour l'instant du plus simple\n",
    "num_attribs = [\"Age\",\"RoomService\", \"FoodCourt\", \"ShoppingMall\",\"Spa\",\"VRDeck\",\"totalTips\",\"numberInGroup\",\"numberInCabin\"]\n",
    "cat_attribs = [\"HomePlanet\", \"CryoSleep\", \"Destination\",\"VIP\"]\n",
    "\n",
    "preprocess_pipeline = ColumnTransformer([\n",
    "        (\"num\", num_pipeline, num_attribs),\n",
    "        (\"cat\", cat_pipeline, cat_attribs),\n",
    "    ])\n",
    "\n",
    "X_train=train_data.copy()\n",
    "X_train=X_train.drop(columns=[\"Transported\"])\n",
    "y_train=train_data[\"Transported\"]\n",
    "\n"
   ]
  },
  {
   "cell_type": "code",
   "execution_count": 21,
   "id": "82d1d331",
   "metadata": {},
   "outputs": [
    {
     "data": {
      "text/plain": [
       "0.7822402048588059"
      ]
     },
     "execution_count": 21,
     "metadata": {},
     "output_type": "execute_result"
    }
   ],
   "source": [
    "from sklearn.model_selection import cross_val_score\n",
    "from sklearn.svm import SVC\n",
    "\n",
    "clf = Pipeline(\n",
    "    steps=[(\"preprocessor\", preprocess_pipeline), (\"classifier\", SVC(random_state=42))]\n",
    ")\n",
    "\n",
    "dt_scores = cross_val_score(clf, X_train, y_train, cv=3)\n",
    "dt_scores.mean()"
   ]
  },
  {
   "cell_type": "code",
   "execution_count": 22,
   "id": "effbf445",
   "metadata": {},
   "outputs": [
    {
     "data": {
      "text/plain": [
       "0.7777530423220868"
      ]
     },
     "execution_count": 22,
     "metadata": {},
     "output_type": "execute_result"
    }
   ],
   "source": [
    "from sklearn.ensemble import RandomForestClassifier\n",
    "\n",
    "clf = Pipeline(\n",
    "    steps=[(\"preprocessor\", preprocess_pipeline), (\"classifier\", RandomForestClassifier(random_state=42))]\n",
    ")\n",
    "\n",
    "dt_scores = cross_val_score(clf, X_train, y_train, cv=3)\n",
    "dt_scores.mean()"
   ]
  },
  {
   "cell_type": "code",
   "execution_count": 23,
   "id": "de66bb90",
   "metadata": {},
   "outputs": [
    {
     "data": {
      "text/plain": [
       "0.7166696881244164"
      ]
     },
     "execution_count": 23,
     "metadata": {},
     "output_type": "execute_result"
    }
   ],
   "source": [
    "from sklearn.tree import DecisionTreeClassifier\n",
    "\n",
    "clf = Pipeline(\n",
    "    steps=[(\"preprocessor\", preprocess_pipeline), (\"classifier\", DecisionTreeClassifier(random_state=42))]\n",
    ")\n",
    "\n",
    "dt_scores = cross_val_score(clf, X_train, y_train, cv=3)\n",
    "dt_scores.mean()"
   ]
  },
  {
   "cell_type": "code",
   "execution_count": 24,
   "id": "9c1f2001",
   "metadata": {},
   "outputs": [
    {
     "data": {
      "text/plain": [
       "0.7547456937080387"
      ]
     },
     "execution_count": 24,
     "metadata": {},
     "output_type": "execute_result"
    }
   ],
   "source": [
    "from sklearn.neighbors import KNeighborsClassifier\n",
    "\n",
    "clf = Pipeline(\n",
    "    steps=[(\"preprocessor\", preprocess_pipeline), (\"classifier\", KNeighborsClassifier())]\n",
    ")\n",
    "\n",
    "dt_scores = cross_val_score(clf, X_train, y_train, cv=3)\n",
    "dt_scores.mean()"
   ]
  },
  {
   "cell_type": "code",
   "execution_count": 25,
   "id": "19c1d352",
   "metadata": {},
   "outputs": [
    {
     "data": {
      "text/plain": [
       "0.7831601414693369"
      ]
     },
     "execution_count": 25,
     "metadata": {},
     "output_type": "execute_result"
    }
   ],
   "source": [
    "from sklearn.ensemble import BaggingClassifier\n",
    "\n",
    "clf = Pipeline(\n",
    "    steps=[(\"preprocessor\", preprocess_pipeline), (\"classifier\", BaggingClassifier(estimator=SVC(random_state=42), random_state=42))]\n",
    ")\n",
    "\n",
    "dt_scores = cross_val_score(clf, X_train, y_train, cv=3)\n",
    "dt_scores.mean()"
   ]
  },
  {
   "cell_type": "code",
   "execution_count": 26,
   "id": "5e8ed505",
   "metadata": {},
   "outputs": [
    {
     "data": {
      "text/plain": [
       "0.7824694544914864"
      ]
     },
     "execution_count": 26,
     "metadata": {},
     "output_type": "execute_result"
    }
   ],
   "source": [
    "from sklearn.ensemble import BaggingClassifier\n",
    "\n",
    "clf = Pipeline(\n",
    "    steps=[(\"preprocessor\", preprocess_pipeline), (\"classifier\", BaggingClassifier(estimator=RandomForestClassifier(random_state=42), random_state=42))]\n",
    ")\n",
    "\n",
    "dt_scores = cross_val_score(clf, X_train, y_train, cv=3)\n",
    "dt_scores.mean()"
   ]
  },
  {
   "cell_type": "code",
   "execution_count": 27,
   "id": "963ba155",
   "metadata": {},
   "outputs": [
    {
     "data": {
      "text/plain": [
       "0.7633727695110535"
      ]
     },
     "execution_count": 27,
     "metadata": {},
     "output_type": "execute_result"
    }
   ],
   "source": [
    "from sklearn.ensemble import BaggingClassifier\n",
    "\n",
    "clf = Pipeline(\n",
    "    steps=[(\"preprocessor\", preprocess_pipeline), (\"classifier\", BaggingClassifier(estimator=DecisionTreeClassifier(random_state=42), random_state=42))]\n",
    ")\n",
    "\n",
    "dt_scores = cross_val_score(clf, X_train, y_train, cv=3)\n",
    "dt_scores.mean()"
   ]
  },
  {
   "cell_type": "code",
   "execution_count": 28,
   "id": "f4d67e65",
   "metadata": {},
   "outputs": [
    {
     "data": {
      "text/plain": [
       "0.7588869569028954"
      ]
     },
     "execution_count": 28,
     "metadata": {},
     "output_type": "execute_result"
    }
   ],
   "source": [
    "from sklearn.ensemble import BaggingClassifier\n",
    "\n",
    "clf = Pipeline(\n",
    "    steps=[(\"preprocessor\", preprocess_pipeline), (\"classifier\", BaggingClassifier(estimator=KNeighborsClassifier(), random_state=42))]\n",
    ")\n",
    "\n",
    "dt_scores = cross_val_score(clf, X_train, y_train, cv=3)\n",
    "dt_scores.mean()"
   ]
  },
  {
   "cell_type": "markdown",
   "id": "ddf8092d",
   "metadata": {},
   "source": [
    "On va maintenant effectuer les mêmes tests mais en changeant les features deck et Side :"
   ]
  },
  {
   "cell_type": "code",
   "execution_count": 29,
   "id": "4e6375e9",
   "metadata": {},
   "outputs": [],
   "source": [
    "from sklearn.compose import ColumnTransformer\n",
    "#pour l'instant on n'utilise pas tout, on se contente pour l'instant du plus simple\n",
    "num_attribs = [\"Age\",\"RoomService\", \"FoodCourt\", \"ShoppingMall\",\"Spa\",\"VRDeck\",\"totalTips\",\"numberInGroup\",\"numberInCabin\"]\n",
    "cat_attribs = [\"HomePlanet\", \"CryoSleep\", \"Destination\",\"VIP\", \"Side\", \"Deck\"]\n",
    "\n",
    "preprocess_pipeline = ColumnTransformer([\n",
    "        (\"num\", num_pipeline, num_attribs),\n",
    "        (\"cat\", cat_pipeline, cat_attribs),\n",
    "    ])\n",
    "\n",
    "X_train=train_data.copy()\n",
    "X_train=X_train.drop(columns=[\"Transported\"])\n",
    "y_train=train_data[\"Transported\"]"
   ]
  },
  {
   "cell_type": "code",
   "execution_count": 30,
   "id": "dd713c35",
   "metadata": {},
   "outputs": [
    {
     "data": {
      "text/plain": [
       "0.7933992701968569"
      ]
     },
     "execution_count": 30,
     "metadata": {},
     "output_type": "execute_result"
    }
   ],
   "source": [
    "from sklearn.model_selection import cross_val_score\n",
    "from sklearn.svm import SVC\n",
    "\n",
    "clf = Pipeline(\n",
    "    steps=[(\"preprocessor\", preprocess_pipeline), (\"classifier\", SVC(random_state=42))]\n",
    ")\n",
    "\n",
    "dt_scores = cross_val_score(clf, X_train, y_train, cv=3)\n",
    "dt_scores.mean()"
   ]
  },
  {
   "cell_type": "code",
   "execution_count": 31,
   "id": "c0369963",
   "metadata": {},
   "outputs": [
    {
     "data": {
      "text/plain": [
       "0.7801688585933156"
      ]
     },
     "execution_count": 31,
     "metadata": {},
     "output_type": "execute_result"
    }
   ],
   "source": [
    "from sklearn.ensemble import RandomForestClassifier\n",
    "\n",
    "clf = Pipeline(\n",
    "    steps=[(\"preprocessor\", preprocess_pipeline), (\"classifier\", RandomForestClassifier(random_state=42))]\n",
    ")\n",
    "\n",
    "dt_scores = cross_val_score(clf, X_train, y_train, cv=3)\n",
    "dt_scores.mean()"
   ]
  },
  {
   "cell_type": "code",
   "execution_count": 32,
   "id": "772358ec",
   "metadata": {},
   "outputs": [
    {
     "data": {
      "text/plain": [
       "0.718508687862292"
      ]
     },
     "execution_count": 32,
     "metadata": {},
     "output_type": "execute_result"
    }
   ],
   "source": [
    "from sklearn.tree import DecisionTreeClassifier\n",
    "\n",
    "clf = Pipeline(\n",
    "    steps=[(\"preprocessor\", preprocess_pipeline), (\"classifier\", DecisionTreeClassifier(random_state=42))]\n",
    ")\n",
    "\n",
    "dt_scores = cross_val_score(clf, X_train, y_train, cv=3)\n",
    "dt_scores.mean()"
   ]
  },
  {
   "cell_type": "code",
   "execution_count": 33,
   "id": "db226d08",
   "metadata": {},
   "outputs": [
    {
     "data": {
      "text/plain": [
       "0.7602676558943161"
      ]
     },
     "execution_count": 33,
     "metadata": {},
     "output_type": "execute_result"
    }
   ],
   "source": [
    "from sklearn.neighbors import KNeighborsClassifier\n",
    "\n",
    "clf = Pipeline(\n",
    "    steps=[(\"preprocessor\", preprocess_pipeline), (\"classifier\", KNeighborsClassifier())]\n",
    ")\n",
    "\n",
    "dt_scores = cross_val_score(clf, X_train, y_train, cv=3)\n",
    "dt_scores.mean()"
   ]
  },
  {
   "cell_type": "code",
   "execution_count": 34,
   "id": "9fdae758",
   "metadata": {},
   "outputs": [
    {
     "data": {
      "text/plain": [
       "0.79132836067296"
      ]
     },
     "execution_count": 34,
     "metadata": {},
     "output_type": "execute_result"
    }
   ],
   "source": [
    "from sklearn.ensemble import BaggingClassifier\n",
    "\n",
    "clf = Pipeline(\n",
    "    steps=[(\"preprocessor\", preprocess_pipeline), (\"classifier\", BaggingClassifier(estimator=SVC(random_state=42), random_state=42))]\n",
    ")\n",
    "\n",
    "dt_scores = cross_val_score(clf, X_train, y_train, cv=3)\n",
    "dt_scores.mean()"
   ]
  },
  {
   "cell_type": "code",
   "execution_count": 35,
   "id": "95e20740",
   "metadata": {},
   "outputs": [
    {
     "data": {
      "text/plain": [
       "0.7871864622176039"
      ]
     },
     "execution_count": 35,
     "metadata": {},
     "output_type": "execute_result"
    }
   ],
   "source": [
    "from sklearn.ensemble import BaggingClassifier\n",
    "\n",
    "clf = Pipeline(\n",
    "    steps=[(\"preprocessor\", preprocess_pipeline), (\"classifier\", BaggingClassifier(estimator=RandomForestClassifier(random_state=42), random_state=42))]\n",
    ")\n",
    "\n",
    "dt_scores = cross_val_score(clf, X_train, y_train, cv=3)\n",
    "dt_scores.mean()"
   ]
  },
  {
   "cell_type": "code",
   "execution_count": 36,
   "id": "d39fa083",
   "metadata": {},
   "outputs": [
    {
     "data": {
      "text/plain": [
       "0.769355335263096"
      ]
     },
     "execution_count": 36,
     "metadata": {},
     "output_type": "execute_result"
    }
   ],
   "source": [
    "from sklearn.ensemble import BaggingClassifier\n",
    "\n",
    "clf = Pipeline(\n",
    "    steps=[(\"preprocessor\", preprocess_pipeline), (\"classifier\", BaggingClassifier(estimator=DecisionTreeClassifier(random_state=42), random_state=42))]\n",
    ")\n",
    "\n",
    "dt_scores = cross_val_score(clf, X_train, y_train, cv=3)\n",
    "dt_scores.mean()"
   ]
  },
  {
   "cell_type": "code",
   "execution_count": 37,
   "id": "64913f8e",
   "metadata": {},
   "outputs": [
    {
     "data": {
      "text/plain": [
       "0.7607275844958005"
      ]
     },
     "execution_count": 37,
     "metadata": {},
     "output_type": "execute_result"
    }
   ],
   "source": [
    "from sklearn.ensemble import BaggingClassifier\n",
    "\n",
    "clf = Pipeline(\n",
    "    steps=[(\"preprocessor\", preprocess_pipeline), (\"classifier\", BaggingClassifier(estimator=KNeighborsClassifier(), random_state=42))]\n",
    ")\n",
    "\n",
    "dt_scores = cross_val_score(clf, X_train, y_train, cv=3)\n",
    "dt_scores.mean()"
   ]
  },
  {
   "cell_type": "markdown",
   "id": "cce28401",
   "metadata": {},
   "source": [
    "On va maintenant ajouter les features AgeBucket et totalTipsBucket :"
   ]
  },
  {
   "cell_type": "code",
   "execution_count": 38,
   "id": "35db0c57",
   "metadata": {},
   "outputs": [],
   "source": [
    "from sklearn.compose import ColumnTransformer\n",
    "#pour l'instant on n'utilise pas tout, on se contente pour l'instant du plus simple\n",
    "num_attribs = [\"Age\",\"RoomService\", \"FoodCourt\", \"ShoppingMall\",\"Spa\",\"VRDeck\",\"totalTips\",\"numberInGroup\",\"numberInCabin\",\"AgeBucket\",\"totalTipsBucket\"]\n",
    "cat_attribs = [\"HomePlanet\", \"CryoSleep\", \"Destination\",\"VIP\", \"Side\", \"Deck\"]\n",
    "\n",
    "preprocess_pipeline = ColumnTransformer([\n",
    "        (\"num\", num_pipeline, num_attribs),\n",
    "        (\"cat\", cat_pipeline, cat_attribs),\n",
    "    ])\n",
    "\n",
    "X_train=train_data.copy()\n",
    "X_train=X_train.drop(columns=[\"Transported\"])\n",
    "y_train=train_data[\"Transported\"]"
   ]
  },
  {
   "cell_type": "code",
   "execution_count": 39,
   "id": "949124d9",
   "metadata": {},
   "outputs": [
    {
     "data": {
      "text/plain": [
       "0.7925939981064473"
      ]
     },
     "execution_count": 39,
     "metadata": {},
     "output_type": "execute_result"
    }
   ],
   "source": [
    "from sklearn.model_selection import cross_val_score\n",
    "from sklearn.svm import SVC\n",
    "\n",
    "clf = Pipeline(\n",
    "    steps=[(\"preprocessor\", preprocess_pipeline), (\"classifier\", SVC(random_state=42))]\n",
    ")\n",
    "\n",
    "dt_scores = cross_val_score(clf, X_train, y_train, cv=3)\n",
    "dt_scores.mean()"
   ]
  },
  {
   "cell_type": "code",
   "execution_count": 40,
   "id": "4ae8dae9",
   "metadata": {},
   "outputs": [
    {
     "data": {
      "text/plain": [
       "0.7790184415328868"
      ]
     },
     "execution_count": 40,
     "metadata": {},
     "output_type": "execute_result"
    }
   ],
   "source": [
    "from sklearn.ensemble import RandomForestClassifier\n",
    "\n",
    "clf = Pipeline(\n",
    "    steps=[(\"preprocessor\", preprocess_pipeline), (\"classifier\", RandomForestClassifier(random_state=42))]\n",
    ")\n",
    "\n",
    "dt_scores = cross_val_score(clf, X_train, y_train, cv=3)\n",
    "dt_scores.mean()"
   ]
  },
  {
   "cell_type": "code",
   "execution_count": 41,
   "id": "d605b06d",
   "metadata": {},
   "outputs": [
    {
     "data": {
      "text/plain": [
       "0.7228804315070466"
      ]
     },
     "execution_count": 41,
     "metadata": {},
     "output_type": "execute_result"
    }
   ],
   "source": [
    "from sklearn.tree import DecisionTreeClassifier\n",
    "\n",
    "clf = Pipeline(\n",
    "    steps=[(\"preprocessor\", preprocess_pipeline), (\"classifier\", DecisionTreeClassifier(random_state=42))]\n",
    ")\n",
    "\n",
    "dt_scores = cross_val_score(clf, X_train, y_train, cv=3)\n",
    "dt_scores.mean()"
   ]
  },
  {
   "cell_type": "code",
   "execution_count": 42,
   "id": "0158e184",
   "metadata": {},
   "outputs": [
    {
     "data": {
      "text/plain": [
       "0.7584265915598177"
      ]
     },
     "execution_count": 42,
     "metadata": {},
     "output_type": "execute_result"
    }
   ],
   "source": [
    "from sklearn.neighbors import KNeighborsClassifier\n",
    "\n",
    "clf = Pipeline(\n",
    "    steps=[(\"preprocessor\", preprocess_pipeline), (\"classifier\", KNeighborsClassifier())]\n",
    ")\n",
    "\n",
    "dt_scores = cross_val_score(clf, X_train, y_train, cv=3)\n",
    "dt_scores.mean()"
   ]
  },
  {
   "cell_type": "code",
   "execution_count": 43,
   "id": "44f72818",
   "metadata": {},
   "outputs": [
    {
     "data": {
      "text/plain": [
       "0.7910983169646554"
      ]
     },
     "execution_count": 43,
     "metadata": {},
     "output_type": "execute_result"
    }
   ],
   "source": [
    "from sklearn.ensemble import BaggingClassifier\n",
    "\n",
    "clf = Pipeline(\n",
    "    steps=[(\"preprocessor\", preprocess_pipeline), (\"classifier\", BaggingClassifier(estimator=SVC(random_state=42), random_state=42))]\n",
    ")\n",
    "\n",
    "dt_scores = cross_val_score(clf, X_train, y_train, cv=3)\n",
    "dt_scores.mean()"
   ]
  },
  {
   "cell_type": "code",
   "execution_count": 44,
   "id": "13e3c11d",
   "metadata": {},
   "outputs": [
    {
     "data": {
      "text/plain": [
       "0.7860360848609562"
      ]
     },
     "execution_count": 44,
     "metadata": {},
     "output_type": "execute_result"
    }
   ],
   "source": [
    "from sklearn.ensemble import BaggingClassifier\n",
    "\n",
    "clf = Pipeline(\n",
    "    steps=[(\"preprocessor\", preprocess_pipeline), (\"classifier\", BaggingClassifier(estimator=RandomForestClassifier(random_state=42), random_state=42))]\n",
    ")\n",
    "\n",
    "dt_scores = cross_val_score(clf, X_train, y_train, cv=3)\n",
    "dt_scores.mean()"
   ]
  },
  {
   "cell_type": "code",
   "execution_count": 45,
   "id": "52cff041",
   "metadata": {},
   "outputs": [
    {
     "data": {
      "text/plain": [
       "0.7678598923439913"
      ]
     },
     "execution_count": 45,
     "metadata": {},
     "output_type": "execute_result"
    }
   ],
   "source": [
    "from sklearn.ensemble import BaggingClassifier\n",
    "\n",
    "clf = Pipeline(\n",
    "    steps=[(\"preprocessor\", preprocess_pipeline), (\"classifier\", BaggingClassifier(estimator=DecisionTreeClassifier(random_state=42), random_state=42))]\n",
    ")\n",
    "\n",
    "dt_scores = cross_val_score(clf, X_train, y_train, cv=3)\n",
    "dt_scores.mean()"
   ]
  },
  {
   "cell_type": "code",
   "execution_count": 46,
   "id": "c81527f6",
   "metadata": {},
   "outputs": [
    {
     "data": {
      "text/plain": [
       "0.7584270283014112"
      ]
     },
     "execution_count": 46,
     "metadata": {},
     "output_type": "execute_result"
    }
   ],
   "source": [
    "from sklearn.ensemble import BaggingClassifier\n",
    "\n",
    "clf = Pipeline(\n",
    "    steps=[(\"preprocessor\", preprocess_pipeline), (\"classifier\", BaggingClassifier(estimator=KNeighborsClassifier(), random_state=42))]\n",
    ")\n",
    "\n",
    "dt_scores = cross_val_score(clf, X_train, y_train, cv=3)\n",
    "dt_scores.mean()"
   ]
  },
  {
   "cell_type": "markdown",
   "id": "a51ccebd",
   "metadata": {},
   "source": [
    "On cherche maintenant à optimiser les paramètres du modèle SVM qui est le plus performant"
   ]
  },
  {
   "cell_type": "code",
   "execution_count": 47,
   "id": "940b5116",
   "metadata": {},
   "outputs": [
    {
     "data": {
      "text/html": [
       "<style>#sk-container-id-1 {color: black;background-color: white;}#sk-container-id-1 pre{padding: 0;}#sk-container-id-1 div.sk-toggleable {background-color: white;}#sk-container-id-1 label.sk-toggleable__label {cursor: pointer;display: block;width: 100%;margin-bottom: 0;padding: 0.3em;box-sizing: border-box;text-align: center;}#sk-container-id-1 label.sk-toggleable__label-arrow:before {content: \"▸\";float: left;margin-right: 0.25em;color: #696969;}#sk-container-id-1 label.sk-toggleable__label-arrow:hover:before {color: black;}#sk-container-id-1 div.sk-estimator:hover label.sk-toggleable__label-arrow:before {color: black;}#sk-container-id-1 div.sk-toggleable__content {max-height: 0;max-width: 0;overflow: hidden;text-align: left;background-color: #f0f8ff;}#sk-container-id-1 div.sk-toggleable__content pre {margin: 0.2em;color: black;border-radius: 0.25em;background-color: #f0f8ff;}#sk-container-id-1 input.sk-toggleable__control:checked~div.sk-toggleable__content {max-height: 200px;max-width: 100%;overflow: auto;}#sk-container-id-1 input.sk-toggleable__control:checked~label.sk-toggleable__label-arrow:before {content: \"▾\";}#sk-container-id-1 div.sk-estimator input.sk-toggleable__control:checked~label.sk-toggleable__label {background-color: #d4ebff;}#sk-container-id-1 div.sk-label input.sk-toggleable__control:checked~label.sk-toggleable__label {background-color: #d4ebff;}#sk-container-id-1 input.sk-hidden--visually {border: 0;clip: rect(1px 1px 1px 1px);clip: rect(1px, 1px, 1px, 1px);height: 1px;margin: -1px;overflow: hidden;padding: 0;position: absolute;width: 1px;}#sk-container-id-1 div.sk-estimator {font-family: monospace;background-color: #f0f8ff;border: 1px dotted black;border-radius: 0.25em;box-sizing: border-box;margin-bottom: 0.5em;}#sk-container-id-1 div.sk-estimator:hover {background-color: #d4ebff;}#sk-container-id-1 div.sk-parallel-item::after {content: \"\";width: 100%;border-bottom: 1px solid gray;flex-grow: 1;}#sk-container-id-1 div.sk-label:hover label.sk-toggleable__label {background-color: #d4ebff;}#sk-container-id-1 div.sk-serial::before {content: \"\";position: absolute;border-left: 1px solid gray;box-sizing: border-box;top: 0;bottom: 0;left: 50%;z-index: 0;}#sk-container-id-1 div.sk-serial {display: flex;flex-direction: column;align-items: center;background-color: white;padding-right: 0.2em;padding-left: 0.2em;position: relative;}#sk-container-id-1 div.sk-item {position: relative;z-index: 1;}#sk-container-id-1 div.sk-parallel {display: flex;align-items: stretch;justify-content: center;background-color: white;position: relative;}#sk-container-id-1 div.sk-item::before, #sk-container-id-1 div.sk-parallel-item::before {content: \"\";position: absolute;border-left: 1px solid gray;box-sizing: border-box;top: 0;bottom: 0;left: 50%;z-index: -1;}#sk-container-id-1 div.sk-parallel-item {display: flex;flex-direction: column;z-index: 1;position: relative;background-color: white;}#sk-container-id-1 div.sk-parallel-item:first-child::after {align-self: flex-end;width: 50%;}#sk-container-id-1 div.sk-parallel-item:last-child::after {align-self: flex-start;width: 50%;}#sk-container-id-1 div.sk-parallel-item:only-child::after {width: 0;}#sk-container-id-1 div.sk-dashed-wrapped {border: 1px dashed gray;margin: 0 0.4em 0.5em 0.4em;box-sizing: border-box;padding-bottom: 0.4em;background-color: white;}#sk-container-id-1 div.sk-label label {font-family: monospace;font-weight: bold;display: inline-block;line-height: 1.2em;}#sk-container-id-1 div.sk-label-container {text-align: center;}#sk-container-id-1 div.sk-container {/* jupyter's `normalize.less` sets `[hidden] { display: none; }` but bootstrap.min.css set `[hidden] { display: none !important; }` so we also need the `!important` here to be able to override the default hidden behavior on the sphinx rendered scikit-learn.org. See: https://github.com/scikit-learn/scikit-learn/issues/21755 */display: inline-block !important;position: relative;}#sk-container-id-1 div.sk-text-repr-fallback {display: none;}</style><div id=\"sk-container-id-1\" class=\"sk-top-container\"><div class=\"sk-text-repr-fallback\"><pre>RandomizedSearchCV(cv=3,\n",
       "                   estimator=Pipeline(steps=[(&#x27;preprocessor&#x27;,\n",
       "                                              ColumnTransformer(transformers=[(&#x27;num&#x27;,\n",
       "                                                                               Pipeline(steps=[(&#x27;imputer&#x27;,\n",
       "                                                                                                SimpleImputer(strategy=&#x27;median&#x27;)),\n",
       "                                                                                               (&#x27;scaler&#x27;,\n",
       "                                                                                                StandardScaler())]),\n",
       "                                                                               [&#x27;Age&#x27;,\n",
       "                                                                                &#x27;RoomService&#x27;,\n",
       "                                                                                &#x27;FoodCourt&#x27;,\n",
       "                                                                                &#x27;ShoppingMall&#x27;,\n",
       "                                                                                &#x27;Spa&#x27;,\n",
       "                                                                                &#x27;VRDeck&#x27;,\n",
       "                                                                                &#x27;totalTips&#x27;,\n",
       "                                                                                &#x27;numberInGroup&#x27;,\n",
       "                                                                                &#x27;numberInCabin&#x27;]),\n",
       "                                                                              (&#x27;cat&#x27;,\n",
       "                                                                               Pipeline(steps=[(&#x27;imputer&#x27;,\n",
       "                                                                                                SimpleImputer(strategy=&#x27;most_frequent&#x27;)),\n",
       "                                                                                               (&#x27;cat_encoder&#x27;,\n",
       "                                                                                                OneHotEncoder())]),\n",
       "                                                                               [&#x27;HomePlanet&#x27;,\n",
       "                                                                                &#x27;CryoSleep&#x27;,\n",
       "                                                                                &#x27;Destination&#x27;,\n",
       "                                                                                &#x27;VIP&#x27;,\n",
       "                                                                                &#x27;Side&#x27;,\n",
       "                                                                                &#x27;Deck&#x27;])])),\n",
       "                                             (&#x27;classifier&#x27;,\n",
       "                                              SVC(random_state=42))]),\n",
       "                   n_iter=75,\n",
       "                   param_distributions={&#x27;classifier__C&#x27;: range(1, 101),\n",
       "                                        &#x27;classifier__coef0&#x27;: range(1, 101),\n",
       "                                        &#x27;classifier__degree&#x27;: range(1, 21)},\n",
       "                   random_state=42, scoring=&#x27;accuracy&#x27;)</pre><b>In a Jupyter environment, please rerun this cell to show the HTML representation or trust the notebook. <br />On GitHub, the HTML representation is unable to render, please try loading this page with nbviewer.org.</b></div><div class=\"sk-container\" hidden><div class=\"sk-item sk-dashed-wrapped\"><div class=\"sk-label-container\"><div class=\"sk-label sk-toggleable\"><input class=\"sk-toggleable__control sk-hidden--visually\" id=\"sk-estimator-id-1\" type=\"checkbox\" ><label for=\"sk-estimator-id-1\" class=\"sk-toggleable__label sk-toggleable__label-arrow\">RandomizedSearchCV</label><div class=\"sk-toggleable__content\"><pre>RandomizedSearchCV(cv=3,\n",
       "                   estimator=Pipeline(steps=[(&#x27;preprocessor&#x27;,\n",
       "                                              ColumnTransformer(transformers=[(&#x27;num&#x27;,\n",
       "                                                                               Pipeline(steps=[(&#x27;imputer&#x27;,\n",
       "                                                                                                SimpleImputer(strategy=&#x27;median&#x27;)),\n",
       "                                                                                               (&#x27;scaler&#x27;,\n",
       "                                                                                                StandardScaler())]),\n",
       "                                                                               [&#x27;Age&#x27;,\n",
       "                                                                                &#x27;RoomService&#x27;,\n",
       "                                                                                &#x27;FoodCourt&#x27;,\n",
       "                                                                                &#x27;ShoppingMall&#x27;,\n",
       "                                                                                &#x27;Spa&#x27;,\n",
       "                                                                                &#x27;VRDeck&#x27;,\n",
       "                                                                                &#x27;totalTips&#x27;,\n",
       "                                                                                &#x27;numberInGroup&#x27;,\n",
       "                                                                                &#x27;numberInCabin&#x27;]),\n",
       "                                                                              (&#x27;cat&#x27;,\n",
       "                                                                               Pipeline(steps=[(&#x27;imputer&#x27;,\n",
       "                                                                                                SimpleImputer(strategy=&#x27;most_frequent&#x27;)),\n",
       "                                                                                               (&#x27;cat_encoder&#x27;,\n",
       "                                                                                                OneHotEncoder())]),\n",
       "                                                                               [&#x27;HomePlanet&#x27;,\n",
       "                                                                                &#x27;CryoSleep&#x27;,\n",
       "                                                                                &#x27;Destination&#x27;,\n",
       "                                                                                &#x27;VIP&#x27;,\n",
       "                                                                                &#x27;Side&#x27;,\n",
       "                                                                                &#x27;Deck&#x27;])])),\n",
       "                                             (&#x27;classifier&#x27;,\n",
       "                                              SVC(random_state=42))]),\n",
       "                   n_iter=75,\n",
       "                   param_distributions={&#x27;classifier__C&#x27;: range(1, 101),\n",
       "                                        &#x27;classifier__coef0&#x27;: range(1, 101),\n",
       "                                        &#x27;classifier__degree&#x27;: range(1, 21)},\n",
       "                   random_state=42, scoring=&#x27;accuracy&#x27;)</pre></div></div></div><div class=\"sk-parallel\"><div class=\"sk-parallel-item\"><div class=\"sk-item\"><div class=\"sk-label-container\"><div class=\"sk-label sk-toggleable\"><input class=\"sk-toggleable__control sk-hidden--visually\" id=\"sk-estimator-id-2\" type=\"checkbox\" ><label for=\"sk-estimator-id-2\" class=\"sk-toggleable__label sk-toggleable__label-arrow\">estimator: Pipeline</label><div class=\"sk-toggleable__content\"><pre>Pipeline(steps=[(&#x27;preprocessor&#x27;,\n",
       "                 ColumnTransformer(transformers=[(&#x27;num&#x27;,\n",
       "                                                  Pipeline(steps=[(&#x27;imputer&#x27;,\n",
       "                                                                   SimpleImputer(strategy=&#x27;median&#x27;)),\n",
       "                                                                  (&#x27;scaler&#x27;,\n",
       "                                                                   StandardScaler())]),\n",
       "                                                  [&#x27;Age&#x27;, &#x27;RoomService&#x27;,\n",
       "                                                   &#x27;FoodCourt&#x27;, &#x27;ShoppingMall&#x27;,\n",
       "                                                   &#x27;Spa&#x27;, &#x27;VRDeck&#x27;, &#x27;totalTips&#x27;,\n",
       "                                                   &#x27;numberInGroup&#x27;,\n",
       "                                                   &#x27;numberInCabin&#x27;]),\n",
       "                                                 (&#x27;cat&#x27;,\n",
       "                                                  Pipeline(steps=[(&#x27;imputer&#x27;,\n",
       "                                                                   SimpleImputer(strategy=&#x27;most_frequent&#x27;)),\n",
       "                                                                  (&#x27;cat_encoder&#x27;,\n",
       "                                                                   OneHotEncoder())]),\n",
       "                                                  [&#x27;HomePlanet&#x27;, &#x27;CryoSleep&#x27;,\n",
       "                                                   &#x27;Destination&#x27;, &#x27;VIP&#x27;, &#x27;Side&#x27;,\n",
       "                                                   &#x27;Deck&#x27;])])),\n",
       "                (&#x27;classifier&#x27;, SVC(random_state=42))])</pre></div></div></div><div class=\"sk-serial\"><div class=\"sk-item\"><div class=\"sk-serial\"><div class=\"sk-item sk-dashed-wrapped\"><div class=\"sk-label-container\"><div class=\"sk-label sk-toggleable\"><input class=\"sk-toggleable__control sk-hidden--visually\" id=\"sk-estimator-id-3\" type=\"checkbox\" ><label for=\"sk-estimator-id-3\" class=\"sk-toggleable__label sk-toggleable__label-arrow\">preprocessor: ColumnTransformer</label><div class=\"sk-toggleable__content\"><pre>ColumnTransformer(transformers=[(&#x27;num&#x27;,\n",
       "                                 Pipeline(steps=[(&#x27;imputer&#x27;,\n",
       "                                                  SimpleImputer(strategy=&#x27;median&#x27;)),\n",
       "                                                 (&#x27;scaler&#x27;, StandardScaler())]),\n",
       "                                 [&#x27;Age&#x27;, &#x27;RoomService&#x27;, &#x27;FoodCourt&#x27;,\n",
       "                                  &#x27;ShoppingMall&#x27;, &#x27;Spa&#x27;, &#x27;VRDeck&#x27;, &#x27;totalTips&#x27;,\n",
       "                                  &#x27;numberInGroup&#x27;, &#x27;numberInCabin&#x27;]),\n",
       "                                (&#x27;cat&#x27;,\n",
       "                                 Pipeline(steps=[(&#x27;imputer&#x27;,\n",
       "                                                  SimpleImputer(strategy=&#x27;most_frequent&#x27;)),\n",
       "                                                 (&#x27;cat_encoder&#x27;,\n",
       "                                                  OneHotEncoder())]),\n",
       "                                 [&#x27;HomePlanet&#x27;, &#x27;CryoSleep&#x27;, &#x27;Destination&#x27;,\n",
       "                                  &#x27;VIP&#x27;, &#x27;Side&#x27;, &#x27;Deck&#x27;])])</pre></div></div></div><div class=\"sk-parallel\"><div class=\"sk-parallel-item\"><div class=\"sk-item\"><div class=\"sk-label-container\"><div class=\"sk-label sk-toggleable\"><input class=\"sk-toggleable__control sk-hidden--visually\" id=\"sk-estimator-id-4\" type=\"checkbox\" ><label for=\"sk-estimator-id-4\" class=\"sk-toggleable__label sk-toggleable__label-arrow\">num</label><div class=\"sk-toggleable__content\"><pre>[&#x27;Age&#x27;, &#x27;RoomService&#x27;, &#x27;FoodCourt&#x27;, &#x27;ShoppingMall&#x27;, &#x27;Spa&#x27;, &#x27;VRDeck&#x27;, &#x27;totalTips&#x27;, &#x27;numberInGroup&#x27;, &#x27;numberInCabin&#x27;]</pre></div></div></div><div class=\"sk-serial\"><div class=\"sk-item\"><div class=\"sk-serial\"><div class=\"sk-item\"><div class=\"sk-estimator sk-toggleable\"><input class=\"sk-toggleable__control sk-hidden--visually\" id=\"sk-estimator-id-5\" type=\"checkbox\" ><label for=\"sk-estimator-id-5\" class=\"sk-toggleable__label sk-toggleable__label-arrow\">SimpleImputer</label><div class=\"sk-toggleable__content\"><pre>SimpleImputer(strategy=&#x27;median&#x27;)</pre></div></div></div><div class=\"sk-item\"><div class=\"sk-estimator sk-toggleable\"><input class=\"sk-toggleable__control sk-hidden--visually\" id=\"sk-estimator-id-6\" type=\"checkbox\" ><label for=\"sk-estimator-id-6\" class=\"sk-toggleable__label sk-toggleable__label-arrow\">StandardScaler</label><div class=\"sk-toggleable__content\"><pre>StandardScaler()</pre></div></div></div></div></div></div></div></div><div class=\"sk-parallel-item\"><div class=\"sk-item\"><div class=\"sk-label-container\"><div class=\"sk-label sk-toggleable\"><input class=\"sk-toggleable__control sk-hidden--visually\" id=\"sk-estimator-id-7\" type=\"checkbox\" ><label for=\"sk-estimator-id-7\" class=\"sk-toggleable__label sk-toggleable__label-arrow\">cat</label><div class=\"sk-toggleable__content\"><pre>[&#x27;HomePlanet&#x27;, &#x27;CryoSleep&#x27;, &#x27;Destination&#x27;, &#x27;VIP&#x27;, &#x27;Side&#x27;, &#x27;Deck&#x27;]</pre></div></div></div><div class=\"sk-serial\"><div class=\"sk-item\"><div class=\"sk-serial\"><div class=\"sk-item\"><div class=\"sk-estimator sk-toggleable\"><input class=\"sk-toggleable__control sk-hidden--visually\" id=\"sk-estimator-id-8\" type=\"checkbox\" ><label for=\"sk-estimator-id-8\" class=\"sk-toggleable__label sk-toggleable__label-arrow\">SimpleImputer</label><div class=\"sk-toggleable__content\"><pre>SimpleImputer(strategy=&#x27;most_frequent&#x27;)</pre></div></div></div><div class=\"sk-item\"><div class=\"sk-estimator sk-toggleable\"><input class=\"sk-toggleable__control sk-hidden--visually\" id=\"sk-estimator-id-9\" type=\"checkbox\" ><label for=\"sk-estimator-id-9\" class=\"sk-toggleable__label sk-toggleable__label-arrow\">OneHotEncoder</label><div class=\"sk-toggleable__content\"><pre>OneHotEncoder()</pre></div></div></div></div></div></div></div></div></div></div><div class=\"sk-item\"><div class=\"sk-estimator sk-toggleable\"><input class=\"sk-toggleable__control sk-hidden--visually\" id=\"sk-estimator-id-10\" type=\"checkbox\" ><label for=\"sk-estimator-id-10\" class=\"sk-toggleable__label sk-toggleable__label-arrow\">SVC</label><div class=\"sk-toggleable__content\"><pre>SVC(random_state=42)</pre></div></div></div></div></div></div></div></div></div></div></div></div>"
      ],
      "text/plain": [
       "RandomizedSearchCV(cv=3,\n",
       "                   estimator=Pipeline(steps=[('preprocessor',\n",
       "                                              ColumnTransformer(transformers=[('num',\n",
       "                                                                               Pipeline(steps=[('imputer',\n",
       "                                                                                                SimpleImputer(strategy='median')),\n",
       "                                                                                               ('scaler',\n",
       "                                                                                                StandardScaler())]),\n",
       "                                                                               ['Age',\n",
       "                                                                                'RoomService',\n",
       "                                                                                'FoodCourt',\n",
       "                                                                                'ShoppingMall',\n",
       "                                                                                'Spa',\n",
       "                                                                                'VRDeck',\n",
       "                                                                                'totalTips',\n",
       "                                                                                'numberInGroup',\n",
       "                                                                                'numberInCabin']),\n",
       "                                                                              ('cat',\n",
       "                                                                               Pipeline(steps=[('imputer',\n",
       "                                                                                                SimpleImputer(strategy='most_frequent')),\n",
       "                                                                                               ('cat_encoder',\n",
       "                                                                                                OneHotEncoder())]),\n",
       "                                                                               ['HomePlanet',\n",
       "                                                                                'CryoSleep',\n",
       "                                                                                'Destination',\n",
       "                                                                                'VIP',\n",
       "                                                                                'Side',\n",
       "                                                                                'Deck'])])),\n",
       "                                             ('classifier',\n",
       "                                              SVC(random_state=42))]),\n",
       "                   n_iter=75,\n",
       "                   param_distributions={'classifier__C': range(1, 101),\n",
       "                                        'classifier__coef0': range(1, 101),\n",
       "                                        'classifier__degree': range(1, 21)},\n",
       "                   random_state=42, scoring='accuracy')"
      ]
     },
     "execution_count": 47,
     "metadata": {},
     "output_type": "execute_result"
    }
   ],
   "source": [
    "from sklearn.model_selection import RandomizedSearchCV\n",
    "\n",
    "\n",
    "num_attribs = [\"Age\",\"RoomService\", \"FoodCourt\", \"ShoppingMall\",\"Spa\",\"VRDeck\",\"totalTips\",\"numberInGroup\",\"numberInCabin\"]\n",
    "cat_attribs = [\"HomePlanet\", \"CryoSleep\", \"Destination\",\"VIP\", \"Side\", \"Deck\"]\n",
    "\n",
    "preprocess_pipeline = ColumnTransformer([\n",
    "        (\"num\", num_pipeline, num_attribs),\n",
    "        (\"cat\", cat_pipeline, cat_attribs),\n",
    "    ])\n",
    "\n",
    "X_train=train_data.copy()\n",
    "X_train=X_train.drop(columns=[\"Transported\"])\n",
    "y_train=train_data[\"Transported\"]\n",
    "\n",
    "clf = Pipeline(\n",
    "    steps=[(\"preprocessor\", preprocess_pipeline), (\"classifier\", SVC(random_state=42))]\n",
    ")\n",
    "\n",
    "#on cherche les meilleurs paramètres : \n",
    "param_distr = {'classifier__C':range(1, 101),\n",
    "              'classifier__degree': range(1, 21),\n",
    "              'classifier__coef0':range(1, 101)}\n",
    "\n",
    "rnd = RandomizedSearchCV(clf,param_distributions = param_distr, cv = 3, n_iter = 75,\n",
    "                         scoring = \"accuracy\", random_state = 42)\n",
    "rnd.fit(X_train, y_train)"
   ]
  },
  {
   "cell_type": "code",
   "execution_count": 48,
   "id": "845fa8d7",
   "metadata": {},
   "outputs": [
    {
     "data": {
      "text/plain": [
       "{'classifier__degree': 8, 'classifier__coef0': 38, 'classifier__C': 2}"
      ]
     },
     "execution_count": 48,
     "metadata": {},
     "output_type": "execute_result"
    }
   ],
   "source": [
    "rnd.best_params_"
   ]
  },
  {
   "cell_type": "code",
   "execution_count": 49,
   "id": "dc2cc216",
   "metadata": {},
   "outputs": [
    {
     "data": {
      "text/plain": [
       "0.7946644311849697"
      ]
     },
     "execution_count": 49,
     "metadata": {},
     "output_type": "execute_result"
    }
   ],
   "source": [
    "rnd.best_score_"
   ]
  },
  {
   "cell_type": "code",
   "execution_count": 50,
   "id": "b30c069d",
   "metadata": {},
   "outputs": [],
   "source": [
    "clf = rnd.best_estimator_"
   ]
  },
  {
   "cell_type": "code",
   "execution_count": 51,
   "id": "ee951848",
   "metadata": {
    "scrolled": false
   },
   "outputs": [
    {
     "data": {
      "text/html": [
       "<style>#sk-container-id-2 {color: black;background-color: white;}#sk-container-id-2 pre{padding: 0;}#sk-container-id-2 div.sk-toggleable {background-color: white;}#sk-container-id-2 label.sk-toggleable__label {cursor: pointer;display: block;width: 100%;margin-bottom: 0;padding: 0.3em;box-sizing: border-box;text-align: center;}#sk-container-id-2 label.sk-toggleable__label-arrow:before {content: \"▸\";float: left;margin-right: 0.25em;color: #696969;}#sk-container-id-2 label.sk-toggleable__label-arrow:hover:before {color: black;}#sk-container-id-2 div.sk-estimator:hover label.sk-toggleable__label-arrow:before {color: black;}#sk-container-id-2 div.sk-toggleable__content {max-height: 0;max-width: 0;overflow: hidden;text-align: left;background-color: #f0f8ff;}#sk-container-id-2 div.sk-toggleable__content pre {margin: 0.2em;color: black;border-radius: 0.25em;background-color: #f0f8ff;}#sk-container-id-2 input.sk-toggleable__control:checked~div.sk-toggleable__content {max-height: 200px;max-width: 100%;overflow: auto;}#sk-container-id-2 input.sk-toggleable__control:checked~label.sk-toggleable__label-arrow:before {content: \"▾\";}#sk-container-id-2 div.sk-estimator input.sk-toggleable__control:checked~label.sk-toggleable__label {background-color: #d4ebff;}#sk-container-id-2 div.sk-label input.sk-toggleable__control:checked~label.sk-toggleable__label {background-color: #d4ebff;}#sk-container-id-2 input.sk-hidden--visually {border: 0;clip: rect(1px 1px 1px 1px);clip: rect(1px, 1px, 1px, 1px);height: 1px;margin: -1px;overflow: hidden;padding: 0;position: absolute;width: 1px;}#sk-container-id-2 div.sk-estimator {font-family: monospace;background-color: #f0f8ff;border: 1px dotted black;border-radius: 0.25em;box-sizing: border-box;margin-bottom: 0.5em;}#sk-container-id-2 div.sk-estimator:hover {background-color: #d4ebff;}#sk-container-id-2 div.sk-parallel-item::after {content: \"\";width: 100%;border-bottom: 1px solid gray;flex-grow: 1;}#sk-container-id-2 div.sk-label:hover label.sk-toggleable__label {background-color: #d4ebff;}#sk-container-id-2 div.sk-serial::before {content: \"\";position: absolute;border-left: 1px solid gray;box-sizing: border-box;top: 0;bottom: 0;left: 50%;z-index: 0;}#sk-container-id-2 div.sk-serial {display: flex;flex-direction: column;align-items: center;background-color: white;padding-right: 0.2em;padding-left: 0.2em;position: relative;}#sk-container-id-2 div.sk-item {position: relative;z-index: 1;}#sk-container-id-2 div.sk-parallel {display: flex;align-items: stretch;justify-content: center;background-color: white;position: relative;}#sk-container-id-2 div.sk-item::before, #sk-container-id-2 div.sk-parallel-item::before {content: \"\";position: absolute;border-left: 1px solid gray;box-sizing: border-box;top: 0;bottom: 0;left: 50%;z-index: -1;}#sk-container-id-2 div.sk-parallel-item {display: flex;flex-direction: column;z-index: 1;position: relative;background-color: white;}#sk-container-id-2 div.sk-parallel-item:first-child::after {align-self: flex-end;width: 50%;}#sk-container-id-2 div.sk-parallel-item:last-child::after {align-self: flex-start;width: 50%;}#sk-container-id-2 div.sk-parallel-item:only-child::after {width: 0;}#sk-container-id-2 div.sk-dashed-wrapped {border: 1px dashed gray;margin: 0 0.4em 0.5em 0.4em;box-sizing: border-box;padding-bottom: 0.4em;background-color: white;}#sk-container-id-2 div.sk-label label {font-family: monospace;font-weight: bold;display: inline-block;line-height: 1.2em;}#sk-container-id-2 div.sk-label-container {text-align: center;}#sk-container-id-2 div.sk-container {/* jupyter's `normalize.less` sets `[hidden] { display: none; }` but bootstrap.min.css set `[hidden] { display: none !important; }` so we also need the `!important` here to be able to override the default hidden behavior on the sphinx rendered scikit-learn.org. See: https://github.com/scikit-learn/scikit-learn/issues/21755 */display: inline-block !important;position: relative;}#sk-container-id-2 div.sk-text-repr-fallback {display: none;}</style><div id=\"sk-container-id-2\" class=\"sk-top-container\"><div class=\"sk-text-repr-fallback\"><pre>Pipeline(steps=[(&#x27;preprocessor&#x27;,\n",
       "                 ColumnTransformer(transformers=[(&#x27;num&#x27;,\n",
       "                                                  Pipeline(steps=[(&#x27;imputer&#x27;,\n",
       "                                                                   SimpleImputer(strategy=&#x27;median&#x27;)),\n",
       "                                                                  (&#x27;scaler&#x27;,\n",
       "                                                                   StandardScaler())]),\n",
       "                                                  [&#x27;Age&#x27;, &#x27;RoomService&#x27;,\n",
       "                                                   &#x27;FoodCourt&#x27;, &#x27;ShoppingMall&#x27;,\n",
       "                                                   &#x27;Spa&#x27;, &#x27;VRDeck&#x27;, &#x27;totalTips&#x27;,\n",
       "                                                   &#x27;numberInGroup&#x27;,\n",
       "                                                   &#x27;numberInCabin&#x27;]),\n",
       "                                                 (&#x27;cat&#x27;,\n",
       "                                                  Pipeline(steps=[(&#x27;imputer&#x27;,\n",
       "                                                                   SimpleImputer(strategy=&#x27;most_frequent&#x27;)),\n",
       "                                                                  (&#x27;cat_encoder&#x27;,\n",
       "                                                                   OneHotEncoder())]),\n",
       "                                                  [&#x27;HomePlanet&#x27;, &#x27;CryoSleep&#x27;,\n",
       "                                                   &#x27;Destination&#x27;, &#x27;VIP&#x27;, &#x27;Side&#x27;,\n",
       "                                                   &#x27;Deck&#x27;])])),\n",
       "                (&#x27;classifier&#x27;, SVC(C=2, coef0=38, degree=8, random_state=42))])</pre><b>In a Jupyter environment, please rerun this cell to show the HTML representation or trust the notebook. <br />On GitHub, the HTML representation is unable to render, please try loading this page with nbviewer.org.</b></div><div class=\"sk-container\" hidden><div class=\"sk-item sk-dashed-wrapped\"><div class=\"sk-label-container\"><div class=\"sk-label sk-toggleable\"><input class=\"sk-toggleable__control sk-hidden--visually\" id=\"sk-estimator-id-11\" type=\"checkbox\" ><label for=\"sk-estimator-id-11\" class=\"sk-toggleable__label sk-toggleable__label-arrow\">Pipeline</label><div class=\"sk-toggleable__content\"><pre>Pipeline(steps=[(&#x27;preprocessor&#x27;,\n",
       "                 ColumnTransformer(transformers=[(&#x27;num&#x27;,\n",
       "                                                  Pipeline(steps=[(&#x27;imputer&#x27;,\n",
       "                                                                   SimpleImputer(strategy=&#x27;median&#x27;)),\n",
       "                                                                  (&#x27;scaler&#x27;,\n",
       "                                                                   StandardScaler())]),\n",
       "                                                  [&#x27;Age&#x27;, &#x27;RoomService&#x27;,\n",
       "                                                   &#x27;FoodCourt&#x27;, &#x27;ShoppingMall&#x27;,\n",
       "                                                   &#x27;Spa&#x27;, &#x27;VRDeck&#x27;, &#x27;totalTips&#x27;,\n",
       "                                                   &#x27;numberInGroup&#x27;,\n",
       "                                                   &#x27;numberInCabin&#x27;]),\n",
       "                                                 (&#x27;cat&#x27;,\n",
       "                                                  Pipeline(steps=[(&#x27;imputer&#x27;,\n",
       "                                                                   SimpleImputer(strategy=&#x27;most_frequent&#x27;)),\n",
       "                                                                  (&#x27;cat_encoder&#x27;,\n",
       "                                                                   OneHotEncoder())]),\n",
       "                                                  [&#x27;HomePlanet&#x27;, &#x27;CryoSleep&#x27;,\n",
       "                                                   &#x27;Destination&#x27;, &#x27;VIP&#x27;, &#x27;Side&#x27;,\n",
       "                                                   &#x27;Deck&#x27;])])),\n",
       "                (&#x27;classifier&#x27;, SVC(C=2, coef0=38, degree=8, random_state=42))])</pre></div></div></div><div class=\"sk-serial\"><div class=\"sk-item sk-dashed-wrapped\"><div class=\"sk-label-container\"><div class=\"sk-label sk-toggleable\"><input class=\"sk-toggleable__control sk-hidden--visually\" id=\"sk-estimator-id-12\" type=\"checkbox\" ><label for=\"sk-estimator-id-12\" class=\"sk-toggleable__label sk-toggleable__label-arrow\">preprocessor: ColumnTransformer</label><div class=\"sk-toggleable__content\"><pre>ColumnTransformer(transformers=[(&#x27;num&#x27;,\n",
       "                                 Pipeline(steps=[(&#x27;imputer&#x27;,\n",
       "                                                  SimpleImputer(strategy=&#x27;median&#x27;)),\n",
       "                                                 (&#x27;scaler&#x27;, StandardScaler())]),\n",
       "                                 [&#x27;Age&#x27;, &#x27;RoomService&#x27;, &#x27;FoodCourt&#x27;,\n",
       "                                  &#x27;ShoppingMall&#x27;, &#x27;Spa&#x27;, &#x27;VRDeck&#x27;, &#x27;totalTips&#x27;,\n",
       "                                  &#x27;numberInGroup&#x27;, &#x27;numberInCabin&#x27;]),\n",
       "                                (&#x27;cat&#x27;,\n",
       "                                 Pipeline(steps=[(&#x27;imputer&#x27;,\n",
       "                                                  SimpleImputer(strategy=&#x27;most_frequent&#x27;)),\n",
       "                                                 (&#x27;cat_encoder&#x27;,\n",
       "                                                  OneHotEncoder())]),\n",
       "                                 [&#x27;HomePlanet&#x27;, &#x27;CryoSleep&#x27;, &#x27;Destination&#x27;,\n",
       "                                  &#x27;VIP&#x27;, &#x27;Side&#x27;, &#x27;Deck&#x27;])])</pre></div></div></div><div class=\"sk-parallel\"><div class=\"sk-parallel-item\"><div class=\"sk-item\"><div class=\"sk-label-container\"><div class=\"sk-label sk-toggleable\"><input class=\"sk-toggleable__control sk-hidden--visually\" id=\"sk-estimator-id-13\" type=\"checkbox\" ><label for=\"sk-estimator-id-13\" class=\"sk-toggleable__label sk-toggleable__label-arrow\">num</label><div class=\"sk-toggleable__content\"><pre>[&#x27;Age&#x27;, &#x27;RoomService&#x27;, &#x27;FoodCourt&#x27;, &#x27;ShoppingMall&#x27;, &#x27;Spa&#x27;, &#x27;VRDeck&#x27;, &#x27;totalTips&#x27;, &#x27;numberInGroup&#x27;, &#x27;numberInCabin&#x27;]</pre></div></div></div><div class=\"sk-serial\"><div class=\"sk-item\"><div class=\"sk-serial\"><div class=\"sk-item\"><div class=\"sk-estimator sk-toggleable\"><input class=\"sk-toggleable__control sk-hidden--visually\" id=\"sk-estimator-id-14\" type=\"checkbox\" ><label for=\"sk-estimator-id-14\" class=\"sk-toggleable__label sk-toggleable__label-arrow\">SimpleImputer</label><div class=\"sk-toggleable__content\"><pre>SimpleImputer(strategy=&#x27;median&#x27;)</pre></div></div></div><div class=\"sk-item\"><div class=\"sk-estimator sk-toggleable\"><input class=\"sk-toggleable__control sk-hidden--visually\" id=\"sk-estimator-id-15\" type=\"checkbox\" ><label for=\"sk-estimator-id-15\" class=\"sk-toggleable__label sk-toggleable__label-arrow\">StandardScaler</label><div class=\"sk-toggleable__content\"><pre>StandardScaler()</pre></div></div></div></div></div></div></div></div><div class=\"sk-parallel-item\"><div class=\"sk-item\"><div class=\"sk-label-container\"><div class=\"sk-label sk-toggleable\"><input class=\"sk-toggleable__control sk-hidden--visually\" id=\"sk-estimator-id-16\" type=\"checkbox\" ><label for=\"sk-estimator-id-16\" class=\"sk-toggleable__label sk-toggleable__label-arrow\">cat</label><div class=\"sk-toggleable__content\"><pre>[&#x27;HomePlanet&#x27;, &#x27;CryoSleep&#x27;, &#x27;Destination&#x27;, &#x27;VIP&#x27;, &#x27;Side&#x27;, &#x27;Deck&#x27;]</pre></div></div></div><div class=\"sk-serial\"><div class=\"sk-item\"><div class=\"sk-serial\"><div class=\"sk-item\"><div class=\"sk-estimator sk-toggleable\"><input class=\"sk-toggleable__control sk-hidden--visually\" id=\"sk-estimator-id-17\" type=\"checkbox\" ><label for=\"sk-estimator-id-17\" class=\"sk-toggleable__label sk-toggleable__label-arrow\">SimpleImputer</label><div class=\"sk-toggleable__content\"><pre>SimpleImputer(strategy=&#x27;most_frequent&#x27;)</pre></div></div></div><div class=\"sk-item\"><div class=\"sk-estimator sk-toggleable\"><input class=\"sk-toggleable__control sk-hidden--visually\" id=\"sk-estimator-id-18\" type=\"checkbox\" ><label for=\"sk-estimator-id-18\" class=\"sk-toggleable__label sk-toggleable__label-arrow\">OneHotEncoder</label><div class=\"sk-toggleable__content\"><pre>OneHotEncoder()</pre></div></div></div></div></div></div></div></div></div></div><div class=\"sk-item\"><div class=\"sk-estimator sk-toggleable\"><input class=\"sk-toggleable__control sk-hidden--visually\" id=\"sk-estimator-id-19\" type=\"checkbox\" ><label for=\"sk-estimator-id-19\" class=\"sk-toggleable__label sk-toggleable__label-arrow\">SVC</label><div class=\"sk-toggleable__content\"><pre>SVC(C=2, coef0=38, degree=8, random_state=42)</pre></div></div></div></div></div></div></div>"
      ],
      "text/plain": [
       "Pipeline(steps=[('preprocessor',\n",
       "                 ColumnTransformer(transformers=[('num',\n",
       "                                                  Pipeline(steps=[('imputer',\n",
       "                                                                   SimpleImputer(strategy='median')),\n",
       "                                                                  ('scaler',\n",
       "                                                                   StandardScaler())]),\n",
       "                                                  ['Age', 'RoomService',\n",
       "                                                   'FoodCourt', 'ShoppingMall',\n",
       "                                                   'Spa', 'VRDeck', 'totalTips',\n",
       "                                                   'numberInGroup',\n",
       "                                                   'numberInCabin']),\n",
       "                                                 ('cat',\n",
       "                                                  Pipeline(steps=[('imputer',\n",
       "                                                                   SimpleImputer(strategy='most_frequent')),\n",
       "                                                                  ('cat_encoder',\n",
       "                                                                   OneHotEncoder())]),\n",
       "                                                  ['HomePlanet', 'CryoSleep',\n",
       "                                                   'Destination', 'VIP', 'Side',\n",
       "                                                   'Deck'])])),\n",
       "                ('classifier', SVC(C=2, coef0=38, degree=8, random_state=42))])"
      ]
     },
     "execution_count": 51,
     "metadata": {},
     "output_type": "execute_result"
    }
   ],
   "source": [
    "clf.fit(X_train,y_train)"
   ]
  },
  {
   "cell_type": "code",
   "execution_count": 52,
   "id": "a83ae311",
   "metadata": {},
   "outputs": [],
   "source": [
    "y_pred=clf.predict(X_test)"
   ]
  },
  {
   "cell_type": "code",
   "execution_count": 53,
   "id": "2eaa40db",
   "metadata": {},
   "outputs": [],
   "source": [
    "y_pred_df=pd.DataFrame(y_pred, columns = ['Transported'])\n",
    "y_pred_df=y_pred_df.set_index(X_test[\"PassengerId\"])"
   ]
  },
  {
   "cell_type": "code",
   "execution_count": 54,
   "id": "7df5e1e7",
   "metadata": {},
   "outputs": [],
   "source": [
    "y_pred_df.to_csv(\"C:/Users/miaou/Documents/UTT/ISI-2/PE_IA_RM/Python_script/spaceship_titanic_competition/data/y_pred.csv\")"
   ]
  },
  {
   "cell_type": "markdown",
   "id": "2fd8210f",
   "metadata": {},
   "source": [
    "On améliore le modèle existant :"
   ]
  },
  {
   "cell_type": "markdown",
   "id": "0aaae143",
   "metadata": {},
   "source": [
    "On vérifie dans un premier temps si les personnes d'un même groupe viennet bien de la même planète :"
   ]
  },
  {
   "cell_type": "code",
   "execution_count": 55,
   "id": "5afee2d3",
   "metadata": {},
   "outputs": [
    {
     "name": "stdout",
     "output_type": "stream",
     "text": [
      "Nombre de groupe qui ont plus que une homePlanet : 0\n"
     ]
    }
   ],
   "source": [
    "#Create a dataframe containing\n",
    "group_wise_passenger=train_data[['HomePlanet','group']].groupby(['group']).nunique()\n",
    "group_wise_passenger.rename(columns={'HomePlanet':'Number_of_home_planets_ingroup'},inplace=True)\n",
    "print(\"Nombre de groupe qui ont plus que une homePlanet :\",group_wise_passenger[group_wise_passenger['Number_of_home_planets_ingroup']>1].shape[0])"
   ]
  },
  {
   "cell_type": "markdown",
   "id": "837dd106",
   "metadata": {},
   "source": [
    "On remarque que tous le passagers d'un même groupe viennent de la même planète"
   ]
  },
  {
   "cell_type": "markdown",
   "id": "e217d411",
   "metadata": {},
   "source": [
    "On vérifie maintenant si l'âge médiant est bien différent en focntion des homePlanet :"
   ]
  },
  {
   "cell_type": "code",
   "execution_count": 56,
   "id": "f5beed3b",
   "metadata": {},
   "outputs": [
    {
     "name": "stdout",
     "output_type": "stream",
     "text": [
      "  HomePlanet  Median_age_planet\n",
      "0      Earth               23.0\n",
      "1     Europa               33.0\n",
      "2       Mars               28.0\n"
     ]
    },
    {
     "data": {
      "image/png": "[encoded data removed]",
      "text/plain": [
       "<Figure size 432x288 with 1 Axes>"
      ]
     },
     "metadata": {
      "needs_background": "light"
     },
     "output_type": "display_data"
    }
   ],
   "source": [
    "for_filling_age=train_data[['Age','HomePlanet']].groupby(['HomePlanet']).median()\n",
    "for_filling_age.rename(columns={\"Age\":\"Median_age_planet\"},inplace=True)\n",
    "for_filling_age.reset_index(inplace=True)\n",
    "sns.barplot(data=for_filling_age,x=\"HomePlanet\",y=\"Median_age_planet\")\n",
    "print(for_filling_age)"
   ]
  },
  {
   "cell_type": "markdown",
   "id": "d7b88407",
   "metadata": {},
   "source": [
    "On constate que l'âge médiant est bien différent en fonction des planètes."
   ]
  },
  {
   "cell_type": "markdown",
   "id": "5caf2e79",
   "metadata": {},
   "source": [
    "On créer maintenant une nouvelle pipeline afin de compléter les données en utilisant les idées du forum"
   ]
  },
  {
   "cell_type": "code",
   "execution_count": 58,
   "id": "75959844",
   "metadata": {},
   "outputs": [],
   "source": [
    "from sklearn.base import BaseEstimator, TransformerMixin\n",
    "class AdvancedInputer(BaseEstimator, TransformerMixin):\n",
    "    def __init__(self):\n",
    "        pass\n",
    "    def fit( self, X, y = None ):\n",
    "        return self\n",
    "# Function to create features and for impute features.\n",
    "    def transform(self, a, y=None):\n",
    "        \n",
    "    #   Create feature to find the homeplanet the other passengers in the group belong to. This is done by first calculating groupwise passengers. In Groups where there are no passengers with Homeplanet, Nan is marked. Later      \n",
    "        group_wise_passenger=a[['PassengerId','group']].groupby(['group']).count()\n",
    "        group_wise_passenger.rename(columns={'PassengerId':'Passengers_in_group'},inplace=True)\n",
    "        group_wise_mf_planet=a[['HomePlanet','group']].groupby(['group']).agg(lambda x: x.value_counts().index[0] if x.value_counts().size>0 else float(\"Nan\"))\n",
    "        a=pd.merge(a,group_wise_passenger,how='left',left_on='group',right_index=True)\n",
    "        group_wise_mf_planet.rename(columns={'HomePlanet':'Top_planet_in_group'},inplace=True)\n",
    "        a=pd.merge(a,group_wise_mf_planet,how='left',left_on='group',right_index=True)\n",
    "        a.loc[(a['HomePlanet'].isna())&(a['Passengers_in_group']>1),'HomePlanet']=a[(a['HomePlanet'].isna())&(a['Passengers_in_group']>1)]['Top_planet_in_group']\n",
    "        \n",
    "    #   Create a dataframe for HomePlanet wise median age and use it to impute age where it is missing  \n",
    "        for_filling_age=a[['Age','HomePlanet']].groupby(['HomePlanet']).median()\n",
    "        for_filling_age.rename(columns={\"Age\":\"Median_age_planet\"},inplace=True)\n",
    "        a=pd.merge(a,for_filling_age,how=\"left\",left_on=\"HomePlanet\",right_index=True)\n",
    "        a.loc[(~ a['HomePlanet'].isna())&(a['Age'].isna()),'Age']=a[(~a['HomePlanet'].isna())&(a['Age'].isna())]['Median_age_planet']\n",
    "        a.drop(columns=['Top_planet_in_group', 'Median_age_planet','Passengers_in_group'],inplace=True)\n",
    "        a.drop(columns=['Cabin','PassengerId'],inplace=True)\n",
    "        return a"
   ]
  },
  {
   "cell_type": "code",
   "execution_count": 59,
   "id": "b74e553d",
   "metadata": {},
   "outputs": [
    {
     "data": {
      "text/plain": [
       "0.7936292742013803"
      ]
     },
     "execution_count": 59,
     "metadata": {},
     "output_type": "execute_result"
    }
   ],
   "source": [
    "clf = Pipeline(\n",
    "    steps=[(\"HomePlanetAgeInputer\",AdvancedInputer()),(\"preprocessor\", preprocess_pipeline), (\"classifier\", SVC(random_state=42))]\n",
    ")\n",
    "\n",
    "dt_scores = cross_val_score(clf, X_train, y_train, cv=3)\n",
    "dt_scores.mean()"
   ]
  },
  {
   "cell_type": "code",
   "execution_count": 60,
   "id": "ca47a491",
   "metadata": {},
   "outputs": [
    {
     "data": {
      "text/plain": [
       "0.791443541342237"
      ]
     },
     "execution_count": 60,
     "metadata": {},
     "output_type": "execute_result"
    }
   ],
   "source": [
    "clf = Pipeline(\n",
    "    steps=[(\"HomePlanetAgeInputer\",AdvancedInputer()),(\"preprocessor\", preprocess_pipeline), (\"classifier\", BaggingClassifier(estimator=SVC(random_state=42), random_state=42))]\n",
    ")\n",
    "\n",
    "dt_scores = cross_val_score(clf, X_train, y_train, cv=3)\n",
    "dt_scores.mean()"
   ]
  },
  {
   "cell_type": "code",
   "execution_count": 66,
   "id": "b230a5a5",
   "metadata": {},
   "outputs": [
    {
     "data": {
      "text/html": [
       "<style>#sk-container-id-4 {color: black;background-color: white;}#sk-container-id-4 pre{padding: 0;}#sk-container-id-4 div.sk-toggleable {background-color: white;}#sk-container-id-4 label.sk-toggleable__label {cursor: pointer;display: block;width: 100%;margin-bottom: 0;padding: 0.3em;box-sizing: border-box;text-align: center;}#sk-container-id-4 label.sk-toggleable__label-arrow:before {content: \"▸\";float: left;margin-right: 0.25em;color: #696969;}#sk-container-id-4 label.sk-toggleable__label-arrow:hover:before {color: black;}#sk-container-id-4 div.sk-estimator:hover label.sk-toggleable__label-arrow:before {color: black;}#sk-container-id-4 div.sk-toggleable__content {max-height: 0;max-width: 0;overflow: hidden;text-align: left;background-color: #f0f8ff;}#sk-container-id-4 div.sk-toggleable__content pre {margin: 0.2em;color: black;border-radius: 0.25em;background-color: #f0f8ff;}#sk-container-id-4 input.sk-toggleable__control:checked~div.sk-toggleable__content {max-height: 200px;max-width: 100%;overflow: auto;}#sk-container-id-4 input.sk-toggleable__control:checked~label.sk-toggleable__label-arrow:before {content: \"▾\";}#sk-container-id-4 div.sk-estimator input.sk-toggleable__control:checked~label.sk-toggleable__label {background-color: #d4ebff;}#sk-container-id-4 div.sk-label input.sk-toggleable__control:checked~label.sk-toggleable__label {background-color: #d4ebff;}#sk-container-id-4 input.sk-hidden--visually {border: 0;clip: rect(1px 1px 1px 1px);clip: rect(1px, 1px, 1px, 1px);height: 1px;margin: -1px;overflow: hidden;padding: 0;position: absolute;width: 1px;}#sk-container-id-4 div.sk-estimator {font-family: monospace;background-color: #f0f8ff;border: 1px dotted black;border-radius: 0.25em;box-sizing: border-box;margin-bottom: 0.5em;}#sk-container-id-4 div.sk-estimator:hover {background-color: #d4ebff;}#sk-container-id-4 div.sk-parallel-item::after {content: \"\";width: 100%;border-bottom: 1px solid gray;flex-grow: 1;}#sk-container-id-4 div.sk-label:hover label.sk-toggleable__label {background-color: #d4ebff;}#sk-container-id-4 div.sk-serial::before {content: \"\";position: absolute;border-left: 1px solid gray;box-sizing: border-box;top: 0;bottom: 0;left: 50%;z-index: 0;}#sk-container-id-4 div.sk-serial {display: flex;flex-direction: column;align-items: center;background-color: white;padding-right: 0.2em;padding-left: 0.2em;position: relative;}#sk-container-id-4 div.sk-item {position: relative;z-index: 1;}#sk-container-id-4 div.sk-parallel {display: flex;align-items: stretch;justify-content: center;background-color: white;position: relative;}#sk-container-id-4 div.sk-item::before, #sk-container-id-4 div.sk-parallel-item::before {content: \"\";position: absolute;border-left: 1px solid gray;box-sizing: border-box;top: 0;bottom: 0;left: 50%;z-index: -1;}#sk-container-id-4 div.sk-parallel-item {display: flex;flex-direction: column;z-index: 1;position: relative;background-color: white;}#sk-container-id-4 div.sk-parallel-item:first-child::after {align-self: flex-end;width: 50%;}#sk-container-id-4 div.sk-parallel-item:last-child::after {align-self: flex-start;width: 50%;}#sk-container-id-4 div.sk-parallel-item:only-child::after {width: 0;}#sk-container-id-4 div.sk-dashed-wrapped {border: 1px dashed gray;margin: 0 0.4em 0.5em 0.4em;box-sizing: border-box;padding-bottom: 0.4em;background-color: white;}#sk-container-id-4 div.sk-label label {font-family: monospace;font-weight: bold;display: inline-block;line-height: 1.2em;}#sk-container-id-4 div.sk-label-container {text-align: center;}#sk-container-id-4 div.sk-container {/* jupyter's `normalize.less` sets `[hidden] { display: none; }` but bootstrap.min.css set `[hidden] { display: none !important; }` so we also need the `!important` here to be able to override the default hidden behavior on the sphinx rendered scikit-learn.org. See: https://github.com/scikit-learn/scikit-learn/issues/21755 */display: inline-block !important;position: relative;}#sk-container-id-4 div.sk-text-repr-fallback {display: none;}</style><div id=\"sk-container-id-4\" class=\"sk-top-container\"><div class=\"sk-text-repr-fallback\"><pre>RandomizedSearchCV(cv=3,\n",
       "                   estimator=Pipeline(steps=[(&#x27;HomePlanetAgeInputer&#x27;,\n",
       "                                              AdvancedInputer()),\n",
       "                                             (&#x27;preprocessor&#x27;,\n",
       "                                              ColumnTransformer(transformers=[(&#x27;num&#x27;,\n",
       "                                                                               Pipeline(steps=[(&#x27;imputer&#x27;,\n",
       "                                                                                                SimpleImputer(strategy=&#x27;median&#x27;)),\n",
       "                                                                                               (&#x27;scaler&#x27;,\n",
       "                                                                                                StandardScaler())]),\n",
       "                                                                               [&#x27;Age&#x27;,\n",
       "                                                                                &#x27;RoomService&#x27;,\n",
       "                                                                                &#x27;FoodCourt&#x27;,\n",
       "                                                                                &#x27;ShoppingMall&#x27;,\n",
       "                                                                                &#x27;Spa&#x27;,\n",
       "                                                                                &#x27;VRDeck&#x27;,\n",
       "                                                                                &#x27;totalTips&#x27;,\n",
       "                                                                                &#x27;numberInGroup&#x27;,\n",
       "                                                                                &#x27;numberInCabin&#x27;]),\n",
       "                                                                              (&#x27;...\n",
       "                                                                               Pipeline(steps=[(&#x27;imputer&#x27;,\n",
       "                                                                                                SimpleImputer(strategy=&#x27;most_frequent&#x27;)),\n",
       "                                                                                               (&#x27;cat_encoder&#x27;,\n",
       "                                                                                                OneHotEncoder())]),\n",
       "                                                                               [&#x27;HomePlanet&#x27;,\n",
       "                                                                                &#x27;CryoSleep&#x27;,\n",
       "                                                                                &#x27;Destination&#x27;,\n",
       "                                                                                &#x27;VIP&#x27;,\n",
       "                                                                                &#x27;Side&#x27;,\n",
       "                                                                                &#x27;Deck&#x27;])])),\n",
       "                                             (&#x27;classifier&#x27;,\n",
       "                                              SVC(random_state=42))]),\n",
       "                   n_iter=75,\n",
       "                   param_distributions={&#x27;classifier__C&#x27;: range(1, 101),\n",
       "                                        &#x27;classifier__coef0&#x27;: range(1, 101),\n",
       "                                        &#x27;classifier__degree&#x27;: range(1, 21)},\n",
       "                   random_state=42, scoring=&#x27;accuracy&#x27;)</pre><b>In a Jupyter environment, please rerun this cell to show the HTML representation or trust the notebook. <br />On GitHub, the HTML representation is unable to render, please try loading this page with nbviewer.org.</b></div><div class=\"sk-container\" hidden><div class=\"sk-item sk-dashed-wrapped\"><div class=\"sk-label-container\"><div class=\"sk-label sk-toggleable\"><input class=\"sk-toggleable__control sk-hidden--visually\" id=\"sk-estimator-id-31\" type=\"checkbox\" ><label for=\"sk-estimator-id-31\" class=\"sk-toggleable__label sk-toggleable__label-arrow\">RandomizedSearchCV</label><div class=\"sk-toggleable__content\"><pre>RandomizedSearchCV(cv=3,\n",
       "                   estimator=Pipeline(steps=[(&#x27;HomePlanetAgeInputer&#x27;,\n",
       "                                              AdvancedInputer()),\n",
       "                                             (&#x27;preprocessor&#x27;,\n",
       "                                              ColumnTransformer(transformers=[(&#x27;num&#x27;,\n",
       "                                                                               Pipeline(steps=[(&#x27;imputer&#x27;,\n",
       "                                                                                                SimpleImputer(strategy=&#x27;median&#x27;)),\n",
       "                                                                                               (&#x27;scaler&#x27;,\n",
       "                                                                                                StandardScaler())]),\n",
       "                                                                               [&#x27;Age&#x27;,\n",
       "                                                                                &#x27;RoomService&#x27;,\n",
       "                                                                                &#x27;FoodCourt&#x27;,\n",
       "                                                                                &#x27;ShoppingMall&#x27;,\n",
       "                                                                                &#x27;Spa&#x27;,\n",
       "                                                                                &#x27;VRDeck&#x27;,\n",
       "                                                                                &#x27;totalTips&#x27;,\n",
       "                                                                                &#x27;numberInGroup&#x27;,\n",
       "                                                                                &#x27;numberInCabin&#x27;]),\n",
       "                                                                              (&#x27;...\n",
       "                                                                               Pipeline(steps=[(&#x27;imputer&#x27;,\n",
       "                                                                                                SimpleImputer(strategy=&#x27;most_frequent&#x27;)),\n",
       "                                                                                               (&#x27;cat_encoder&#x27;,\n",
       "                                                                                                OneHotEncoder())]),\n",
       "                                                                               [&#x27;HomePlanet&#x27;,\n",
       "                                                                                &#x27;CryoSleep&#x27;,\n",
       "                                                                                &#x27;Destination&#x27;,\n",
       "                                                                                &#x27;VIP&#x27;,\n",
       "                                                                                &#x27;Side&#x27;,\n",
       "                                                                                &#x27;Deck&#x27;])])),\n",
       "                                             (&#x27;classifier&#x27;,\n",
       "                                              SVC(random_state=42))]),\n",
       "                   n_iter=75,\n",
       "                   param_distributions={&#x27;classifier__C&#x27;: range(1, 101),\n",
       "                                        &#x27;classifier__coef0&#x27;: range(1, 101),\n",
       "                                        &#x27;classifier__degree&#x27;: range(1, 21)},\n",
       "                   random_state=42, scoring=&#x27;accuracy&#x27;)</pre></div></div></div><div class=\"sk-parallel\"><div class=\"sk-parallel-item\"><div class=\"sk-item\"><div class=\"sk-label-container\"><div class=\"sk-label sk-toggleable\"><input class=\"sk-toggleable__control sk-hidden--visually\" id=\"sk-estimator-id-32\" type=\"checkbox\" ><label for=\"sk-estimator-id-32\" class=\"sk-toggleable__label sk-toggleable__label-arrow\">estimator: Pipeline</label><div class=\"sk-toggleable__content\"><pre>Pipeline(steps=[(&#x27;HomePlanetAgeInputer&#x27;, AdvancedInputer()),\n",
       "                (&#x27;preprocessor&#x27;,\n",
       "                 ColumnTransformer(transformers=[(&#x27;num&#x27;,\n",
       "                                                  Pipeline(steps=[(&#x27;imputer&#x27;,\n",
       "                                                                   SimpleImputer(strategy=&#x27;median&#x27;)),\n",
       "                                                                  (&#x27;scaler&#x27;,\n",
       "                                                                   StandardScaler())]),\n",
       "                                                  [&#x27;Age&#x27;, &#x27;RoomService&#x27;,\n",
       "                                                   &#x27;FoodCourt&#x27;, &#x27;ShoppingMall&#x27;,\n",
       "                                                   &#x27;Spa&#x27;, &#x27;VRDeck&#x27;, &#x27;totalTips&#x27;,\n",
       "                                                   &#x27;numberInGroup&#x27;,\n",
       "                                                   &#x27;numberInCabin&#x27;]),\n",
       "                                                 (&#x27;cat&#x27;,\n",
       "                                                  Pipeline(steps=[(&#x27;imputer&#x27;,\n",
       "                                                                   SimpleImputer(strategy=&#x27;most_frequent&#x27;)),\n",
       "                                                                  (&#x27;cat_encoder&#x27;,\n",
       "                                                                   OneHotEncoder())]),\n",
       "                                                  [&#x27;HomePlanet&#x27;, &#x27;CryoSleep&#x27;,\n",
       "                                                   &#x27;Destination&#x27;, &#x27;VIP&#x27;, &#x27;Side&#x27;,\n",
       "                                                   &#x27;Deck&#x27;])])),\n",
       "                (&#x27;classifier&#x27;, SVC(random_state=42))])</pre></div></div></div><div class=\"sk-serial\"><div class=\"sk-item\"><div class=\"sk-serial\"><div class=\"sk-item\"><div class=\"sk-estimator sk-toggleable\"><input class=\"sk-toggleable__control sk-hidden--visually\" id=\"sk-estimator-id-33\" type=\"checkbox\" ><label for=\"sk-estimator-id-33\" class=\"sk-toggleable__label sk-toggleable__label-arrow\">AdvancedInputer</label><div class=\"sk-toggleable__content\"><pre>AdvancedInputer()</pre></div></div></div><div class=\"sk-item sk-dashed-wrapped\"><div class=\"sk-label-container\"><div class=\"sk-label sk-toggleable\"><input class=\"sk-toggleable__control sk-hidden--visually\" id=\"sk-estimator-id-34\" type=\"checkbox\" ><label for=\"sk-estimator-id-34\" class=\"sk-toggleable__label sk-toggleable__label-arrow\">preprocessor: ColumnTransformer</label><div class=\"sk-toggleable__content\"><pre>ColumnTransformer(transformers=[(&#x27;num&#x27;,\n",
       "                                 Pipeline(steps=[(&#x27;imputer&#x27;,\n",
       "                                                  SimpleImputer(strategy=&#x27;median&#x27;)),\n",
       "                                                 (&#x27;scaler&#x27;, StandardScaler())]),\n",
       "                                 [&#x27;Age&#x27;, &#x27;RoomService&#x27;, &#x27;FoodCourt&#x27;,\n",
       "                                  &#x27;ShoppingMall&#x27;, &#x27;Spa&#x27;, &#x27;VRDeck&#x27;, &#x27;totalTips&#x27;,\n",
       "                                  &#x27;numberInGroup&#x27;, &#x27;numberInCabin&#x27;]),\n",
       "                                (&#x27;cat&#x27;,\n",
       "                                 Pipeline(steps=[(&#x27;imputer&#x27;,\n",
       "                                                  SimpleImputer(strategy=&#x27;most_frequent&#x27;)),\n",
       "                                                 (&#x27;cat_encoder&#x27;,\n",
       "                                                  OneHotEncoder())]),\n",
       "                                 [&#x27;HomePlanet&#x27;, &#x27;CryoSleep&#x27;, &#x27;Destination&#x27;,\n",
       "                                  &#x27;VIP&#x27;, &#x27;Side&#x27;, &#x27;Deck&#x27;])])</pre></div></div></div><div class=\"sk-parallel\"><div class=\"sk-parallel-item\"><div class=\"sk-item\"><div class=\"sk-label-container\"><div class=\"sk-label sk-toggleable\"><input class=\"sk-toggleable__control sk-hidden--visually\" id=\"sk-estimator-id-35\" type=\"checkbox\" ><label for=\"sk-estimator-id-35\" class=\"sk-toggleable__label sk-toggleable__label-arrow\">num</label><div class=\"sk-toggleable__content\"><pre>[&#x27;Age&#x27;, &#x27;RoomService&#x27;, &#x27;FoodCourt&#x27;, &#x27;ShoppingMall&#x27;, &#x27;Spa&#x27;, &#x27;VRDeck&#x27;, &#x27;totalTips&#x27;, &#x27;numberInGroup&#x27;, &#x27;numberInCabin&#x27;]</pre></div></div></div><div class=\"sk-serial\"><div class=\"sk-item\"><div class=\"sk-serial\"><div class=\"sk-item\"><div class=\"sk-estimator sk-toggleable\"><input class=\"sk-toggleable__control sk-hidden--visually\" id=\"sk-estimator-id-36\" type=\"checkbox\" ><label for=\"sk-estimator-id-36\" class=\"sk-toggleable__label sk-toggleable__label-arrow\">SimpleImputer</label><div class=\"sk-toggleable__content\"><pre>SimpleImputer(strategy=&#x27;median&#x27;)</pre></div></div></div><div class=\"sk-item\"><div class=\"sk-estimator sk-toggleable\"><input class=\"sk-toggleable__control sk-hidden--visually\" id=\"sk-estimator-id-37\" type=\"checkbox\" ><label for=\"sk-estimator-id-37\" class=\"sk-toggleable__label sk-toggleable__label-arrow\">StandardScaler</label><div class=\"sk-toggleable__content\"><pre>StandardScaler()</pre></div></div></div></div></div></div></div></div><div class=\"sk-parallel-item\"><div class=\"sk-item\"><div class=\"sk-label-container\"><div class=\"sk-label sk-toggleable\"><input class=\"sk-toggleable__control sk-hidden--visually\" id=\"sk-estimator-id-38\" type=\"checkbox\" ><label for=\"sk-estimator-id-38\" class=\"sk-toggleable__label sk-toggleable__label-arrow\">cat</label><div class=\"sk-toggleable__content\"><pre>[&#x27;HomePlanet&#x27;, &#x27;CryoSleep&#x27;, &#x27;Destination&#x27;, &#x27;VIP&#x27;, &#x27;Side&#x27;, &#x27;Deck&#x27;]</pre></div></div></div><div class=\"sk-serial\"><div class=\"sk-item\"><div class=\"sk-serial\"><div class=\"sk-item\"><div class=\"sk-estimator sk-toggleable\"><input class=\"sk-toggleable__control sk-hidden--visually\" id=\"sk-estimator-id-39\" type=\"checkbox\" ><label for=\"sk-estimator-id-39\" class=\"sk-toggleable__label sk-toggleable__label-arrow\">SimpleImputer</label><div class=\"sk-toggleable__content\"><pre>SimpleImputer(strategy=&#x27;most_frequent&#x27;)</pre></div></div></div><div class=\"sk-item\"><div class=\"sk-estimator sk-toggleable\"><input class=\"sk-toggleable__control sk-hidden--visually\" id=\"sk-estimator-id-40\" type=\"checkbox\" ><label for=\"sk-estimator-id-40\" class=\"sk-toggleable__label sk-toggleable__label-arrow\">OneHotEncoder</label><div class=\"sk-toggleable__content\"><pre>OneHotEncoder()</pre></div></div></div></div></div></div></div></div></div></div><div class=\"sk-item\"><div class=\"sk-estimator sk-toggleable\"><input class=\"sk-toggleable__control sk-hidden--visually\" id=\"sk-estimator-id-41\" type=\"checkbox\" ><label for=\"sk-estimator-id-41\" class=\"sk-toggleable__label sk-toggleable__label-arrow\">SVC</label><div class=\"sk-toggleable__content\"><pre>SVC(random_state=42)</pre></div></div></div></div></div></div></div></div></div></div></div></div>"
      ],
      "text/plain": [
       "RandomizedSearchCV(cv=3,\n",
       "                   estimator=Pipeline(steps=[('HomePlanetAgeInputer',\n",
       "                                              AdvancedInputer()),\n",
       "                                             ('preprocessor',\n",
       "                                              ColumnTransformer(transformers=[('num',\n",
       "                                                                               Pipeline(steps=[('imputer',\n",
       "                                                                                                SimpleImputer(strategy='median')),\n",
       "                                                                                               ('scaler',\n",
       "                                                                                                StandardScaler())]),\n",
       "                                                                               ['Age',\n",
       "                                                                                'RoomService',\n",
       "                                                                                'FoodCourt',\n",
       "                                                                                'ShoppingMall',\n",
       "                                                                                'Spa',\n",
       "                                                                                'VRDeck',\n",
       "                                                                                'totalTips',\n",
       "                                                                                'numberInGroup',\n",
       "                                                                                'numberInCabin']),\n",
       "                                                                              ('...\n",
       "                                                                               Pipeline(steps=[('imputer',\n",
       "                                                                                                SimpleImputer(strategy='most_frequent')),\n",
       "                                                                                               ('cat_encoder',\n",
       "                                                                                                OneHotEncoder())]),\n",
       "                                                                               ['HomePlanet',\n",
       "                                                                                'CryoSleep',\n",
       "                                                                                'Destination',\n",
       "                                                                                'VIP',\n",
       "                                                                                'Side',\n",
       "                                                                                'Deck'])])),\n",
       "                                             ('classifier',\n",
       "                                              SVC(random_state=42))]),\n",
       "                   n_iter=75,\n",
       "                   param_distributions={'classifier__C': range(1, 101),\n",
       "                                        'classifier__coef0': range(1, 101),\n",
       "                                        'classifier__degree': range(1, 21)},\n",
       "                   random_state=42, scoring='accuracy')"
      ]
     },
     "execution_count": 66,
     "metadata": {},
     "output_type": "execute_result"
    }
   ],
   "source": [
    "num_attribs = [\"Age\",\"RoomService\", \"FoodCourt\", \"ShoppingMall\",\"Spa\",\"VRDeck\",\"totalTips\",\"numberInGroup\",\"numberInCabin\"]\n",
    "cat_attribs = [\"HomePlanet\", \"CryoSleep\", \"Destination\",\"VIP\", \"Side\", \"Deck\"]\n",
    "\n",
    "preprocess_pipeline = ColumnTransformer([\n",
    "        (\"num\", num_pipeline, num_attribs),\n",
    "        (\"cat\", cat_pipeline, cat_attribs),\n",
    "    ])\n",
    "\n",
    "X_train=train_data.copy()\n",
    "X_train=X_train.drop(columns=[\"Transported\"])\n",
    "y_train=train_data[\"Transported\"]\n",
    "\n",
    "clf = Pipeline(\n",
    "    steps=[(\"HomePlanetAgeInputer\",AdvancedInputer()), (\"preprocessor\", preprocess_pipeline), (\"classifier\", SVC(random_state=42))]\n",
    ")\n",
    "\n",
    "#on cherche les meilleurs paramètres : \n",
    "param_distr = {'classifier__C':range(1, 101),\n",
    "              'classifier__degree': range(1, 21),\n",
    "              'classifier__coef0':range(1, 101)}\n",
    "\n",
    "rnd = RandomizedSearchCV(clf,param_distributions = param_distr, cv = 3, n_iter = 75,\n",
    "                         scoring = \"accuracy\", random_state = 42)\n",
    "rnd.fit(X_train, y_train)"
   ]
  },
  {
   "cell_type": "code",
   "execution_count": 67,
   "id": "61d9fb42",
   "metadata": {},
   "outputs": [
    {
     "data": {
      "text/plain": [
       "{'classifier__degree': 8, 'classifier__coef0': 38, 'classifier__C': 2}"
      ]
     },
     "execution_count": 67,
     "metadata": {},
     "output_type": "execute_result"
    }
   ],
   "source": [
    "rnd.best_params_"
   ]
  },
  {
   "cell_type": "code",
   "execution_count": 68,
   "id": "c5032579",
   "metadata": {},
   "outputs": [
    {
     "data": {
      "text/plain": [
       "0.7946643517774072"
      ]
     },
     "execution_count": 68,
     "metadata": {},
     "output_type": "execute_result"
    }
   ],
   "source": [
    "rnd.best_score_ 0.7946644311849697"
   ]
  },
  {
   "cell_type": "code",
   "execution_count": 69,
   "id": "ae311cc1",
   "metadata": {},
   "outputs": [],
   "source": [
    "clf=rnd.best_estimator_"
   ]
  },
  {
   "cell_type": "code",
   "execution_count": 70,
   "id": "c5d7c01f",
   "metadata": {
    "scrolled": true
   },
   "outputs": [
    {
     "data": {
      "text/html": [
       "<style>#sk-container-id-5 {color: black;background-color: white;}#sk-container-id-5 pre{padding: 0;}#sk-container-id-5 div.sk-toggleable {background-color: white;}#sk-container-id-5 label.sk-toggleable__label {cursor: pointer;display: block;width: 100%;margin-bottom: 0;padding: 0.3em;box-sizing: border-box;text-align: center;}#sk-container-id-5 label.sk-toggleable__label-arrow:before {content: \"▸\";float: left;margin-right: 0.25em;color: #696969;}#sk-container-id-5 label.sk-toggleable__label-arrow:hover:before {color: black;}#sk-container-id-5 div.sk-estimator:hover label.sk-toggleable__label-arrow:before {color: black;}#sk-container-id-5 div.sk-toggleable__content {max-height: 0;max-width: 0;overflow: hidden;text-align: left;background-color: #f0f8ff;}#sk-container-id-5 div.sk-toggleable__content pre {margin: 0.2em;color: black;border-radius: 0.25em;background-color: #f0f8ff;}#sk-container-id-5 input.sk-toggleable__control:checked~div.sk-toggleable__content {max-height: 200px;max-width: 100%;overflow: auto;}#sk-container-id-5 input.sk-toggleable__control:checked~label.sk-toggleable__label-arrow:before {content: \"▾\";}#sk-container-id-5 div.sk-estimator input.sk-toggleable__control:checked~label.sk-toggleable__label {background-color: #d4ebff;}#sk-container-id-5 div.sk-label input.sk-toggleable__control:checked~label.sk-toggleable__label {background-color: #d4ebff;}#sk-container-id-5 input.sk-hidden--visually {border: 0;clip: rect(1px 1px 1px 1px);clip: rect(1px, 1px, 1px, 1px);height: 1px;margin: -1px;overflow: hidden;padding: 0;position: absolute;width: 1px;}#sk-container-id-5 div.sk-estimator {font-family: monospace;background-color: #f0f8ff;border: 1px dotted black;border-radius: 0.25em;box-sizing: border-box;margin-bottom: 0.5em;}#sk-container-id-5 div.sk-estimator:hover {background-color: #d4ebff;}#sk-container-id-5 div.sk-parallel-item::after {content: \"\";width: 100%;border-bottom: 1px solid gray;flex-grow: 1;}#sk-container-id-5 div.sk-label:hover label.sk-toggleable__label {background-color: #d4ebff;}#sk-container-id-5 div.sk-serial::before {content: \"\";position: absolute;border-left: 1px solid gray;box-sizing: border-box;top: 0;bottom: 0;left: 50%;z-index: 0;}#sk-container-id-5 div.sk-serial {display: flex;flex-direction: column;align-items: center;background-color: white;padding-right: 0.2em;padding-left: 0.2em;position: relative;}#sk-container-id-5 div.sk-item {position: relative;z-index: 1;}#sk-container-id-5 div.sk-parallel {display: flex;align-items: stretch;justify-content: center;background-color: white;position: relative;}#sk-container-id-5 div.sk-item::before, #sk-container-id-5 div.sk-parallel-item::before {content: \"\";position: absolute;border-left: 1px solid gray;box-sizing: border-box;top: 0;bottom: 0;left: 50%;z-index: -1;}#sk-container-id-5 div.sk-parallel-item {display: flex;flex-direction: column;z-index: 1;position: relative;background-color: white;}#sk-container-id-5 div.sk-parallel-item:first-child::after {align-self: flex-end;width: 50%;}#sk-container-id-5 div.sk-parallel-item:last-child::after {align-self: flex-start;width: 50%;}#sk-container-id-5 div.sk-parallel-item:only-child::after {width: 0;}#sk-container-id-5 div.sk-dashed-wrapped {border: 1px dashed gray;margin: 0 0.4em 0.5em 0.4em;box-sizing: border-box;padding-bottom: 0.4em;background-color: white;}#sk-container-id-5 div.sk-label label {font-family: monospace;font-weight: bold;display: inline-block;line-height: 1.2em;}#sk-container-id-5 div.sk-label-container {text-align: center;}#sk-container-id-5 div.sk-container {/* jupyter's `normalize.less` sets `[hidden] { display: none; }` but bootstrap.min.css set `[hidden] { display: none !important; }` so we also need the `!important` here to be able to override the default hidden behavior on the sphinx rendered scikit-learn.org. See: https://github.com/scikit-learn/scikit-learn/issues/21755 */display: inline-block !important;position: relative;}#sk-container-id-5 div.sk-text-repr-fallback {display: none;}</style><div id=\"sk-container-id-5\" class=\"sk-top-container\"><div class=\"sk-text-repr-fallback\"><pre>Pipeline(steps=[(&#x27;HomePlanetAgeInputer&#x27;, AdvancedInputer()),\n",
       "                (&#x27;preprocessor&#x27;,\n",
       "                 ColumnTransformer(transformers=[(&#x27;num&#x27;,\n",
       "                                                  Pipeline(steps=[(&#x27;imputer&#x27;,\n",
       "                                                                   SimpleImputer(strategy=&#x27;median&#x27;)),\n",
       "                                                                  (&#x27;scaler&#x27;,\n",
       "                                                                   StandardScaler())]),\n",
       "                                                  [&#x27;Age&#x27;, &#x27;RoomService&#x27;,\n",
       "                                                   &#x27;FoodCourt&#x27;, &#x27;ShoppingMall&#x27;,\n",
       "                                                   &#x27;Spa&#x27;, &#x27;VRDeck&#x27;, &#x27;totalTips&#x27;,\n",
       "                                                   &#x27;numberInGroup&#x27;,\n",
       "                                                   &#x27;numberInCabin&#x27;]),\n",
       "                                                 (&#x27;cat&#x27;,\n",
       "                                                  Pipeline(steps=[(&#x27;imputer&#x27;,\n",
       "                                                                   SimpleImputer(strategy=&#x27;most_frequent&#x27;)),\n",
       "                                                                  (&#x27;cat_encoder&#x27;,\n",
       "                                                                   OneHotEncoder())]),\n",
       "                                                  [&#x27;HomePlanet&#x27;, &#x27;CryoSleep&#x27;,\n",
       "                                                   &#x27;Destination&#x27;, &#x27;VIP&#x27;, &#x27;Side&#x27;,\n",
       "                                                   &#x27;Deck&#x27;])])),\n",
       "                (&#x27;classifier&#x27;, SVC(C=2, coef0=38, degree=8, random_state=42))])</pre><b>In a Jupyter environment, please rerun this cell to show the HTML representation or trust the notebook. <br />On GitHub, the HTML representation is unable to render, please try loading this page with nbviewer.org.</b></div><div class=\"sk-container\" hidden><div class=\"sk-item sk-dashed-wrapped\"><div class=\"sk-label-container\"><div class=\"sk-label sk-toggleable\"><input class=\"sk-toggleable__control sk-hidden--visually\" id=\"sk-estimator-id-42\" type=\"checkbox\" ><label for=\"sk-estimator-id-42\" class=\"sk-toggleable__label sk-toggleable__label-arrow\">Pipeline</label><div class=\"sk-toggleable__content\"><pre>Pipeline(steps=[(&#x27;HomePlanetAgeInputer&#x27;, AdvancedInputer()),\n",
       "                (&#x27;preprocessor&#x27;,\n",
       "                 ColumnTransformer(transformers=[(&#x27;num&#x27;,\n",
       "                                                  Pipeline(steps=[(&#x27;imputer&#x27;,\n",
       "                                                                   SimpleImputer(strategy=&#x27;median&#x27;)),\n",
       "                                                                  (&#x27;scaler&#x27;,\n",
       "                                                                   StandardScaler())]),\n",
       "                                                  [&#x27;Age&#x27;, &#x27;RoomService&#x27;,\n",
       "                                                   &#x27;FoodCourt&#x27;, &#x27;ShoppingMall&#x27;,\n",
       "                                                   &#x27;Spa&#x27;, &#x27;VRDeck&#x27;, &#x27;totalTips&#x27;,\n",
       "                                                   &#x27;numberInGroup&#x27;,\n",
       "                                                   &#x27;numberInCabin&#x27;]),\n",
       "                                                 (&#x27;cat&#x27;,\n",
       "                                                  Pipeline(steps=[(&#x27;imputer&#x27;,\n",
       "                                                                   SimpleImputer(strategy=&#x27;most_frequent&#x27;)),\n",
       "                                                                  (&#x27;cat_encoder&#x27;,\n",
       "                                                                   OneHotEncoder())]),\n",
       "                                                  [&#x27;HomePlanet&#x27;, &#x27;CryoSleep&#x27;,\n",
       "                                                   &#x27;Destination&#x27;, &#x27;VIP&#x27;, &#x27;Side&#x27;,\n",
       "                                                   &#x27;Deck&#x27;])])),\n",
       "                (&#x27;classifier&#x27;, SVC(C=2, coef0=38, degree=8, random_state=42))])</pre></div></div></div><div class=\"sk-serial\"><div class=\"sk-item\"><div class=\"sk-estimator sk-toggleable\"><input class=\"sk-toggleable__control sk-hidden--visually\" id=\"sk-estimator-id-43\" type=\"checkbox\" ><label for=\"sk-estimator-id-43\" class=\"sk-toggleable__label sk-toggleable__label-arrow\">AdvancedInputer</label><div class=\"sk-toggleable__content\"><pre>AdvancedInputer()</pre></div></div></div><div class=\"sk-item sk-dashed-wrapped\"><div class=\"sk-label-container\"><div class=\"sk-label sk-toggleable\"><input class=\"sk-toggleable__control sk-hidden--visually\" id=\"sk-estimator-id-44\" type=\"checkbox\" ><label for=\"sk-estimator-id-44\" class=\"sk-toggleable__label sk-toggleable__label-arrow\">preprocessor: ColumnTransformer</label><div class=\"sk-toggleable__content\"><pre>ColumnTransformer(transformers=[(&#x27;num&#x27;,\n",
       "                                 Pipeline(steps=[(&#x27;imputer&#x27;,\n",
       "                                                  SimpleImputer(strategy=&#x27;median&#x27;)),\n",
       "                                                 (&#x27;scaler&#x27;, StandardScaler())]),\n",
       "                                 [&#x27;Age&#x27;, &#x27;RoomService&#x27;, &#x27;FoodCourt&#x27;,\n",
       "                                  &#x27;ShoppingMall&#x27;, &#x27;Spa&#x27;, &#x27;VRDeck&#x27;, &#x27;totalTips&#x27;,\n",
       "                                  &#x27;numberInGroup&#x27;, &#x27;numberInCabin&#x27;]),\n",
       "                                (&#x27;cat&#x27;,\n",
       "                                 Pipeline(steps=[(&#x27;imputer&#x27;,\n",
       "                                                  SimpleImputer(strategy=&#x27;most_frequent&#x27;)),\n",
       "                                                 (&#x27;cat_encoder&#x27;,\n",
       "                                                  OneHotEncoder())]),\n",
       "                                 [&#x27;HomePlanet&#x27;, &#x27;CryoSleep&#x27;, &#x27;Destination&#x27;,\n",
       "                                  &#x27;VIP&#x27;, &#x27;Side&#x27;, &#x27;Deck&#x27;])])</pre></div></div></div><div class=\"sk-parallel\"><div class=\"sk-parallel-item\"><div class=\"sk-item\"><div class=\"sk-label-container\"><div class=\"sk-label sk-toggleable\"><input class=\"sk-toggleable__control sk-hidden--visually\" id=\"sk-estimator-id-45\" type=\"checkbox\" ><label for=\"sk-estimator-id-45\" class=\"sk-toggleable__label sk-toggleable__label-arrow\">num</label><div class=\"sk-toggleable__content\"><pre>[&#x27;Age&#x27;, &#x27;RoomService&#x27;, &#x27;FoodCourt&#x27;, &#x27;ShoppingMall&#x27;, &#x27;Spa&#x27;, &#x27;VRDeck&#x27;, &#x27;totalTips&#x27;, &#x27;numberInGroup&#x27;, &#x27;numberInCabin&#x27;]</pre></div></div></div><div class=\"sk-serial\"><div class=\"sk-item\"><div class=\"sk-serial\"><div class=\"sk-item\"><div class=\"sk-estimator sk-toggleable\"><input class=\"sk-toggleable__control sk-hidden--visually\" id=\"sk-estimator-id-46\" type=\"checkbox\" ><label for=\"sk-estimator-id-46\" class=\"sk-toggleable__label sk-toggleable__label-arrow\">SimpleImputer</label><div class=\"sk-toggleable__content\"><pre>SimpleImputer(strategy=&#x27;median&#x27;)</pre></div></div></div><div class=\"sk-item\"><div class=\"sk-estimator sk-toggleable\"><input class=\"sk-toggleable__control sk-hidden--visually\" id=\"sk-estimator-id-47\" type=\"checkbox\" ><label for=\"sk-estimator-id-47\" class=\"sk-toggleable__label sk-toggleable__label-arrow\">StandardScaler</label><div class=\"sk-toggleable__content\"><pre>StandardScaler()</pre></div></div></div></div></div></div></div></div><div class=\"sk-parallel-item\"><div class=\"sk-item\"><div class=\"sk-label-container\"><div class=\"sk-label sk-toggleable\"><input class=\"sk-toggleable__control sk-hidden--visually\" id=\"sk-estimator-id-48\" type=\"checkbox\" ><label for=\"sk-estimator-id-48\" class=\"sk-toggleable__label sk-toggleable__label-arrow\">cat</label><div class=\"sk-toggleable__content\"><pre>[&#x27;HomePlanet&#x27;, &#x27;CryoSleep&#x27;, &#x27;Destination&#x27;, &#x27;VIP&#x27;, &#x27;Side&#x27;, &#x27;Deck&#x27;]</pre></div></div></div><div class=\"sk-serial\"><div class=\"sk-item\"><div class=\"sk-serial\"><div class=\"sk-item\"><div class=\"sk-estimator sk-toggleable\"><input class=\"sk-toggleable__control sk-hidden--visually\" id=\"sk-estimator-id-49\" type=\"checkbox\" ><label for=\"sk-estimator-id-49\" class=\"sk-toggleable__label sk-toggleable__label-arrow\">SimpleImputer</label><div class=\"sk-toggleable__content\"><pre>SimpleImputer(strategy=&#x27;most_frequent&#x27;)</pre></div></div></div><div class=\"sk-item\"><div class=\"sk-estimator sk-toggleable\"><input class=\"sk-toggleable__control sk-hidden--visually\" id=\"sk-estimator-id-50\" type=\"checkbox\" ><label for=\"sk-estimator-id-50\" class=\"sk-toggleable__label sk-toggleable__label-arrow\">OneHotEncoder</label><div class=\"sk-toggleable__content\"><pre>OneHotEncoder()</pre></div></div></div></div></div></div></div></div></div></div><div class=\"sk-item\"><div class=\"sk-estimator sk-toggleable\"><input class=\"sk-toggleable__control sk-hidden--visually\" id=\"sk-estimator-id-51\" type=\"checkbox\" ><label for=\"sk-estimator-id-51\" class=\"sk-toggleable__label sk-toggleable__label-arrow\">SVC</label><div class=\"sk-toggleable__content\"><pre>SVC(C=2, coef0=38, degree=8, random_state=42)</pre></div></div></div></div></div></div></div>"
      ],
      "text/plain": [
       "Pipeline(steps=[('HomePlanetAgeInputer', AdvancedInputer()),\n",
       "                ('preprocessor',\n",
       "                 ColumnTransformer(transformers=[('num',\n",
       "                                                  Pipeline(steps=[('imputer',\n",
       "                                                                   SimpleImputer(strategy='median')),\n",
       "                                                                  ('scaler',\n",
       "                                                                   StandardScaler())]),\n",
       "                                                  ['Age', 'RoomService',\n",
       "                                                   'FoodCourt', 'ShoppingMall',\n",
       "                                                   'Spa', 'VRDeck', 'totalTips',\n",
       "                                                   'numberInGroup',\n",
       "                                                   'numberInCabin']),\n",
       "                                                 ('cat',\n",
       "                                                  Pipeline(steps=[('imputer',\n",
       "                                                                   SimpleImputer(strategy='most_frequent')),\n",
       "                                                                  ('cat_encoder',\n",
       "                                                                   OneHotEncoder())]),\n",
       "                                                  ['HomePlanet', 'CryoSleep',\n",
       "                                                   'Destination', 'VIP', 'Side',\n",
       "                                                   'Deck'])])),\n",
       "                ('classifier', SVC(C=2, coef0=38, degree=8, random_state=42))])"
      ]
     },
     "execution_count": 70,
     "metadata": {},
     "output_type": "execute_result"
    }
   ],
   "source": [
    "clf.fit(X_train,y_train)"
   ]
  },
  {
   "cell_type": "code",
   "execution_count": 71,
   "id": "6eebf32a",
   "metadata": {},
   "outputs": [],
   "source": [
    "y_pred=clf.predict(X_test)"
   ]
  },
  {
   "cell_type": "code",
   "execution_count": 72,
   "id": "7f1bde58",
   "metadata": {},
   "outputs": [],
   "source": [
    "y_pred_df=pd.DataFrame(y_pred, columns = ['Transported'])\n",
    "y_pred_df=y_pred_df.set_index(X_test[\"PassengerId\"])"
   ]
  },
  {
   "cell_type": "code",
   "execution_count": 73,
   "id": "1f07ce7a",
   "metadata": {},
   "outputs": [],
   "source": [
    "y_pred_df.to_csv(\"C:/Users/miaou/Documents/UTT/ISI-2/PE_IA_RM/Python_script/spaceship_titanic_competition/data/y_pred.csv\")"
   ]
  }
 ],
 "metadata": {
  "kernelspec": {
   "display_name": "Python 3",
   "language": "python",
   "name": "python3"
  },
  "language_info": {
   "codemirror_mode": {
    "name": "ipython",
    "version": 3
   },
   "file_extension": ".py",
   "mimetype": "text/x-python",
   "name": "python",
   "nbconvert_exporter": "python",
   "pygments_lexer": "ipython3",
   "version": "3.8.8"
  }
 },
 "nbformat": 4,
 "nbformat_minor": 5
}
