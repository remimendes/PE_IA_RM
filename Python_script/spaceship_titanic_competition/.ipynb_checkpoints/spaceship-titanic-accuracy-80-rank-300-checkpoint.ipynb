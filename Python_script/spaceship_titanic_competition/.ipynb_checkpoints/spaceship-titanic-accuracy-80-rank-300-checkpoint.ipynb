{
 "cells": [
  {
   "cell_type": "markdown",
   "id": "74919394",
   "metadata": {
    "papermill": {
     "duration": 0.011339,
     "end_time": "2023-04-03T16:05:51.280480",
     "exception": false,
     "start_time": "2023-04-03T16:05:51.269141",
     "status": "completed"
    },
    "tags": []
   },
   "source": [
    "# SpaceShip Titanic Submission # \n",
    "## Thanks for visiting this notebook ##\n",
    "<div class=\"alert alert-block alert-info\" style=\"font-size:14px; font-family:verdana;\">\n",
    "     Hi , this notebook is my submission to Spaceship Titanic - a getting started competition. Following concepts are explained in the notebook \n",
    "    <bl><li>How to do EDA to create new features from existing dataset. Adding new feature in the dataset improves predictions to an extent higher than the correct model and hyperparameter tuning </li>\n",
    "        <li> How to do EDA to better fill missing data </li>\n",
    "        <li> The Concept of Training pipelines. By creating pipelines, one does not have to run the same code again for training and validating. </li>\n",
    "        <li> Choosing the correct ML algo ( classification technique) </li>\n",
    "        <li> Finally hyperparameter tuning </li>\n",
    "        <b> Please upvote if you found this useful. Leave comments for improvements. Thank You!</b>\n",
    "</div>"
   ]
  },
  {
   "cell_type": "markdown",
   "id": "0257597f",
   "metadata": {
    "papermill": {
     "duration": 0.009895,
     "end_time": "2023-04-03T16:05:51.300886",
     "exception": false,
     "start_time": "2023-04-03T16:05:51.290991",
     "status": "completed"
    },
    "tags": []
   },
   "source": [
    "# Importing Libraries #"
   ]
  },
  {
   "cell_type": "code",
   "execution_count": 1,
   "id": "7fdc78f4",
   "metadata": {
    "_cell_guid": "b1076dfc-b9ad-4769-8c92-a6c4dae69d19",
    "_uuid": "8f2839f25d086af736a60e9eeb907d3b93b6e0e5",
    "execution": {
     "iopub.execute_input": "2023-04-03T16:05:51.324175Z",
     "iopub.status.busy": "2023-04-03T16:05:51.323355Z",
     "iopub.status.idle": "2023-04-03T16:05:53.355970Z",
     "shell.execute_reply": "2023-04-03T16:05:53.354566Z"
    },
    "papermill": {
     "duration": 2.04794,
     "end_time": "2023-04-03T16:05:53.359100",
     "exception": false,
     "start_time": "2023-04-03T16:05:51.311160",
     "status": "completed"
    },
    "tags": []
   },
   "outputs": [],
   "source": [
    "# This Python 3 environment comes with many helpful analytics libraries installed\n",
    "# It is defined by the kaggle/python Docker image: https://github.com/kaggle/docker-python\n",
    "# For example, here's several helpful packages to load\n",
    "\n",
    "import numpy as np # linear algebra\n",
    "import pandas as pd # data processing, CSV file I/O (e.g. pd.read_csv)\n",
    "import datetime\n",
    "import multiprocessing\n",
    "import pandas as pd\n",
    "from sklearn.base import BaseEstimator, TransformerMixin\n",
    "from sklearn.ensemble import RandomForestClassifier\n",
    "from sklearn.impute import SimpleImputer\n",
    "from sklearn.linear_model import LogisticRegression\n",
    "from sklearn import metrics\n",
    "from sklearn.pipeline import FeatureUnion, Pipeline \n",
    "from sklearn.preprocessing import StandardScaler, OneHotEncoder\n",
    "from sklearn.model_selection import GridSearchCV, TimeSeriesSplit\n",
    "import sys\n",
    "from sklearn.pipeline import Pipeline, make_pipeline\n",
    "from sklearn.ensemble import RandomForestClassifier, VotingClassifier\n",
    "from sklearn.svm import SVC\n",
    "from sklearn.tree import DecisionTreeClassifier\n",
    "from sklearn.preprocessing import OrdinalEncoder, OneHotEncoder, StandardScaler, FunctionTransformer\n",
    "from sklearn.compose import ColumnTransformer\n",
    "from sklearn.model_selection import  RandomizedSearchCV, cross_val_predict, cross_val_score\n",
    "from scipy.stats import randint\n",
    "from sklearn.metrics import confusion_matrix, ConfusionMatrixDisplay\n",
    "import matplotlib.pyplot as plt\n",
    "import xgboost as xgb\n",
    "import seaborn as sns\n",
    "import os"
   ]
  },
  {
   "cell_type": "code",
   "execution_count": 2,
   "id": "23d98be4",
   "metadata": {
    "execution": {
     "iopub.execute_input": "2023-04-03T16:05:53.383010Z",
     "iopub.status.busy": "2023-04-03T16:05:53.382583Z",
     "iopub.status.idle": "2023-04-03T16:05:53.438231Z",
     "shell.execute_reply": "2023-04-03T16:05:53.437004Z"
    },
    "papermill": {
     "duration": 0.071822,
     "end_time": "2023-04-03T16:05:53.441331",
     "exception": false,
     "start_time": "2023-04-03T16:05:53.369509",
     "status": "completed"
    },
    "tags": []
   },
   "outputs": [],
   "source": [
    "train = pd.read_csv(\"/kaggle/input/spaceship-titanic/train.csv\")"
   ]
  },
  {
   "cell_type": "markdown",
   "id": "3aa42356",
   "metadata": {
    "papermill": {
     "duration": 0.010201,
     "end_time": "2023-04-03T16:05:53.461858",
     "exception": false,
     "start_time": "2023-04-03T16:05:53.451657",
     "status": "completed"
    },
    "tags": []
   },
   "source": [
    "<a id=\"section-one\"></a>\n",
    "# <b>1. EDA for creating Features</b> \n",
    "\n",
    "## Survival rate is defined as the number of passengers who survived divided by the total number of passengers ## \n",
    "\n",
    "## We tested following hypothesis ## \n",
    " <bl> <li> Does the survival rate differ according to the number of passengers in the group the passengers belong to ? The group can be extracted from the PassengerId itself</li> \n",
    "        <li> Does the survival rate differ according to the number of passengers in the cabin the passenger is travelling in ? </li>\n",
    "     <li> Since we have columns related to different expenses incurred by a passenger, should we create a column for total expenses as well? Does survival rate depend on total expense incurred?</li></bl>\n",
    "     \n",
    "**First we create a function which will take as input the dataframe and a column name. The funnel will give as output the survival rate for the different possible values of the column. Writing this function will ensure we do not write the code to calculate survival rate multiple times**"
   ]
  },
  {
   "cell_type": "code",
   "execution_count": 3,
   "id": "b82c875c",
   "metadata": {
    "execution": {
     "iopub.execute_input": "2023-04-03T16:05:53.485951Z",
     "iopub.status.busy": "2023-04-03T16:05:53.484791Z",
     "iopub.status.idle": "2023-04-03T16:05:53.493618Z",
     "shell.execute_reply": "2023-04-03T16:05:53.492195Z"
    },
    "papermill": {
     "duration": 0.023698,
     "end_time": "2023-04-03T16:05:53.496408",
     "exception": false,
     "start_time": "2023-04-03T16:05:53.472710",
     "status": "completed"
    },
    "tags": []
   },
   "outputs": [],
   "source": [
    "# First create a function which will calculate survival rate given the column which we want to calculate it on \n",
    "def survival_rate(df,feature_name):\n",
    "    # First get total rows(passengers) group-wise\n",
    "    group_count=df[[feature_name,'Transported']].groupby(feature_name).count().rename(columns={'Transported':'Passengers'})\n",
    "    group_survived= df[[feature_name,'Transported']].groupby(feature_name).sum().rename(columns={'Transported':'Survived'})\n",
    "    final_df= group_count.merge(group_survived,how=\"left\",left_index=True,right_index=True)\n",
    "    final_df['Survival_rate']=final_df['Survived']/final_df['Passengers']\n",
    "    final_df.drop(columns={'Passengers','Survived'},inplace=True)\n",
    "    return final_df"
   ]
  },
  {
   "cell_type": "code",
   "execution_count": 4,
   "id": "a575ccfb",
   "metadata": {
    "execution": {
     "iopub.execute_input": "2023-04-03T16:05:53.518786Z",
     "iopub.status.busy": "2023-04-03T16:05:53.518342Z",
     "iopub.status.idle": "2023-04-03T16:05:53.527573Z",
     "shell.execute_reply": "2023-04-03T16:05:53.526014Z"
    },
    "papermill": {
     "duration": 0.023384,
     "end_time": "2023-04-03T16:05:53.530048",
     "exception": false,
     "start_time": "2023-04-03T16:05:53.506664",
     "status": "completed"
    },
    "tags": []
   },
   "outputs": [
    {
     "data": {
      "text/plain": [
       "Index(['PassengerId', 'HomePlanet', 'CryoSleep', 'Cabin', 'Destination', 'Age',\n",
       "       'VIP', 'RoomService', 'FoodCourt', 'ShoppingMall', 'Spa', 'VRDeck',\n",
       "       'Name', 'Transported'],\n",
       "      dtype='object')"
      ]
     },
     "execution_count": 4,
     "metadata": {},
     "output_type": "execute_result"
    }
   ],
   "source": [
    "train.columns"
   ]
  },
  {
   "cell_type": "markdown",
   "id": "028e69fb",
   "metadata": {
    "papermill": {
     "duration": 0.010416,
     "end_time": "2023-04-03T16:05:53.550809",
     "exception": false,
     "start_time": "2023-04-03T16:05:53.540393",
     "status": "completed"
    },
    "tags": []
   },
   "source": [
    "**For example let us calculate the survival rate for different values of the column CryoSleep**"
   ]
  },
  {
   "cell_type": "code",
   "execution_count": 5,
   "id": "2ceb1c7c",
   "metadata": {
    "execution": {
     "iopub.execute_input": "2023-04-03T16:05:53.573435Z",
     "iopub.status.busy": "2023-04-03T16:05:53.573010Z",
     "iopub.status.idle": "2023-04-03T16:05:53.883658Z",
     "shell.execute_reply": "2023-04-03T16:05:53.882147Z"
    },
    "papermill": {
     "duration": 0.326381,
     "end_time": "2023-04-03T16:05:53.887435",
     "exception": false,
     "start_time": "2023-04-03T16:05:53.561054",
     "status": "completed"
    },
    "tags": []
   },
   "outputs": [
    {
     "name": "stdout",
     "output_type": "stream",
     "text": [
      "   CryoSleep  Survival_rate\n",
      "0      False       0.328921\n",
      "1       True       0.817583\n"
     ]
    },
    {
     "data": {
      "text/plain": [
       "<AxesSubplot:xlabel='CryoSleep', ylabel='Survival_rate'>"
      ]
     },
     "execution_count": 5,
     "metadata": {},
     "output_type": "execute_result"
    },
    {
     "data": {
      "image/png": "[encoded data removed]",
      "text/plain": [
       "<Figure size 640x480 with 1 Axes>"
      ]
     },
     "metadata": {},
     "output_type": "display_data"
    }
   ],
   "source": [
    "group_strength_survival_rate=survival_rate(train,'CryoSleep')\n",
    "group_strength_survival_rate.reset_index(inplace=True)\n",
    "print(group_strength_survival_rate)\n",
    "sns.set_style(\"whitegrid\")\n",
    "sns.barplot(data=group_strength_survival_rate,x=\"CryoSleep\",y=\"Survival_rate\")"
   ]
  },
  {
   "cell_type": "markdown",
   "id": "2e761d47",
   "metadata": {
    "papermill": {
     "duration": 0.010493,
     "end_time": "2023-04-03T16:05:53.908927",
     "exception": false,
     "start_time": "2023-04-03T16:05:53.898434",
     "status": "completed"
    },
    "tags": []
   },
   "source": [
    "**Among the passengers who had opted for being put to Cryogenic sleep (CryoSleep=\"True\"),82% survived. Among the passengers who had not opted for the same, (CryoSleep=\"False\"), only 33% survived.**\n",
    "\n",
    "**We shall utilise this function to calculate survival rates for the various values of the new feature we create**"
   ]
  },
  {
   "cell_type": "code",
   "execution_count": 6,
   "id": "6bd9bd55",
   "metadata": {
    "execution": {
     "iopub.execute_input": "2023-04-03T16:05:53.933013Z",
     "iopub.status.busy": "2023-04-03T16:05:53.932062Z",
     "iopub.status.idle": "2023-04-03T16:05:54.282993Z",
     "shell.execute_reply": "2023-04-03T16:05:54.281420Z"
    },
    "papermill": {
     "duration": 0.366158,
     "end_time": "2023-04-03T16:05:54.285930",
     "exception": false,
     "start_time": "2023-04-03T16:05:53.919772",
     "status": "completed"
    },
    "tags": []
   },
   "outputs": [
    {
     "name": "stdout",
     "output_type": "stream",
     "text": [
      "   Passenger_in_group  Survival_rate\n",
      "0                   1       0.452445\n",
      "1                   2       0.538050\n",
      "2                   3       0.593137\n",
      "3                   4       0.640777\n",
      "4                   5       0.592453\n",
      "5                   6       0.614943\n",
      "6                   7       0.541126\n",
      "7                   8       0.394231\n"
     ]
    },
    {
     "data": {
      "text/plain": [
       "<AxesSubplot:xlabel='Passenger_in_group', ylabel='Survival_rate'>"
      ]
     },
     "execution_count": 6,
     "metadata": {},
     "output_type": "execute_result"
    },
    {
     "data": {
      "image/png": "[encoded data removed]",
      "text/plain": [
       "<Figure size 640x480 with 1 Axes>"
      ]
     },
     "metadata": {},
     "output_type": "display_data"
    }
   ],
   "source": [
    "#Extracting Groups from PassengerId\n",
    "train['Group']=train['PassengerId'].str.split('_', 1, expand=True)[0].astype(int)\n",
    "#Calculating number of passengers in each group and joining back with train to get a feature number_of_passengers_in_group\n",
    "group_wise=train[['Group','PassengerId']].groupby(['Group']).count().rename(columns={\"PassengerId\":\"Passenger_in_group\"})\n",
    "train=pd.merge(train,group_wise,how=\"left\",left_on=\"Group\",right_index=True)\n",
    "group_strength_survival_rate=survival_rate(train,'Passenger_in_group')\n",
    "group_strength_survival_rate.reset_index(inplace=True)\n",
    "print(group_strength_survival_rate)\n",
    "sns.barplot(data=group_strength_survival_rate,x=\"Passenger_in_group\",y=\"Survival_rate\")"
   ]
  },
  {
   "cell_type": "markdown",
   "id": "e61551ad",
   "metadata": {
    "papermill": {
     "duration": 0.01119,
     "end_time": "2023-04-03T16:05:54.309112",
     "exception": false,
     "start_time": "2023-04-03T16:05:54.297922",
     "status": "completed"
    },
    "tags": []
   },
   "source": [
    "<b> We see that survival rate indeed varies according to number of passengers in the same group as a given passenger. It increases as the number of passengers increases from 1 to 4 and then follows a decreasing trend !</b>"
   ]
  },
  {
   "cell_type": "markdown",
   "id": "72bee3a1",
   "metadata": {
    "papermill": {
     "duration": 0.011076,
     "end_time": "2023-04-03T16:05:54.332200",
     "exception": false,
     "start_time": "2023-04-03T16:05:54.321124",
     "status": "completed"
    },
    "tags": []
   },
   "source": [
    "<b>Similarly plotting survival rate according to number of passengers in a group.</b>"
   ]
  },
  {
   "cell_type": "code",
   "execution_count": 7,
   "id": "26465328",
   "metadata": {
    "execution": {
     "iopub.execute_input": "2023-04-03T16:05:54.356992Z",
     "iopub.status.busy": "2023-04-03T16:05:54.356533Z",
     "iopub.status.idle": "2023-04-03T16:05:54.697631Z",
     "shell.execute_reply": "2023-04-03T16:05:54.696291Z"
    },
    "papermill": {
     "duration": 0.356683,
     "end_time": "2023-04-03T16:05:54.700259",
     "exception": false,
     "start_time": "2023-04-03T16:05:54.343576",
     "status": "completed"
    },
    "tags": []
   },
   "outputs": [
    {
     "name": "stdout",
     "output_type": "stream",
     "text": [
      "   Passenger_in_cabin  Survival_rate\n",
      "0                 1.0       0.445550\n",
      "1                 2.0       0.595481\n",
      "2                 3.0       0.611780\n",
      "3                 4.0       0.634615\n",
      "4                 5.0       0.604255\n",
      "5                 6.0       0.631313\n",
      "6                 7.0       0.571429\n",
      "7                 8.0       0.375000\n"
     ]
    },
    {
     "data": {
      "text/plain": [
       "<AxesSubplot:xlabel='Passenger_in_cabin', ylabel='Survival_rate'>"
      ]
     },
     "execution_count": 7,
     "metadata": {},
     "output_type": "execute_result"
    },
    {
     "data": {
      "image/png": "[encoded data removed]",
      "text/plain": [
       "<Figure size 640x480 with 1 Axes>"
      ]
     },
     "metadata": {},
     "output_type": "display_data"
    }
   ],
   "source": [
    "group_wise=train[['Cabin','PassengerId']].groupby(['Cabin']).count().rename(columns={\"PassengerId\":\"Passenger_in_cabin\"})\n",
    "train=pd.merge(train,group_wise,how=\"left\",left_on=\"Cabin\",right_index=True)\n",
    "group_strength_survival_rate=survival_rate(train,\"Passenger_in_cabin\")\n",
    "group_strength_survival_rate.reset_index(inplace=True)\n",
    "print(group_strength_survival_rate)\n",
    "sns.barplot(data=group_strength_survival_rate,x=\"Passenger_in_cabin\",y=\"Survival_rate\")"
   ]
  },
  {
   "cell_type": "markdown",
   "id": "26c8fb54",
   "metadata": {
    "papermill": {
     "duration": 0.01164,
     "end_time": "2023-04-03T16:05:54.723946",
     "exception": false,
     "start_time": "2023-04-03T16:05:54.712306",
     "status": "completed"
    },
    "tags": []
   },
   "source": [
    "<b> Again , it seems the survival rate improves as number of passengers in cabin increases as the number of passengers increases from 1 -4 and it starts reducing with increase in number of passengers<b>"
   ]
  },
  {
   "cell_type": "markdown",
   "id": "094d777e",
   "metadata": {
    "papermill": {
     "duration": 0.011467,
     "end_time": "2023-04-03T16:05:54.747237",
     "exception": false,
     "start_time": "2023-04-03T16:05:54.735770",
     "status": "completed"
    },
    "tags": []
   },
   "source": [
    "Next, creating a column called total expense in train and creating another column to distribute it in bins , so that visualisation is easy. Plotting survival rate for various bins of total expenses"
   ]
  },
  {
   "cell_type": "code",
   "execution_count": 8,
   "id": "bd0735d4",
   "metadata": {
    "execution": {
     "iopub.execute_input": "2023-04-03T16:05:54.773752Z",
     "iopub.status.busy": "2023-04-03T16:05:54.773325Z",
     "iopub.status.idle": "2023-04-03T16:05:54.807381Z",
     "shell.execute_reply": "2023-04-03T16:05:54.806069Z"
    },
    "papermill": {
     "duration": 0.051426,
     "end_time": "2023-04-03T16:05:54.810500",
     "exception": false,
     "start_time": "2023-04-03T16:05:54.759074",
     "status": "completed"
    },
    "tags": []
   },
   "outputs": [
    {
     "data": {
      "text/html": [
       "<div>\n",
       "<style scoped>\n",
       "    .dataframe tbody tr th:only-of-type {\n",
       "        vertical-align: middle;\n",
       "    }\n",
       "\n",
       "    .dataframe tbody tr th {\n",
       "        vertical-align: top;\n",
       "    }\n",
       "\n",
       "    .dataframe thead th {\n",
       "        text-align: right;\n",
       "    }\n",
       "</style>\n",
       "<table border=\"1\" class=\"dataframe\">\n",
       "  <thead>\n",
       "    <tr style=\"text-align: right;\">\n",
       "      <th></th>\n",
       "      <th>cut_Total_spend</th>\n",
       "      <th>Total_spend</th>\n",
       "    </tr>\n",
       "  </thead>\n",
       "  <tbody>\n",
       "    <tr>\n",
       "      <th>0</th>\n",
       "      <td>NaN</td>\n",
       "      <td>0.0</td>\n",
       "    </tr>\n",
       "    <tr>\n",
       "      <th>1</th>\n",
       "      <td>0-10000</td>\n",
       "      <td>736.0</td>\n",
       "    </tr>\n",
       "    <tr>\n",
       "      <th>2</th>\n",
       "      <td>10001-20000</td>\n",
       "      <td>10383.0</td>\n",
       "    </tr>\n",
       "    <tr>\n",
       "      <th>3</th>\n",
       "      <td>0-10000</td>\n",
       "      <td>5176.0</td>\n",
       "    </tr>\n",
       "    <tr>\n",
       "      <th>4</th>\n",
       "      <td>0-10000</td>\n",
       "      <td>1091.0</td>\n",
       "    </tr>\n",
       "    <tr>\n",
       "      <th>...</th>\n",
       "      <td>...</td>\n",
       "      <td>...</td>\n",
       "    </tr>\n",
       "    <tr>\n",
       "      <th>8688</th>\n",
       "      <td>0-10000</td>\n",
       "      <td>8536.0</td>\n",
       "    </tr>\n",
       "    <tr>\n",
       "      <th>8689</th>\n",
       "      <td>NaN</td>\n",
       "      <td>0.0</td>\n",
       "    </tr>\n",
       "    <tr>\n",
       "      <th>8690</th>\n",
       "      <td>0-10000</td>\n",
       "      <td>1873.0</td>\n",
       "    </tr>\n",
       "    <tr>\n",
       "      <th>8691</th>\n",
       "      <td>0-10000</td>\n",
       "      <td>4637.0</td>\n",
       "    </tr>\n",
       "    <tr>\n",
       "      <th>8692</th>\n",
       "      <td>0-10000</td>\n",
       "      <td>4826.0</td>\n",
       "    </tr>\n",
       "  </tbody>\n",
       "</table>\n",
       "<p>8693 rows × 2 columns</p>\n",
       "</div>"
      ],
      "text/plain": [
       "     cut_Total_spend  Total_spend\n",
       "0                NaN          0.0\n",
       "1            0-10000        736.0\n",
       "2        10001-20000      10383.0\n",
       "3            0-10000       5176.0\n",
       "4            0-10000       1091.0\n",
       "...              ...          ...\n",
       "8688         0-10000       8536.0\n",
       "8689             NaN          0.0\n",
       "8690         0-10000       1873.0\n",
       "8691         0-10000       4637.0\n",
       "8692         0-10000       4826.0\n",
       "\n",
       "[8693 rows x 2 columns]"
      ]
     },
     "execution_count": 8,
     "metadata": {},
     "output_type": "execute_result"
    }
   ],
   "source": [
    "train['Total_spend']=train[['RoomService','FoodCourt','ShoppingMall','Spa','VRDeck']].sum(axis=1)\n",
    "cut_labels_4 = ['0-10000','10001-20000','20001-30000','30001-40000']\n",
    "cut_bins = [0, 10000, 20000, 30000, 40000]\n",
    "train['cut_Total_spend'] = pd.cut(train['Total_spend'], bins=cut_bins, labels=cut_labels_4)\n",
    "train[['cut_Total_spend','Total_spend']]\n"
   ]
  },
  {
   "cell_type": "code",
   "execution_count": 9,
   "id": "60156d7e",
   "metadata": {
    "execution": {
     "iopub.execute_input": "2023-04-03T16:05:54.837843Z",
     "iopub.status.busy": "2023-04-03T16:05:54.836810Z",
     "iopub.status.idle": "2023-04-03T16:05:54.853665Z",
     "shell.execute_reply": "2023-04-03T16:05:54.852410Z"
    },
    "papermill": {
     "duration": 0.033118,
     "end_time": "2023-04-03T16:05:54.856145",
     "exception": false,
     "start_time": "2023-04-03T16:05:54.823027",
     "status": "completed"
    },
    "tags": []
   },
   "outputs": [
    {
     "data": {
      "text/html": [
       "<div>\n",
       "<style scoped>\n",
       "    .dataframe tbody tr th:only-of-type {\n",
       "        vertical-align: middle;\n",
       "    }\n",
       "\n",
       "    .dataframe tbody tr th {\n",
       "        vertical-align: top;\n",
       "    }\n",
       "\n",
       "    .dataframe thead th {\n",
       "        text-align: right;\n",
       "    }\n",
       "</style>\n",
       "<table border=\"1\" class=\"dataframe\">\n",
       "  <thead>\n",
       "    <tr style=\"text-align: right;\">\n",
       "      <th></th>\n",
       "      <th>cut_Total_spend</th>\n",
       "      <th>Total_spend</th>\n",
       "    </tr>\n",
       "  </thead>\n",
       "  <tbody>\n",
       "    <tr>\n",
       "      <th>0</th>\n",
       "      <td>NaN</td>\n",
       "      <td>0.0</td>\n",
       "    </tr>\n",
       "    <tr>\n",
       "      <th>1</th>\n",
       "      <td>0-10000</td>\n",
       "      <td>736.0</td>\n",
       "    </tr>\n",
       "    <tr>\n",
       "      <th>2</th>\n",
       "      <td>10001-20000</td>\n",
       "      <td>10383.0</td>\n",
       "    </tr>\n",
       "    <tr>\n",
       "      <th>3</th>\n",
       "      <td>0-10000</td>\n",
       "      <td>5176.0</td>\n",
       "    </tr>\n",
       "    <tr>\n",
       "      <th>4</th>\n",
       "      <td>0-10000</td>\n",
       "      <td>1091.0</td>\n",
       "    </tr>\n",
       "    <tr>\n",
       "      <th>...</th>\n",
       "      <td>...</td>\n",
       "      <td>...</td>\n",
       "    </tr>\n",
       "    <tr>\n",
       "      <th>8688</th>\n",
       "      <td>0-10000</td>\n",
       "      <td>8536.0</td>\n",
       "    </tr>\n",
       "    <tr>\n",
       "      <th>8689</th>\n",
       "      <td>NaN</td>\n",
       "      <td>0.0</td>\n",
       "    </tr>\n",
       "    <tr>\n",
       "      <th>8690</th>\n",
       "      <td>0-10000</td>\n",
       "      <td>1873.0</td>\n",
       "    </tr>\n",
       "    <tr>\n",
       "      <th>8691</th>\n",
       "      <td>0-10000</td>\n",
       "      <td>4637.0</td>\n",
       "    </tr>\n",
       "    <tr>\n",
       "      <th>8692</th>\n",
       "      <td>0-10000</td>\n",
       "      <td>4826.0</td>\n",
       "    </tr>\n",
       "  </tbody>\n",
       "</table>\n",
       "<p>8693 rows × 2 columns</p>\n",
       "</div>"
      ],
      "text/plain": [
       "     cut_Total_spend  Total_spend\n",
       "0                NaN          0.0\n",
       "1            0-10000        736.0\n",
       "2        10001-20000      10383.0\n",
       "3            0-10000       5176.0\n",
       "4            0-10000       1091.0\n",
       "...              ...          ...\n",
       "8688         0-10000       8536.0\n",
       "8689             NaN          0.0\n",
       "8690         0-10000       1873.0\n",
       "8691         0-10000       4637.0\n",
       "8692         0-10000       4826.0\n",
       "\n",
       "[8693 rows x 2 columns]"
      ]
     },
     "execution_count": 9,
     "metadata": {},
     "output_type": "execute_result"
    }
   ],
   "source": [
    "train[['cut_Total_spend','Total_spend']]"
   ]
  },
  {
   "cell_type": "code",
   "execution_count": 10,
   "id": "1d791dfa",
   "metadata": {
    "execution": {
     "iopub.execute_input": "2023-04-03T16:05:54.882705Z",
     "iopub.status.busy": "2023-04-03T16:05:54.882260Z",
     "iopub.status.idle": "2023-04-03T16:05:54.900029Z",
     "shell.execute_reply": "2023-04-03T16:05:54.898665Z"
    },
    "papermill": {
     "duration": 0.034527,
     "end_time": "2023-04-03T16:05:54.902969",
     "exception": false,
     "start_time": "2023-04-03T16:05:54.868442",
     "status": "completed"
    },
    "tags": []
   },
   "outputs": [],
   "source": [
    "total_spend_survice=survival_rate(train[train['CryoSleep']==False],'cut_Total_spend')"
   ]
  },
  {
   "cell_type": "code",
   "execution_count": 11,
   "id": "342c7dfb",
   "metadata": {
    "execution": {
     "iopub.execute_input": "2023-04-03T16:05:54.929695Z",
     "iopub.status.busy": "2023-04-03T16:05:54.929266Z",
     "iopub.status.idle": "2023-04-03T16:05:54.935670Z",
     "shell.execute_reply": "2023-04-03T16:05:54.934199Z"
    },
    "papermill": {
     "duration": 0.022577,
     "end_time": "2023-04-03T16:05:54.938033",
     "exception": false,
     "start_time": "2023-04-03T16:05:54.915456",
     "status": "completed"
    },
    "tags": []
   },
   "outputs": [],
   "source": [
    "total_spend_survice.reset_index(inplace=True)"
   ]
  },
  {
   "cell_type": "code",
   "execution_count": 12,
   "id": "7f773069",
   "metadata": {
    "execution": {
     "iopub.execute_input": "2023-04-03T16:05:54.965268Z",
     "iopub.status.busy": "2023-04-03T16:05:54.964155Z",
     "iopub.status.idle": "2023-04-03T16:05:55.214874Z",
     "shell.execute_reply": "2023-04-03T16:05:55.213646Z"
    },
    "papermill": {
     "duration": 0.267256,
     "end_time": "2023-04-03T16:05:55.217727",
     "exception": false,
     "start_time": "2023-04-03T16:05:54.950471",
     "status": "completed"
    },
    "tags": []
   },
   "outputs": [
    {
     "data": {
      "text/plain": [
       "<AxesSubplot:xlabel='cut_Total_spend', ylabel='Survival_rate'>"
      ]
     },
     "execution_count": 12,
     "metadata": {},
     "output_type": "execute_result"
    },
    {
     "data": {
      "image/png": "[encoded data removed]",
      "text/plain": [
       "<Figure size 640x480 with 1 Axes>"
      ]
     },
     "metadata": {},
     "output_type": "display_data"
    }
   ],
   "source": [
    "sns.barplot(data=total_spend_survice,x=\"cut_Total_spend\",y=\"Survival_rate\")"
   ]
  },
  {
   "cell_type": "markdown",
   "id": "9ffadce2",
   "metadata": {
    "papermill": {
     "duration": 0.01248,
     "end_time": "2023-04-03T16:05:55.243266",
     "exception": false,
     "start_time": "2023-04-03T16:05:55.230786",
     "status": "completed"
    },
    "tags": []
   },
   "source": [
    "<b> There is no uniform trend for survival rate according to total spends but the survival rate is very high for the highest bracket</b>"
   ]
  },
  {
   "cell_type": "markdown",
   "id": "106d15e1",
   "metadata": {
    "papermill": {
     "duration": 0.012522,
     "end_time": "2023-04-03T16:05:55.268585",
     "exception": false,
     "start_time": "2023-04-03T16:05:55.256063",
     "status": "completed"
    },
    "tags": []
   },
   "source": [
    "<b>Is survival rate different for different Decks and Sides of the spaceship? Let us have a look!</b>"
   ]
  },
  {
   "cell_type": "code",
   "execution_count": 13,
   "id": "b9ae4ddb",
   "metadata": {
    "execution": {
     "iopub.execute_input": "2023-04-03T16:05:55.296500Z",
     "iopub.status.busy": "2023-04-03T16:05:55.296054Z",
     "iopub.status.idle": "2023-04-03T16:05:55.726922Z",
     "shell.execute_reply": "2023-04-03T16:05:55.725597Z"
    },
    "papermill": {
     "duration": 0.447815,
     "end_time": "2023-04-03T16:05:55.729576",
     "exception": false,
     "start_time": "2023-04-03T16:05:55.281761",
     "status": "completed"
    },
    "tags": []
   },
   "outputs": [
    {
     "data": {
      "text/plain": [
       "<AxesSubplot:xlabel='Deck', ylabel='Survival_rate'>"
      ]
     },
     "execution_count": 13,
     "metadata": {},
     "output_type": "execute_result"
    },
    {
     "data": {
      "image/png": "[encoded data removed]",
      "text/plain": [
       "<Figure size 640x480 with 1 Axes>"
      ]
     },
     "metadata": {},
     "output_type": "display_data"
    }
   ],
   "source": [
    "#Creating these features in train set\n",
    "train['Deck']=train['Cabin'].str.split('/', expand=True)[0]\n",
    "train['Side']=train['Cabin'].str.split('/', expand=True)[2]\n",
    "deck_survival_rates=survival_rate(train,'Deck')\n",
    "deck_survival_rates.reset_index(inplace=True)\n",
    "sns.set_style(\"whitegrid\")\n",
    "sns.barplot(data=deck_survival_rates,x=\"Deck\",y=\"Survival_rate\")"
   ]
  },
  {
   "cell_type": "code",
   "execution_count": 14,
   "id": "0d81ad46",
   "metadata": {
    "execution": {
     "iopub.execute_input": "2023-04-03T16:05:55.758476Z",
     "iopub.status.busy": "2023-04-03T16:05:55.758026Z",
     "iopub.status.idle": "2023-04-03T16:05:55.925966Z",
     "shell.execute_reply": "2023-04-03T16:05:55.924686Z"
    },
    "papermill": {
     "duration": 0.186326,
     "end_time": "2023-04-03T16:05:55.929183",
     "exception": false,
     "start_time": "2023-04-03T16:05:55.742857",
     "status": "completed"
    },
    "tags": []
   },
   "outputs": [
    {
     "data": {
      "text/plain": [
       "<AxesSubplot:xlabel='Side', ylabel='Survival_rate'>"
      ]
     },
     "execution_count": 14,
     "metadata": {},
     "output_type": "execute_result"
    },
    {
     "data": {
      "image/png": "[encoded data removed]",
      "text/plain": [
       "<Figure size 640x480 with 1 Axes>"
      ]
     },
     "metadata": {},
     "output_type": "display_data"
    }
   ],
   "source": [
    "side_survival_rates=survival_rate(train,'Side')\n",
    "side_survival_rates.reset_index(inplace=True)\n",
    "sns.barplot(data=side_survival_rates,x=\"Side\",y=\"Survival_rate\")"
   ]
  },
  {
   "cell_type": "markdown",
   "id": "3342891c",
   "metadata": {
    "papermill": {
     "duration": 0.013356,
     "end_time": "2023-04-03T16:05:55.956171",
     "exception": false,
     "start_time": "2023-04-03T16:05:55.942815",
     "status": "completed"
    },
    "tags": []
   },
   "source": [
    "* The Survival Rate of the passengers in different cabins differs significantly. In order of highest to lowest, it is as following \n",
    "* B>C>G>A>F>D>E>T\n",
    "* The Survival Rate of passengers on the Starboard side is higher than those on Port side"
   ]
  },
  {
   "cell_type": "markdown",
   "id": "0a5b42ec",
   "metadata": {
    "papermill": {
     "duration": 0.013245,
     "end_time": "2023-04-03T16:05:55.983103",
     "exception": false,
     "start_time": "2023-04-03T16:05:55.969858",
     "status": "completed"
    },
    "tags": []
   },
   "source": [
    "<a id=\"section-two\"></a>\n",
    "# <b>2.EDA for better imputation for missing values</b>"
   ]
  },
  {
   "cell_type": "markdown",
   "id": "33ae7692",
   "metadata": {
    "papermill": {
     "duration": 0.013328,
     "end_time": "2023-04-03T16:05:56.010836",
     "exception": false,
     "start_time": "2023-04-03T16:05:55.997508",
     "status": "completed"
    },
    "tags": []
   },
   "source": [
    "<h2><b>Do groups contain passengers from same home planet ? </b><id=\"h2a\" a class= \"anchor-link\" href= \"https://www.kaggle.com/pranay20485/spaceship-titanic-accuracy-80-rank-300/notebook#h2a\"></h1>"
   ]
  },
  {
   "cell_type": "code",
   "execution_count": 15,
   "id": "c6e3cd94",
   "metadata": {
    "execution": {
     "iopub.execute_input": "2023-04-03T16:05:56.040117Z",
     "iopub.status.busy": "2023-04-03T16:05:56.039723Z",
     "iopub.status.idle": "2023-04-03T16:05:56.053019Z",
     "shell.execute_reply": "2023-04-03T16:05:56.051822Z"
    },
    "papermill": {
     "duration": 0.03138,
     "end_time": "2023-04-03T16:05:56.055784",
     "exception": false,
     "start_time": "2023-04-03T16:05:56.024404",
     "status": "completed"
    },
    "tags": []
   },
   "outputs": [
    {
     "name": "stdout",
     "output_type": "stream",
     "text": [
      "Number of groups having more than 1 HomePlanet : 0\n"
     ]
    }
   ],
   "source": [
    "#Create a dataframe containing\n",
    "group_wise_passenger=train[['HomePlanet','Group']].groupby(['Group']).nunique()\n",
    "group_wise_passenger.rename(columns={'HomePlanet':'Number_of_home_planets_ingroup'},inplace=True)\n",
    "print(\"Number of groups having more than 1 HomePlanet :\",group_wise_passenger[group_wise_passenger['Number_of_home_planets_ingroup']>1].shape[0])\n"
   ]
  },
  {
   "cell_type": "markdown",
   "id": "2448c319",
   "metadata": {
    "papermill": {
     "duration": 0.013323,
     "end_time": "2023-04-03T16:05:56.082764",
     "exception": false,
     "start_time": "2023-04-03T16:05:56.069441",
     "status": "completed"
    },
    "tags": []
   },
   "source": [
    "**Yes, all groups have passengers from the same homeplanet only. This can be used to impute values of HomePlanets where they are missing. We can simply fill the planet in these cases with the homeplanet of the other passengers in the group**"
   ]
  },
  {
   "cell_type": "markdown",
   "id": "8eda3a76",
   "metadata": {
    "papermill": {
     "duration": 0.014227,
     "end_time": "2023-04-03T16:05:56.110752",
     "exception": false,
     "start_time": "2023-04-03T16:05:56.096525",
     "status": "completed"
    },
    "tags": []
   },
   "source": [
    "<h2><b>Does the median age differ for different home Planet ? </b><id=\"h2a\" a class= \"anchor-link\" href= \"https://www.kaggle.com/pranay20485/spaceship-titanic-accuracy-80-rank-300/notebook#h2a\"></h2>"
   ]
  },
  {
   "cell_type": "code",
   "execution_count": 16,
   "id": "4a9c5d07",
   "metadata": {
    "execution": {
     "iopub.execute_input": "2023-04-03T16:05:56.140710Z",
     "iopub.status.busy": "2023-04-03T16:05:56.140249Z",
     "iopub.status.idle": "2023-04-03T16:05:56.341443Z",
     "shell.execute_reply": "2023-04-03T16:05:56.339962Z"
    },
    "papermill": {
     "duration": 0.219473,
     "end_time": "2023-04-03T16:05:56.344415",
     "exception": false,
     "start_time": "2023-04-03T16:05:56.124942",
     "status": "completed"
    },
    "tags": []
   },
   "outputs": [
    {
     "data": {
      "text/plain": [
       "<AxesSubplot:xlabel='HomePlanet', ylabel='Median_age_planet'>"
      ]
     },
     "execution_count": 16,
     "metadata": {},
     "output_type": "execute_result"
    },
    {
     "data": {
      "image/png": "[encoded data removed]",
      "text/plain": [
       "<Figure size 640x480 with 1 Axes>"
      ]
     },
     "metadata": {},
     "output_type": "display_data"
    }
   ],
   "source": [
    "for_filling_age=train[['Age','HomePlanet']].groupby(['HomePlanet']).median()\n",
    "for_filling_age.rename(columns={\"Age\":\"Median_age_planet\"},inplace=True)\n",
    "for_filling_age.reset_index(inplace=True)\n",
    "sns.barplot(data=for_filling_age,x=\"HomePlanet\",y=\"Median_age_planet\")"
   ]
  },
  {
   "cell_type": "markdown",
   "id": "d376290b",
   "metadata": {
    "papermill": {
     "duration": 0.015746,
     "end_time": "2023-04-03T16:05:56.374794",
     "exception": false,
     "start_time": "2023-04-03T16:05:56.359048",
     "status": "completed"
    },
    "tags": []
   },
   "source": [
    "We see that all three different Home Planets have different median ages"
   ]
  },
  {
   "cell_type": "markdown",
   "id": "a677bd0d",
   "metadata": {
    "papermill": {
     "duration": 0.013804,
     "end_time": "2023-04-03T16:05:56.403779",
     "exception": false,
     "start_time": "2023-04-03T16:05:56.389975",
     "status": "completed"
    },
    "tags": []
   },
   "source": [
    "<a id=\"section-three\"></a> \n",
    "# <b> 3.Create Pipeline for training the model</b>"
   ]
  },
  {
   "cell_type": "markdown",
   "id": "e196dd4d",
   "metadata": {
    "papermill": {
     "duration": 0.013964,
     "end_time": "2023-04-03T16:05:56.431876",
     "exception": false,
     "start_time": "2023-04-03T16:05:56.417912",
     "status": "completed"
    },
    "tags": []
   },
   "source": [
    "The pipeline to train the model is going to  be as follows \n",
    "<bl> <li> Feature Engineering to create new features </li>\n",
    "    <li> Feature Engineering to impute missing values </li>\n",
    "    <li> Separate pipelines to transform categorical and numerical features</li>\n",
    "    <li> Fitting different algorithms to find the best one for the data </li>\n",
    "    <li> Hyperparameter fitting for the best algorithm</li></bl>"
   ]
  },
  {
   "cell_type": "markdown",
   "id": "4cf83be4",
   "metadata": {
    "papermill": {
     "duration": 0.013697,
     "end_time": "2023-04-03T16:05:56.459794",
     "exception": false,
     "start_time": "2023-04-03T16:05:56.446097",
     "status": "completed"
    },
    "tags": []
   },
   "source": [
    "**The following function does the first two steps. **"
   ]
  },
  {
   "cell_type": "code",
   "execution_count": 17,
   "id": "ded23330",
   "metadata": {
    "execution": {
     "iopub.execute_input": "2023-04-03T16:05:56.490280Z",
     "iopub.status.busy": "2023-04-03T16:05:56.489806Z",
     "iopub.status.idle": "2023-04-03T16:05:56.511535Z",
     "shell.execute_reply": "2023-04-03T16:05:56.510075Z"
    },
    "papermill": {
     "duration": 0.04061,
     "end_time": "2023-04-03T16:05:56.514525",
     "exception": false,
     "start_time": "2023-04-03T16:05:56.473915",
     "status": "completed"
    },
    "tags": []
   },
   "outputs": [],
   "source": [
    "class FeatureSelector(BaseEstimator, TransformerMixin):\n",
    "    def __init__(self, feature_names):\n",
    "        self.feature_names = feature_names   \n",
    "    def fit( self, X, y = None ):\n",
    "        return self\n",
    "    def transform(self, X, y=None):\n",
    "        return X.loc[:, self.feature_names].copy(deep=True)\n",
    "\n",
    "\n",
    "class feature_maker(BaseEstimator, TransformerMixin):\n",
    "    def __init__(self):\n",
    "\n",
    "        pass\n",
    "    def fit( self, X, y = None ):\n",
    "\n",
    "        return self\n",
    "# Function to create features and for impute features.\n",
    "    def transform(self, a, y=None):\n",
    "    #   Create features Deck, Side and Group from Cabin and PassengerId\n",
    "        a.loc[:,'Deck'] = a['Cabin'].str.split('/', expand=True)[0]\n",
    "        a.loc[:,'Side'] = a['Cabin'].str.split('/', expand=True)[2]\n",
    "        a.loc[:,'Group'] = a['PassengerId'].str.split('_', 1, expand=True)[0].astype(int)\n",
    "    #   Create feature to calculate number of Passengers in the Deck that the Passenger is travelling in     \n",
    "        cabin_wise=a[['Cabin','Deck']].groupby(['Cabin']).count().rename(columns={\"Deck\":\"Cabin_Passenger\"})\n",
    "        a=pd.merge(a,cabin_wise,how=\"left\",left_on=\"Cabin\",right_index=True)\n",
    "    #   Create feature to calculate number of  Passengers in the Group that the Passenger is travelling in\n",
    "        group_wise=a[['Group','PassengerId']].groupby(['Group']).count().rename(columns={\"PassengerId\":\"Passenger_in_group\"})\n",
    "        a=pd.merge(a,group_wise,how=\"left\",left_on=\"Group\",right_index=True)\n",
    "    #   Create feature to calculate total expense as the sum of expense incurred in RoomService, FoodCourt,ShoppingMall, Spa and VRDeck#\n",
    "        a.loc[:,'TotalSpending'] = a[['RoomService','FoodCourt','ShoppingMall','Spa','VRDeck']].sum(axis=1)\n",
    "    #   Create feature to find the homeplanet the other passengers in the group belong to. This is done by first calculating groupwise passengers. In Gropus where there are no passengers with Homeplanet, Nan is marked. Later      \n",
    "        group_wise_passenger=a[['PassengerId','Group']].groupby(['Group']).count()\n",
    "        group_wise_passenger.rename(columns={'PassengerId':'Passengers_in_group'},inplace=True)\n",
    "        group_wise_mf_planet=a[['HomePlanet','Group']].groupby(['Group']).agg(lambda x: x.value_counts().index[0] if x.value_counts().size>0 else float(\"Nan\"))\n",
    "        a=pd.merge(a,group_wise_passenger,how='left',left_on='Group',right_index=True)\n",
    "        group_wise_mf_planet.rename(columns={'HomePlanet':'Top_planet_in_group'},inplace=True)\n",
    "        a=pd.merge(a,group_wise_mf_planet,how='left',left_on='Group',right_index=True)\n",
    "        a.loc[(a['HomePlanet'].isna())&(a['Passengers_in_group']>1),'HomePlanet']=a[(a['HomePlanet'].isna())&(a['Passengers_in_group']>1)]['Top_planet_in_group']\n",
    "    #   Create a dataframe for HomePlanet wise median age and use it to impute age where it is missing  \n",
    "        for_filling_age=a[['Age','HomePlanet']].groupby(['HomePlanet']).median()\n",
    "        for_filling_age.rename(columns={\"Age\":\"Median_age_planet\"},inplace=True)\n",
    "        a=pd.merge(a,for_filling_age,how=\"left\",left_on=\"HomePlanet\",right_index=True)\n",
    "        a.loc[(~ a['HomePlanet'].isna())&(a['Age'].isna()),'Age']=a[(~a['HomePlanet'].isna())&(a['Age'].isna())]['Median_age_planet']\n",
    "        a.drop(columns=['Top_planet_in_group', 'Median_age_planet','Passengers_in_group'],inplace=True)\n",
    "        a.drop(columns=['Cabin','PassengerId'],inplace=True)\n",
    "\n",
    "        return a\n",
    "daily_trend_feature_pipeline = Pipeline(steps = [ \n",
    "    (\"selector\", FeatureSelector(['PassengerId', 'HomePlanet', 'CryoSleep', 'Cabin', 'Destination', 'Age',\n",
    "       'VIP', 'RoomService', 'FoodCourt', 'ShoppingMall', 'Spa', 'VRDeck'])),\n",
    "    (\"feature_engineering\", feature_maker()),])\n"
   ]
  },
  {
   "cell_type": "markdown",
   "id": "b1fe8b8b",
   "metadata": {
    "papermill": {
     "duration": 0.013657,
     "end_time": "2023-04-03T16:05:56.542576",
     "exception": false,
     "start_time": "2023-04-03T16:05:56.528919",
     "status": "completed"
    },
    "tags": []
   },
   "source": [
    "**Create Transformer and Pipeline objects**"
   ]
  },
  {
   "cell_type": "code",
   "execution_count": 18,
   "id": "7d7ec858",
   "metadata": {
    "execution": {
     "iopub.execute_input": "2023-04-03T16:05:56.572576Z",
     "iopub.status.busy": "2023-04-03T16:05:56.572185Z",
     "iopub.status.idle": "2023-04-03T16:05:56.580670Z",
     "shell.execute_reply": "2023-04-03T16:05:56.579439Z"
    },
    "papermill": {
     "duration": 0.026601,
     "end_time": "2023-04-03T16:05:56.583240",
     "exception": false,
     "start_time": "2023-04-03T16:05:56.556639",
     "status": "completed"
    },
    "tags": []
   },
   "outputs": [],
   "source": [
    "numeric_transformer = Pipeline(\n",
    "    steps=[\n",
    "        ('imputer',SimpleImputer(strategy='median')),\n",
    "        (\"scale\", StandardScaler())])\n",
    "categorical_transformer = Pipeline(\n",
    "    steps=[\n",
    "        ('imputer', SimpleImputer(strategy='most_frequent')),\n",
    "        ('onehot', OneHotEncoder(handle_unknown='ignore')),\n",
    "    ])\n",
    "preprocessor = ColumnTransformer(\n",
    "    transformers=[\n",
    "        ('numeric_transformers', numeric_transformer, ['Age','RoomService','FoodCourt','ShoppingMall','Spa','VRDeck','TotalSpending','Cabin_Passenger','Passenger_in_group']),\n",
    "        ('categorical_transformers', categorical_transformer, ['HomePlanet', 'CryoSleep','Destination','VIP','Deck','Side']),\n",
    "    ])\n",
    "feature_pipeline = Pipeline(\n",
    "    steps=[\n",
    "        (\"daily_trend_feature_pipeline\", daily_trend_feature_pipeline),\n",
    "        (\"otherpipeline\",preprocessor)\n",
    "        \n",
    "    ])"
   ]
  },
  {
   "cell_type": "markdown",
   "id": "8557ed9d",
   "metadata": {
    "papermill": {
     "duration": 0.013918,
     "end_time": "2023-04-03T16:05:56.611387",
     "exception": false,
     "start_time": "2023-04-03T16:05:56.597469",
     "status": "completed"
    },
    "tags": []
   },
   "source": [
    "The Pipeline is now ready, we will train various classification techniques to see what works the best. We are using accuracy as the evaluation metric."
   ]
  },
  {
   "cell_type": "markdown",
   "id": "5b822dc1",
   "metadata": {
    "papermill": {
     "duration": 0.013731,
     "end_time": "2023-04-03T16:05:56.639225",
     "exception": false,
     "start_time": "2023-04-03T16:05:56.625494",
     "status": "completed"
    },
    "tags": []
   },
   "source": [
    "**First up Logistic regression**"
   ]
  },
  {
   "cell_type": "code",
   "execution_count": 19,
   "id": "ba58fb9f",
   "metadata": {
    "execution": {
     "iopub.execute_input": "2023-04-03T16:05:56.669244Z",
     "iopub.status.busy": "2023-04-03T16:05:56.668838Z",
     "iopub.status.idle": "2023-04-03T16:06:27.277362Z",
     "shell.execute_reply": "2023-04-03T16:06:27.275931Z"
    },
    "papermill": {
     "duration": 30.641925,
     "end_time": "2023-04-03T16:06:27.295152",
     "exception": false,
     "start_time": "2023-04-03T16:05:56.653227",
     "status": "completed"
    },
    "tags": []
   },
   "outputs": [
    {
     "name": "stdout",
     "output_type": "stream",
     "text": [
      "Accuracy of Logistic Regression is as follows:  0.787646152596401\n"
     ]
    },
    {
     "data": {
      "image/png": "[encoded data removed]",
      "text/plain": [
       "<Figure size 640x480 with 2 Axes>"
      ]
     },
     "metadata": {},
     "output_type": "display_data"
    }
   ],
   "source": [
    "y_train = train['Transported']\n",
    "X_train = train.drop(columns={'Name','Transported'})\n",
    "# print(X_train.shape)\n",
    "data = feature_pipeline.fit_transform(X_train)\n",
    "# print(data.shape)\n",
    "log_reg = Pipeline([\n",
    "    (\"Preprocessing\", feature_pipeline),\n",
    "    (\"model\", LogisticRegression(random_state = 42))\n",
    "])\n",
    "\n",
    "#cm_log = confusion_matrix(y_train, y_pred)\n",
    "LogisticReg_acc = cross_val_score(log_reg, X_train, y_train, cv = 3, scoring = \"accuracy\",error_score='raise').mean()\n",
    "\n",
    "print(\"Accuracy of Logistic Regression is as follows: \", LogisticReg_acc)\n",
    "\n",
    "y_pred = cross_val_predict(log_reg, X_train, y_train, cv = 3)\n",
    "\n",
    "ConfusionMatrixDisplay.from_predictions(y_train, y_pred, normalize = \"true\", values_format = \".0%\")\n",
    "plt.show()"
   ]
  },
  {
   "cell_type": "markdown",
   "id": "e00f9ee2",
   "metadata": {
    "papermill": {
     "duration": 0.01509,
     "end_time": "2023-04-03T16:06:27.325270",
     "exception": false,
     "start_time": "2023-04-03T16:06:27.310180",
     "status": "completed"
    },
    "tags": []
   },
   "source": [
    "**Next we try Random Forest**"
   ]
  },
  {
   "cell_type": "code",
   "execution_count": 20,
   "id": "18aa8c7a",
   "metadata": {
    "execution": {
     "iopub.execute_input": "2023-04-03T16:06:27.358312Z",
     "iopub.status.busy": "2023-04-03T16:06:27.357911Z",
     "iopub.status.idle": "2023-04-03T16:06:57.319189Z",
     "shell.execute_reply": "2023-04-03T16:06:57.317829Z"
    },
    "papermill": {
     "duration": 29.981267,
     "end_time": "2023-04-03T16:06:57.321927",
     "exception": false,
     "start_time": "2023-04-03T16:06:27.340660",
     "status": "completed"
    },
    "tags": []
   },
   "outputs": [
    {
     "name": "stdout",
     "output_type": "stream",
     "text": [
      "Accuracy of Random Forest is as  0.7768326689699624\n"
     ]
    },
    {
     "data": {
      "text/plain": [
       "<sklearn.metrics._plot.confusion_matrix.ConfusionMatrixDisplay at 0x7fd935a380d0>"
      ]
     },
     "execution_count": 20,
     "metadata": {},
     "output_type": "execute_result"
    },
    {
     "data": {
      "image/png": "[encoded data removed]",
      "text/plain": [
       "<Figure size 640x480 with 2 Axes>"
      ]
     },
     "metadata": {},
     "output_type": "display_data"
    }
   ],
   "source": [
    "random_forest = Pipeline([\n",
    "    (\"Preprocessing\", feature_pipeline),\n",
    "    (\"model\", RandomForestClassifier(random_state = 42))\n",
    "])\n",
    "\n",
    "RandomForest_acc = cross_val_score(random_forest, X_train, y_train, cv = 3, scoring = \"accuracy\").mean()\n",
    "\n",
    "print(\"Accuracy of Random Forest is as \", RandomForest_acc)\n",
    "\n",
    "y_pred = cross_val_predict(random_forest, X_train, y_train, cv = 3)\n",
    "\n",
    "ConfusionMatrixDisplay.from_predictions(y_train, y_pred, normalize = \"true\", values_format = \".0%\")"
   ]
  },
  {
   "cell_type": "markdown",
   "id": "ba1faf2b",
   "metadata": {
    "papermill": {
     "duration": 0.015131,
     "end_time": "2023-04-03T16:06:57.352423",
     "exception": false,
     "start_time": "2023-04-03T16:06:57.337292",
     "status": "completed"
    },
    "tags": []
   },
   "source": [
    "**Now we try Support Vector Machine classification**  "
   ]
  },
  {
   "cell_type": "code",
   "execution_count": 21,
   "id": "ebc7c98e",
   "metadata": {
    "execution": {
     "iopub.execute_input": "2023-04-03T16:06:57.385686Z",
     "iopub.status.busy": "2023-04-03T16:06:57.384401Z",
     "iopub.status.idle": "2023-04-03T16:07:34.568945Z",
     "shell.execute_reply": "2023-04-03T16:07:34.567674Z"
    },
    "papermill": {
     "duration": 37.203711,
     "end_time": "2023-04-03T16:07:34.571485",
     "exception": false,
     "start_time": "2023-04-03T16:06:57.367774",
     "status": "completed"
    },
    "tags": []
   },
   "outputs": [
    {
     "name": "stdout",
     "output_type": "stream",
     "text": [
      "Accuracy of Support Vector Machine:  0.7925940378102285\n"
     ]
    },
    {
     "data": {
      "text/plain": [
       "<sklearn.metrics._plot.confusion_matrix.ConfusionMatrixDisplay at 0x7fd935992650>"
      ]
     },
     "execution_count": 21,
     "metadata": {},
     "output_type": "execute_result"
    },
    {
     "data": {
      "image/png": "[encoded data removed]",
      "text/plain": [
       "<Figure size 640x480 with 2 Axes>"
      ]
     },
     "metadata": {},
     "output_type": "display_data"
    }
   ],
   "source": [
    "svc_clf = Pipeline([\n",
    "    (\"Preprocessing\", feature_pipeline),\n",
    "    (\"model\", SVC(random_state = 42))\n",
    "])\n",
    "\n",
    "SVC_acc = cross_val_score(svc_clf, X_train, y_train, cv = 3, scoring = \"accuracy\").mean()\n",
    "\n",
    "print(\"Accuracy of Support Vector Machine: \", SVC_acc)\n",
    "\n",
    "y_pred = cross_val_predict(svc_clf, X_train, y_train, cv = 3)\n",
    "\n",
    "ConfusionMatrixDisplay.from_predictions(y_train, y_pred, normalize = \"true\", values_format = \".0%\")"
   ]
  },
  {
   "cell_type": "markdown",
   "id": "c170ec9d",
   "metadata": {
    "papermill": {
     "duration": 0.015853,
     "end_time": "2023-04-03T16:07:34.604254",
     "exception": false,
     "start_time": "2023-04-03T16:07:34.588401",
     "status": "completed"
    },
    "tags": []
   },
   "source": [
    "**We find that SVM is the best performing classification technique as it has the best acuracy on test data**"
   ]
  },
  {
   "cell_type": "markdown",
   "id": "7cf416e7",
   "metadata": {
    "papermill": {
     "duration": 0.015833,
     "end_time": "2023-04-03T16:07:34.636398",
     "exception": false,
     "start_time": "2023-04-03T16:07:34.620565",
     "status": "completed"
    },
    "tags": []
   },
   "source": [
    "**We will tune the hyperparameters of SVM on the test data. Usually we should do this on validation set taken out of training data itself. However since we have the luxury of having the test data, we shall do hyperparameter tuning on that**"
   ]
  },
  {
   "cell_type": "markdown",
   "id": "1bc3f326",
   "metadata": {
    "papermill": {
     "duration": 0.01557,
     "end_time": "2023-04-03T16:07:34.668672",
     "exception": false,
     "start_time": "2023-04-03T16:07:34.653102",
     "status": "completed"
    },
    "tags": []
   },
   "source": [
    "<a id=\"section-four\"></a>\n",
    "# <b>4.Hyperparameter tuning on SVM</b>"
   ]
  },
  {
   "cell_type": "code",
   "execution_count": 22,
   "id": "7a1a5238",
   "metadata": {
    "execution": {
     "iopub.execute_input": "2023-04-03T16:07:34.702699Z",
     "iopub.status.busy": "2023-04-03T16:07:34.702267Z",
     "iopub.status.idle": "2023-04-03T16:11:46.208002Z",
     "shell.execute_reply": "2023-04-03T16:11:46.206802Z"
    },
    "papermill": {
     "duration": 251.526702,
     "end_time": "2023-04-03T16:11:46.211073",
     "exception": false,
     "start_time": "2023-04-03T16:07:34.684371",
     "status": "completed"
    },
    "tags": []
   },
   "outputs": [],
   "source": [
    "X_test = pd.read_csv(\"/kaggle/input/spaceship-titanic/test.csv\")\n",
    "param_distr = {'model__C':randint(low = 1, high = 100),\n",
    "              'model__degree': randint(low = 1, high = 20),\n",
    "              'model__coef0':randint(low = 1, high = 100)}\n",
    "rnd = RandomizedSearchCV(svc_clf,param_distributions = param_distr, cv = 3, n_iter = 10,\n",
    "                         scoring = \"accuracy\", random_state = 42)\n",
    "rnd.fit(X_train, y_train)\n",
    "model = rnd.best_estimator_\n",
    "prediction = model.predict(X_test)\n",
    "sub = pd.DataFrame({\n",
    "        \"PassengerId\": X_test.PassengerId,\n",
    "        \"Transported\": prediction})\n",
    "sub.to_csv('submission.csv', index=False)"
   ]
  },
  {
   "cell_type": "markdown",
   "id": "a4c0035a",
   "metadata": {
    "papermill": {
     "duration": 0.015437,
     "end_time": "2023-04-03T16:11:46.242960",
     "exception": false,
     "start_time": "2023-04-03T16:11:46.227523",
     "status": "completed"
    },
    "tags": []
   },
   "source": [
    "**Succesful submission!**"
   ]
  },
  {
   "cell_type": "markdown",
   "id": "f99155b9",
   "metadata": {
    "papermill": {
     "duration": 0.015447,
     "end_time": "2023-04-03T16:11:46.274335",
     "exception": false,
     "start_time": "2023-04-03T16:11:46.258888",
     "status": "completed"
    },
    "tags": []
   },
   "source": []
  }
 ],
 "metadata": {
  "kernelspec": {
   "display_name": "Python 3",
   "language": "python",
   "name": "python3"
  },
  "language_info": {
   "codemirror_mode": {
    "name": "ipython",
    "version": 3
   },
   "file_extension": ".py",
   "mimetype": "text/x-python",
   "name": "python",
   "nbconvert_exporter": "python",
   "pygments_lexer": "ipython3",
   "version": "3.8.8"
  },
  "papermill": {
   "default_parameters": {},
   "duration": 366.839032,
   "end_time": "2023-04-03T16:11:47.114098",
   "environment_variables": {},
   "exception": null,
   "input_path": "__notebook__.ipynb",
   "output_path": "__notebook__.ipynb",
   "parameters": {},
   "start_time": "2023-04-03T16:05:40.275066",
   "version": "2.4.0"
  }
 },
 "nbformat": 4,
 "nbformat_minor": 5
}
