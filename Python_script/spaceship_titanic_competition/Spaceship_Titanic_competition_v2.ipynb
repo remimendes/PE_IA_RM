{
 "cells": [
  {
   "cell_type": "markdown",
   "id": "68db644e",
   "metadata": {},
   "source": [
    "## Scaceship Competition "
   ]
  },
  {
   "cell_type": "markdown",
   "id": "b25d047d",
   "metadata": {},
   "source": [
    "On importe des bibiliothèques qui vont nous permettres de visualiser nos données"
   ]
  },
  {
   "cell_type": "code",
   "execution_count": 2,
   "id": "affb916f",
   "metadata": {},
   "outputs": [],
   "source": [
    "import numpy as np\n",
    "import pandas as pd\n",
    "import datetime\n",
    "import multiprocessing\n",
    "import pandas as pd\n",
    "from sklearn.base import BaseEstimator, TransformerMixin\n",
    "from sklearn.ensemble import RandomForestClassifier\n",
    "from sklearn.impute import SimpleImputer\n",
    "from sklearn.linear_model import LogisticRegression\n",
    "from sklearn import metrics\n",
    "from sklearn.pipeline import FeatureUnion, Pipeline \n",
    "from sklearn.preprocessing import StandardScaler, OneHotEncoder\n",
    "from sklearn.model_selection import GridSearchCV, TimeSeriesSplit\n",
    "import sys\n",
    "from sklearn.pipeline import Pipeline, make_pipeline\n",
    "from sklearn.ensemble import RandomForestClassifier, VotingClassifier\n",
    "from sklearn.svm import SVC\n",
    "from sklearn.tree import DecisionTreeClassifier\n",
    "from sklearn.preprocessing import OrdinalEncoder, OneHotEncoder, StandardScaler, FunctionTransformer\n",
    "from sklearn.compose import ColumnTransformer\n",
    "from sklearn.model_selection import  RandomizedSearchCV, cross_val_predict, cross_val_score\n",
    "from scipy.stats import randint\n",
    "from sklearn.metrics import confusion_matrix, ConfusionMatrixDisplay\n",
    "import matplotlib.pyplot as plt\n",
    "import seaborn as sns\n",
    "import os"
   ]
  },
  {
   "cell_type": "code",
   "execution_count": 3,
   "id": "9aa854dd",
   "metadata": {},
   "outputs": [],
   "source": [
    "train_data = pd.read_csv(\"data/train.csv\")"
   ]
  },
  {
   "cell_type": "markdown",
   "id": "475e07bb",
   "metadata": {},
   "source": [
    "## Exploration des données :"
   ]
  },
  {
   "cell_type": "markdown",
   "id": "b2bae260",
   "metadata": {},
   "source": [
    "Afin d'explorer les données, on créer une fonction qui permet de calculer le ratio de survie en fonction d'une feature"
   ]
  },
  {
   "cell_type": "code",
   "execution_count": 4,
   "id": "153df8bf",
   "metadata": {},
   "outputs": [],
   "source": [
    "def survival_rate(df,feature_name):\n",
    "    group_count=df[[feature_name,'Transported']].groupby(feature_name).count().rename(columns={'Transported':'Passengers'})\n",
    "    print(group_count)\n",
    "    group_survived= df[[feature_name,'Transported']].groupby(feature_name).sum().rename(columns={'Transported':'Survived'})\n",
    "    print(group_survived)\n",
    "    final_df= group_count.merge(group_survived,how=\"left\",left_index=True,right_index=True)\n",
    "    final_df['Survival_rate']=final_df['Survived']/final_df['Passengers']\n",
    "    final_df.drop(columns={'Passengers','Survived'},inplace=True)\n",
    "    return final_df"
   ]
  },
  {
   "cell_type": "code",
   "execution_count": 5,
   "id": "c5e759c6",
   "metadata": {},
   "outputs": [
    {
     "name": "stdout",
     "output_type": "stream",
     "text": [
      "           Passengers\n",
      "CryoSleep            \n",
      "False            5439\n",
      "True             3037\n",
      "           Survived\n",
      "CryoSleep          \n",
      "False          1789\n",
      "True           2483\n"
     ]
    },
    {
     "data": {
      "text/html": [
       "<div>\n",
       "<style scoped>\n",
       "    .dataframe tbody tr th:only-of-type {\n",
       "        vertical-align: middle;\n",
       "    }\n",
       "\n",
       "    .dataframe tbody tr th {\n",
       "        vertical-align: top;\n",
       "    }\n",
       "\n",
       "    .dataframe thead th {\n",
       "        text-align: right;\n",
       "    }\n",
       "</style>\n",
       "<table border=\"1\" class=\"dataframe\">\n",
       "  <thead>\n",
       "    <tr style=\"text-align: right;\">\n",
       "      <th></th>\n",
       "      <th>Survival_rate</th>\n",
       "    </tr>\n",
       "    <tr>\n",
       "      <th>CryoSleep</th>\n",
       "      <th></th>\n",
       "    </tr>\n",
       "  </thead>\n",
       "  <tbody>\n",
       "    <tr>\n",
       "      <th>False</th>\n",
       "      <td>0.328921</td>\n",
       "    </tr>\n",
       "    <tr>\n",
       "      <th>True</th>\n",
       "      <td>0.817583</td>\n",
       "    </tr>\n",
       "  </tbody>\n",
       "</table>\n",
       "</div>"
      ],
      "text/plain": [
       "           Survival_rate\n",
       "CryoSleep               \n",
       "False           0.328921\n",
       "True            0.817583"
      ]
     },
     "execution_count": 5,
     "metadata": {},
     "output_type": "execute_result"
    }
   ],
   "source": [
    "survival_rate(train_data,\"CryoSleep\")"
   ]
  },
  {
   "cell_type": "code",
   "execution_count": 6,
   "id": "83df6e48",
   "metadata": {},
   "outputs": [
    {
     "name": "stdout",
     "output_type": "stream",
     "text": [
      "           Passengers\n",
      "CryoSleep            \n",
      "False            5439\n",
      "True             3037\n",
      "           Survived\n",
      "CryoSleep          \n",
      "False          1789\n",
      "True           2483\n",
      "   CryoSleep  Survival_rate\n",
      "0      False       0.328921\n",
      "1       True       0.817583\n"
     ]
    },
    {
     "data": {
      "text/plain": [
       "<AxesSubplot:xlabel='CryoSleep', ylabel='Survival_rate'>"
      ]
     },
     "execution_count": 6,
     "metadata": {},
     "output_type": "execute_result"
    },
    {
     "data": {
      "image/png": "[encoded data removed]",
      "text/plain": [
       "<Figure size 432x288 with 1 Axes>"
      ]
     },
     "metadata": {},
     "output_type": "display_data"
    }
   ],
   "source": [
    "group_strength_survival_rate=survival_rate(train_data,'CryoSleep')\n",
    "group_strength_survival_rate.reset_index(inplace=True)\n",
    "print(group_strength_survival_rate)\n",
    "sns.set_style(\"whitegrid\")\n",
    "sns.barplot(data=group_strength_survival_rate,x=\"CryoSleep\",y=\"Survival_rate\")"
   ]
  },
  {
   "cell_type": "markdown",
   "id": "9e5e2f06",
   "metadata": {},
   "source": [
    "On remarque ici que 82% des passagers qui ont choisie de se faire cryogénisé on survécue contre 33% pour ceux qui n'ont pas fait ce choix"
   ]
  },
  {
   "cell_type": "code",
   "execution_count": 7,
   "id": "f1cb51c3",
   "metadata": {
    "scrolled": true
   },
   "outputs": [
    {
     "name": "stdout",
     "output_type": "stream",
     "text": [
      "                    Passengers\n",
      "Passenger_in_group            \n",
      "1                         4805\n",
      "2                         1682\n",
      "3                         1020\n",
      "4                          412\n",
      "5                          265\n",
      "6                          174\n",
      "7                          231\n",
      "8                          104\n",
      "                    Survived\n",
      "Passenger_in_group          \n",
      "1                       2174\n",
      "2                        905\n",
      "3                        605\n",
      "4                        264\n",
      "5                        157\n",
      "6                        107\n",
      "7                        125\n",
      "8                         41\n",
      "   Passenger_in_group  Survival_rate\n",
      "0                   1       0.452445\n",
      "1                   2       0.538050\n",
      "2                   3       0.593137\n",
      "3                   4       0.640777\n",
      "4                   5       0.592453\n",
      "5                   6       0.614943\n",
      "6                   7       0.541126\n",
      "7                   8       0.394231\n"
     ]
    },
    {
     "data": {
      "text/plain": [
       "<AxesSubplot:xlabel='Passenger_in_group', ylabel='Survival_rate'>"
      ]
     },
     "execution_count": 7,
     "metadata": {},
     "output_type": "execute_result"
    },
    {
     "data": {
      "image/png": "[encoded data removed]",
      "text/plain": [
       "<Figure size 432x288 with 1 Axes>"
      ]
     },
     "metadata": {},
     "output_type": "display_data"
    }
   ],
   "source": [
    "train_data[\"Group\"]=train_data[\"PassengerId\"].str.slice(stop=4)\n",
    "#On prend les 4 premiers nombres de l'id qui représente le groupe de la personne\n",
    "\n",
    "group_wise=train_data[['Group','PassengerId']].groupby(['Group']).count().rename(columns={\"PassengerId\":\"Passenger_in_group\"})\n",
    "#ici group_wise représente le nombre de passager par groupe\n",
    "\n",
    "train_data=pd.merge(train_data,group_wise,how=\"left\",left_on=\"Group\",right_index=True)\n",
    "#on join group_wise à train_data\n",
    "\n",
    "group_strength_survival_rate=survival_rate(train_data,'Passenger_in_group')\n",
    "group_strength_survival_rate.reset_index(inplace=True)\n",
    "print(group_strength_survival_rate)\n",
    "sns.barplot(data=group_strength_survival_rate,x=\"Passenger_in_group\",y=\"Survival_rate\")\n",
    "#on affiche le taux de survie en fonction du nombre de personne par groupe"
   ]
  },
  {
   "cell_type": "markdown",
   "id": "26693539",
   "metadata": {},
   "source": [
    "On remarque une différence de taux de survie en fonction du nombre de personne par groupe : le taux de survie augmente pour un nombre de personnes entre 1 et 4 puis il baisse de 4 à 8 (nombre de personne maximum par groupe)"
   ]
  },
  {
   "cell_type": "code",
   "execution_count": 8,
   "id": "3c391b1b",
   "metadata": {
    "scrolled": true
   },
   "outputs": [
    {
     "name": "stdout",
     "output_type": "stream",
     "text": [
      "                    Passengers\n",
      "Passenger_in_cabin            \n",
      "1.0                       5427\n",
      "2.0                       1372\n",
      "3.0                        747\n",
      "4.0                        416\n",
      "5.0                        235\n",
      "6.0                        198\n",
      "7.0                         91\n",
      "8.0                          8\n",
      "                    Survived\n",
      "Passenger_in_cabin          \n",
      "1.0                     2418\n",
      "2.0                      817\n",
      "3.0                      457\n",
      "4.0                      264\n",
      "5.0                      142\n",
      "6.0                      125\n",
      "7.0                       52\n",
      "8.0                        3\n",
      "   Passenger_in_cabin  Survival_rate\n",
      "0                 1.0       0.445550\n",
      "1                 2.0       0.595481\n",
      "2                 3.0       0.611780\n",
      "3                 4.0       0.634615\n",
      "4                 5.0       0.604255\n",
      "5                 6.0       0.631313\n",
      "6                 7.0       0.571429\n",
      "7                 8.0       0.375000\n"
     ]
    },
    {
     "data": {
      "text/plain": [
       "<AxesSubplot:xlabel='Passenger_in_cabin', ylabel='Survival_rate'>"
      ]
     },
     "execution_count": 8,
     "metadata": {},
     "output_type": "execute_result"
    },
    {
     "data": {
      "image/png": "[encoded data removed]",
      "text/plain": [
       "<Figure size 432x288 with 1 Axes>"
      ]
     },
     "metadata": {},
     "output_type": "display_data"
    }
   ],
   "source": [
    "group_wise=train_data[['Cabin','PassengerId']].groupby(['Cabin']).count().rename(columns={\"PassengerId\":\"Passenger_in_cabin\"})\n",
    "train_data=pd.merge(train_data,group_wise,how=\"left\",left_on=\"Cabin\",right_index=True)\n",
    "group_strength_survival_rate=survival_rate(train_data,\"Passenger_in_cabin\")\n",
    "group_strength_survival_rate.reset_index(inplace=True)\n",
    "print(group_strength_survival_rate)\n",
    "sns.barplot(data=group_strength_survival_rate,x=\"Passenger_in_cabin\",y=\"Survival_rate\")"
   ]
  },
  {
   "cell_type": "code",
   "execution_count": 9,
   "id": "fa025684",
   "metadata": {},
   "outputs": [
    {
     "data": {
      "text/html": [
       "<div>\n",
       "<style scoped>\n",
       "    .dataframe tbody tr th:only-of-type {\n",
       "        vertical-align: middle;\n",
       "    }\n",
       "\n",
       "    .dataframe tbody tr th {\n",
       "        vertical-align: top;\n",
       "    }\n",
       "\n",
       "    .dataframe thead th {\n",
       "        text-align: right;\n",
       "    }\n",
       "</style>\n",
       "<table border=\"1\" class=\"dataframe\">\n",
       "  <thead>\n",
       "    <tr style=\"text-align: right;\">\n",
       "      <th></th>\n",
       "      <th>PassengerId</th>\n",
       "      <th>HomePlanet</th>\n",
       "      <th>CryoSleep</th>\n",
       "      <th>Cabin</th>\n",
       "      <th>Destination</th>\n",
       "      <th>Age</th>\n",
       "      <th>VIP</th>\n",
       "      <th>RoomService</th>\n",
       "      <th>FoodCourt</th>\n",
       "      <th>ShoppingMall</th>\n",
       "      <th>Spa</th>\n",
       "      <th>VRDeck</th>\n",
       "      <th>Name</th>\n",
       "      <th>Transported</th>\n",
       "      <th>Group</th>\n",
       "      <th>Passenger_in_group</th>\n",
       "      <th>Passenger_in_cabin</th>\n",
       "    </tr>\n",
       "  </thead>\n",
       "  <tbody>\n",
       "    <tr>\n",
       "      <th>0</th>\n",
       "      <td>0001_01</td>\n",
       "      <td>Europa</td>\n",
       "      <td>False</td>\n",
       "      <td>B/0/P</td>\n",
       "      <td>TRAPPIST-1e</td>\n",
       "      <td>39.0</td>\n",
       "      <td>False</td>\n",
       "      <td>0.0</td>\n",
       "      <td>0.0</td>\n",
       "      <td>0.0</td>\n",
       "      <td>0.0</td>\n",
       "      <td>0.0</td>\n",
       "      <td>Maham Ofracculy</td>\n",
       "      <td>False</td>\n",
       "      <td>0001</td>\n",
       "      <td>1</td>\n",
       "      <td>1.0</td>\n",
       "    </tr>\n",
       "    <tr>\n",
       "      <th>1</th>\n",
       "      <td>0002_01</td>\n",
       "      <td>Earth</td>\n",
       "      <td>False</td>\n",
       "      <td>F/0/S</td>\n",
       "      <td>TRAPPIST-1e</td>\n",
       "      <td>24.0</td>\n",
       "      <td>False</td>\n",
       "      <td>109.0</td>\n",
       "      <td>9.0</td>\n",
       "      <td>25.0</td>\n",
       "      <td>549.0</td>\n",
       "      <td>44.0</td>\n",
       "      <td>Juanna Vines</td>\n",
       "      <td>True</td>\n",
       "      <td>0002</td>\n",
       "      <td>1</td>\n",
       "      <td>1.0</td>\n",
       "    </tr>\n",
       "    <tr>\n",
       "      <th>2</th>\n",
       "      <td>0003_01</td>\n",
       "      <td>Europa</td>\n",
       "      <td>False</td>\n",
       "      <td>A/0/S</td>\n",
       "      <td>TRAPPIST-1e</td>\n",
       "      <td>58.0</td>\n",
       "      <td>True</td>\n",
       "      <td>43.0</td>\n",
       "      <td>3576.0</td>\n",
       "      <td>0.0</td>\n",
       "      <td>6715.0</td>\n",
       "      <td>49.0</td>\n",
       "      <td>Altark Susent</td>\n",
       "      <td>False</td>\n",
       "      <td>0003</td>\n",
       "      <td>2</td>\n",
       "      <td>2.0</td>\n",
       "    </tr>\n",
       "    <tr>\n",
       "      <th>3</th>\n",
       "      <td>0003_02</td>\n",
       "      <td>Europa</td>\n",
       "      <td>False</td>\n",
       "      <td>A/0/S</td>\n",
       "      <td>TRAPPIST-1e</td>\n",
       "      <td>33.0</td>\n",
       "      <td>False</td>\n",
       "      <td>0.0</td>\n",
       "      <td>1283.0</td>\n",
       "      <td>371.0</td>\n",
       "      <td>3329.0</td>\n",
       "      <td>193.0</td>\n",
       "      <td>Solam Susent</td>\n",
       "      <td>False</td>\n",
       "      <td>0003</td>\n",
       "      <td>2</td>\n",
       "      <td>2.0</td>\n",
       "    </tr>\n",
       "    <tr>\n",
       "      <th>4</th>\n",
       "      <td>0004_01</td>\n",
       "      <td>Earth</td>\n",
       "      <td>False</td>\n",
       "      <td>F/1/S</td>\n",
       "      <td>TRAPPIST-1e</td>\n",
       "      <td>16.0</td>\n",
       "      <td>False</td>\n",
       "      <td>303.0</td>\n",
       "      <td>70.0</td>\n",
       "      <td>151.0</td>\n",
       "      <td>565.0</td>\n",
       "      <td>2.0</td>\n",
       "      <td>Willy Santantines</td>\n",
       "      <td>True</td>\n",
       "      <td>0004</td>\n",
       "      <td>1</td>\n",
       "      <td>1.0</td>\n",
       "    </tr>\n",
       "  </tbody>\n",
       "</table>\n",
       "</div>"
      ],
      "text/plain": [
       "  PassengerId HomePlanet CryoSleep  Cabin  Destination   Age    VIP  \\\n",
       "0     0001_01     Europa     False  B/0/P  TRAPPIST-1e  39.0  False   \n",
       "1     0002_01      Earth     False  F/0/S  TRAPPIST-1e  24.0  False   \n",
       "2     0003_01     Europa     False  A/0/S  TRAPPIST-1e  58.0   True   \n",
       "3     0003_02     Europa     False  A/0/S  TRAPPIST-1e  33.0  False   \n",
       "4     0004_01      Earth     False  F/1/S  TRAPPIST-1e  16.0  False   \n",
       "\n",
       "   RoomService  FoodCourt  ShoppingMall     Spa  VRDeck               Name  \\\n",
       "0          0.0        0.0           0.0     0.0     0.0    Maham Ofracculy   \n",
       "1        109.0        9.0          25.0   549.0    44.0       Juanna Vines   \n",
       "2         43.0     3576.0           0.0  6715.0    49.0      Altark Susent   \n",
       "3          0.0     1283.0         371.0  3329.0   193.0       Solam Susent   \n",
       "4        303.0       70.0         151.0   565.0     2.0  Willy Santantines   \n",
       "\n",
       "   Transported Group  Passenger_in_group  Passenger_in_cabin  \n",
       "0        False  0001                   1                 1.0  \n",
       "1         True  0002                   1                 1.0  \n",
       "2        False  0003                   2                 2.0  \n",
       "3        False  0003                   2                 2.0  \n",
       "4         True  0004                   1                 1.0  "
      ]
     },
     "execution_count": 9,
     "metadata": {},
     "output_type": "execute_result"
    }
   ],
   "source": [
    "train_data.head()"
   ]
  },
  {
   "cell_type": "markdown",
   "id": "70603540",
   "metadata": {},
   "source": [
    "Ici on fait le même constat que pour le nombre de personnes par groupe : le taux de survie augmente pour un nombre de personnes entre 1 et 4 puis il baisse de 4 à 8 (nombre de personne maximum par cabine)"
   ]
  },
  {
   "cell_type": "markdown",
   "id": "77487c36",
   "metadata": {},
   "source": [
    "On créer ensuite une colonne qui représente le total des dépenses pour chaque passager"
   ]
  },
  {
   "cell_type": "code",
   "execution_count": 8,
   "id": "b4b4b742",
   "metadata": {},
   "outputs": [
    {
     "data": {
      "text/html": [
       "<div>\n",
       "<style scoped>\n",
       "    .dataframe tbody tr th:only-of-type {\n",
       "        vertical-align: middle;\n",
       "    }\n",
       "\n",
       "    .dataframe tbody tr th {\n",
       "        vertical-align: top;\n",
       "    }\n",
       "\n",
       "    .dataframe thead th {\n",
       "        text-align: right;\n",
       "    }\n",
       "</style>\n",
       "<table border=\"1\" class=\"dataframe\">\n",
       "  <thead>\n",
       "    <tr style=\"text-align: right;\">\n",
       "      <th></th>\n",
       "      <th>cut_Total_spend</th>\n",
       "      <th>Total_spend</th>\n",
       "    </tr>\n",
       "  </thead>\n",
       "  <tbody>\n",
       "    <tr>\n",
       "      <th>0</th>\n",
       "      <td>NaN</td>\n",
       "      <td>0.0</td>\n",
       "    </tr>\n",
       "    <tr>\n",
       "      <th>1</th>\n",
       "      <td>0-10000</td>\n",
       "      <td>736.0</td>\n",
       "    </tr>\n",
       "    <tr>\n",
       "      <th>2</th>\n",
       "      <td>10001-20000</td>\n",
       "      <td>10383.0</td>\n",
       "    </tr>\n",
       "    <tr>\n",
       "      <th>3</th>\n",
       "      <td>0-10000</td>\n",
       "      <td>5176.0</td>\n",
       "    </tr>\n",
       "    <tr>\n",
       "      <th>4</th>\n",
       "      <td>0-10000</td>\n",
       "      <td>1091.0</td>\n",
       "    </tr>\n",
       "    <tr>\n",
       "      <th>...</th>\n",
       "      <td>...</td>\n",
       "      <td>...</td>\n",
       "    </tr>\n",
       "    <tr>\n",
       "      <th>8688</th>\n",
       "      <td>0-10000</td>\n",
       "      <td>8536.0</td>\n",
       "    </tr>\n",
       "    <tr>\n",
       "      <th>8689</th>\n",
       "      <td>NaN</td>\n",
       "      <td>0.0</td>\n",
       "    </tr>\n",
       "    <tr>\n",
       "      <th>8690</th>\n",
       "      <td>0-10000</td>\n",
       "      <td>1873.0</td>\n",
       "    </tr>\n",
       "    <tr>\n",
       "      <th>8691</th>\n",
       "      <td>0-10000</td>\n",
       "      <td>4637.0</td>\n",
       "    </tr>\n",
       "    <tr>\n",
       "      <th>8692</th>\n",
       "      <td>0-10000</td>\n",
       "      <td>4826.0</td>\n",
       "    </tr>\n",
       "  </tbody>\n",
       "</table>\n",
       "<p>8693 rows × 2 columns</p>\n",
       "</div>"
      ],
      "text/plain": [
       "     cut_Total_spend  Total_spend\n",
       "0                NaN          0.0\n",
       "1            0-10000        736.0\n",
       "2        10001-20000      10383.0\n",
       "3            0-10000       5176.0\n",
       "4            0-10000       1091.0\n",
       "...              ...          ...\n",
       "8688         0-10000       8536.0\n",
       "8689             NaN          0.0\n",
       "8690         0-10000       1873.0\n",
       "8691         0-10000       4637.0\n",
       "8692         0-10000       4826.0\n",
       "\n",
       "[8693 rows x 2 columns]"
      ]
     },
     "execution_count": 8,
     "metadata": {},
     "output_type": "execute_result"
    }
   ],
   "source": [
    "train_data['Total_spend']=train_data[['RoomService','FoodCourt','ShoppingMall','Spa','VRDeck']].sum(axis=1)\n",
    "cut_labels_4 = ['0-10000','10001-20000','20001-30000','30001-40000']\n",
    "cut_bins = [0, 10000, 20000, 30000, 40000]\n",
    "train_data['cut_Total_spend'] = pd.cut(train_data['Total_spend'], bins=cut_bins, labels=cut_labels_4)\n",
    "train_data[['cut_Total_spend','Total_spend']]"
   ]
  },
  {
   "cell_type": "markdown",
   "id": "e2f47006",
   "metadata": {},
   "source": [
    "On affiche ensuite cela sous la forme d'un graph"
   ]
  },
  {
   "cell_type": "code",
   "execution_count": 9,
   "id": "61ae5538",
   "metadata": {},
   "outputs": [
    {
     "name": "stdout",
     "output_type": "stream",
     "text": [
      "                 Passengers\n",
      "cut_Total_spend            \n",
      "0-10000                4742\n",
      "10001-20000             148\n",
      "20001-30000              27\n",
      "30001-40000               4\n",
      "                 Survived\n",
      "cut_Total_spend          \n",
      "0-10000              1416\n",
      "10001-20000            47\n",
      "20001-30000             5\n",
      "30001-40000             2\n"
     ]
    }
   ],
   "source": [
    "total_spend_survice=survival_rate(train_data[train_data['CryoSleep']==False],'cut_Total_spend')"
   ]
  },
  {
   "cell_type": "code",
   "execution_count": 10,
   "id": "ced926b0",
   "metadata": {},
   "outputs": [],
   "source": [
    "total_spend_survice.reset_index(inplace=True)"
   ]
  },
  {
   "cell_type": "code",
   "execution_count": 11,
   "id": "8ed9fe45",
   "metadata": {},
   "outputs": [
    {
     "data": {
      "text/plain": [
       "<AxesSubplot:xlabel='cut_Total_spend', ylabel='Survival_rate'>"
      ]
     },
     "execution_count": 11,
     "metadata": {},
     "output_type": "execute_result"
    },
    {
     "data": {
      "image/png": "[encoded data removed]",
      "text/plain": [
       "<Figure size 432x288 with 1 Axes>"
      ]
     },
     "metadata": {},
     "output_type": "display_data"
    }
   ],
   "source": [
    "sns.barplot(data=total_spend_survice,x=\"cut_Total_spend\",y=\"Survival_rate\")"
   ]
  },
  {
   "cell_type": "markdown",
   "id": "89889d73",
   "metadata": {},
   "source": [
    "Il ne semble pas avoir de tendance uniforme, on remarque cependant que le taux de survie est très important pour les gens qui ont les plus dépensé "
   ]
  },
  {
   "cell_type": "markdown",
   "id": "b65e60fc",
   "metadata": {},
   "source": [
    "On essaye de voir si le taux survie est différent pour les différents Decks et coté du vaisseau"
   ]
  },
  {
   "cell_type": "code",
   "execution_count": 12,
   "id": "fd220688",
   "metadata": {
    "scrolled": true
   },
   "outputs": [
    {
     "name": "stdout",
     "output_type": "stream",
     "text": [
      "      Passengers\n",
      "Deck            \n",
      "A            256\n",
      "B            779\n",
      "C            747\n",
      "D            478\n",
      "E            876\n",
      "F           2794\n",
      "G           2559\n",
      "T              5\n",
      "      Survived\n",
      "Deck          \n",
      "A          127\n",
      "B          572\n",
      "C          508\n",
      "D          207\n",
      "E          313\n",
      "F         1229\n",
      "G         1321\n",
      "T            1\n"
     ]
    },
    {
     "data": {
      "text/plain": [
       "<AxesSubplot:xlabel='Deck', ylabel='Survival_rate'>"
      ]
     },
     "execution_count": 12,
     "metadata": {},
     "output_type": "execute_result"
    },
    {
     "data": {
      "image/png": "[encoded data removed]",
      "text/plain": [
       "<Figure size 432x288 with 1 Axes>"
      ]
     },
     "metadata": {},
     "output_type": "display_data"
    }
   ],
   "source": [
    "train_data['Deck']=train_data['Cabin'].str.split('/', expand=True)[0]\n",
    "train_data['Side']=train_data['Cabin'].str.split('/', expand=True)[2]\n",
    "deck_survival_rates=survival_rate(train_data,'Deck')\n",
    "deck_survival_rates.reset_index(inplace=True)\n",
    "sns.set_style(\"whitegrid\")\n",
    "sns.barplot(data=deck_survival_rates,x=\"Deck\",y=\"Survival_rate\")"
   ]
  },
  {
   "cell_type": "markdown",
   "id": "d1f16e6c",
   "metadata": {},
   "source": [
    "On remarque le taux de survie change en focntion de la cabine"
   ]
  },
  {
   "cell_type": "code",
   "execution_count": 13,
   "id": "b061fed1",
   "metadata": {},
   "outputs": [
    {
     "name": "stdout",
     "output_type": "stream",
     "text": [
      "      Passengers\n",
      "Side            \n",
      "P           4206\n",
      "S           4288\n",
      "      Survived\n",
      "Side          \n",
      "P         1898\n",
      "S         2380\n"
     ]
    },
    {
     "data": {
      "text/plain": [
       "<AxesSubplot:xlabel='Side', ylabel='Survival_rate'>"
      ]
     },
     "execution_count": 13,
     "metadata": {},
     "output_type": "execute_result"
    },
    {
     "data": {
      "image/png": "[encoded data removed]",
      "text/plain": [
       "<Figure size 432x288 with 1 Axes>"
      ]
     },
     "metadata": {},
     "output_type": "display_data"
    }
   ],
   "source": [
    "side_survival_rates=survival_rate(train_data,'Side')\n",
    "side_survival_rates.reset_index(inplace=True)\n",
    "sns.barplot(data=side_survival_rates,x=\"Side\",y=\"Survival_rate\")"
   ]
  },
  {
   "cell_type": "code",
   "execution_count": 14,
   "id": "30d6d06a",
   "metadata": {},
   "outputs": [
    {
     "name": "stdout",
     "output_type": "stream",
     "text": [
      "      Passengers\n",
      "Side            \n",
      "P           4206\n",
      "S           4288\n",
      "      Survived\n",
      "Side          \n",
      "P         1898\n",
      "S         2380\n"
     ]
    },
    {
     "data": {
      "text/html": [
       "<div>\n",
       "<style scoped>\n",
       "    .dataframe tbody tr th:only-of-type {\n",
       "        vertical-align: middle;\n",
       "    }\n",
       "\n",
       "    .dataframe tbody tr th {\n",
       "        vertical-align: top;\n",
       "    }\n",
       "\n",
       "    .dataframe thead th {\n",
       "        text-align: right;\n",
       "    }\n",
       "</style>\n",
       "<table border=\"1\" class=\"dataframe\">\n",
       "  <thead>\n",
       "    <tr style=\"text-align: right;\">\n",
       "      <th></th>\n",
       "      <th>Survival_rate</th>\n",
       "    </tr>\n",
       "    <tr>\n",
       "      <th>Side</th>\n",
       "      <th></th>\n",
       "    </tr>\n",
       "  </thead>\n",
       "  <tbody>\n",
       "    <tr>\n",
       "      <th>P</th>\n",
       "      <td>0.451260</td>\n",
       "    </tr>\n",
       "    <tr>\n",
       "      <th>S</th>\n",
       "      <td>0.555037</td>\n",
       "    </tr>\n",
       "  </tbody>\n",
       "</table>\n",
       "</div>"
      ],
      "text/plain": [
       "      Survival_rate\n",
       "Side               \n",
       "P          0.451260\n",
       "S          0.555037"
      ]
     },
     "execution_count": 14,
     "metadata": {},
     "output_type": "execute_result"
    }
   ],
   "source": [
    "survival_rate(train_data,'Side')"
   ]
  },
  {
   "cell_type": "markdown",
   "id": "e3b43006",
   "metadata": {},
   "source": [
    "Le taux de survie est plus élevé pour les passagers du coté S"
   ]
  },
  {
   "cell_type": "markdown",
   "id": "2960f90c",
   "metadata": {},
   "source": [
    "**On essaye maintenant d'ameliorer la complétion des données :**"
   ]
  },
  {
   "cell_type": "markdown",
   "id": "c91c9079",
   "metadata": {},
   "source": [
    "Les passagers du même groupe ont-ils la même homePlanet ?"
   ]
  },
  {
   "cell_type": "code",
   "execution_count": 15,
   "id": "16b6e902",
   "metadata": {},
   "outputs": [
    {
     "name": "stdout",
     "output_type": "stream",
     "text": [
      "Nombre de groupe qui ont plus que une homePlanet : 0\n"
     ]
    }
   ],
   "source": [
    "#Create a dataframe containing\n",
    "group_wise_passenger=train_data[['HomePlanet','Group']].groupby(['Group']).nunique()\n",
    "group_wise_passenger.rename(columns={'HomePlanet':'Number_of_home_planets_ingroup'},inplace=True)\n",
    "print(\"Nombre de groupe qui ont plus que une homePlanet :\",group_wise_passenger[group_wise_passenger['Number_of_home_planets_ingroup']>1].shape[0])"
   ]
  },
  {
   "cell_type": "markdown",
   "id": "d2dcc4b0",
   "metadata": {},
   "source": [
    "On remarque ici que tous les passagers d'un même groupe viennent de la même planet, on peut alors utiliser cette information afin de mieux compléter les homePlanet manquante"
   ]
  },
  {
   "cell_type": "markdown",
   "id": "f2119dd0",
   "metadata": {},
   "source": [
    "**On regarde si l'âge médian change en fonction de la homePlanet**"
   ]
  },
  {
   "cell_type": "code",
   "execution_count": 16,
   "id": "7b9bb815",
   "metadata": {},
   "outputs": [
    {
     "data": {
      "text/plain": [
       "<AxesSubplot:xlabel='HomePlanet', ylabel='Median_age_planet'>"
      ]
     },
     "execution_count": 16,
     "metadata": {},
     "output_type": "execute_result"
    },
    {
     "data": {
      "image/png": "[encoded data removed]",
      "text/plain": [
       "<Figure size 432x288 with 1 Axes>"
      ]
     },
     "metadata": {},
     "output_type": "display_data"
    }
   ],
   "source": [
    "for_filling_age=train_data[['Age','HomePlanet']].groupby(['HomePlanet']).median()\n",
    "for_filling_age.rename(columns={\"Age\":\"Median_age_planet\"},inplace=True)\n",
    "for_filling_age.reset_index(inplace=True)\n",
    "sns.barplot(data=for_filling_age,x=\"HomePlanet\",y=\"Median_age_planet\")"
   ]
  },
  {
   "cell_type": "markdown",
   "id": "5f52f044",
   "metadata": {},
   "source": [
    "On remarque que l'âge moyen change en fonction de la planète d'origine, on pourras alors utiliser cette information afin de mieux compléter le champs âge."
   ]
  },
  {
   "cell_type": "markdown",
   "id": "3c564dd5",
   "metadata": {},
   "source": [
    "**On créer maintenant des pipelines pour l'entrainement du modèle**"
   ]
  },
  {
   "cell_type": "markdown",
   "id": "61f65079",
   "metadata": {},
   "source": [
    "Ici on créer les nouvelles features et on remplace les valeurs manquantes :"
   ]
  },
  {
   "cell_type": "code",
   "execution_count": 17,
   "id": "e94c643d",
   "metadata": {},
   "outputs": [],
   "source": [
    "class FeatureSelector(BaseEstimator, TransformerMixin):\n",
    "    def __init__(self, feature_names):\n",
    "        self.feature_names = feature_names   \n",
    "    def fit( self, X, y = None ):\n",
    "        return self\n",
    "    def transform(self, X, y=None):\n",
    "        return X.loc[:, self.feature_names].copy(deep=True)\n",
    "\n",
    "\n",
    "class feature_maker(BaseEstimator, TransformerMixin):\n",
    "    def __init__(self):\n",
    "\n",
    "        pass\n",
    "    def fit( self, X, y = None ):\n",
    "\n",
    "        return self\n",
    "# Function to create features and for impute features.\n",
    "    def transform(self, a, y=None):\n",
    "    #   Create features Deck, Side and Group from Cabin and PassengerId\n",
    "        a.loc[:,'Deck'] = a['Cabin'].str.split('/', expand=True)[0]\n",
    "        a.loc[:,'Side'] = a['Cabin'].str.split('/', expand=True)[2]\n",
    "        a.loc[:,'Group'] = a['PassengerId'].str.split('_', 1, expand=True)[0].astype(int)\n",
    "        \n",
    "    #   Create feature to calculate number of Passengers in the Deck that the Passenger is travelling in     \n",
    "        cabin_wise=a[['Cabin','Deck']].groupby(['Cabin']).count().rename(columns={\"Deck\":\"Cabin_Passenger\"})\n",
    "        a=pd.merge(a,cabin_wise,how=\"left\",left_on=\"Cabin\",right_index=True)\n",
    "        \n",
    "    #   Create feature to calculate number of  Passengers in the Group that the Passenger is travelling in\n",
    "        group_wise=a[['Group','PassengerId']].groupby(['Group']).count().rename(columns={\"PassengerId\":\"Passenger_in_group\"})\n",
    "        a=pd.merge(a,group_wise,how=\"left\",left_on=\"Group\",right_index=True)\n",
    "        \n",
    "    #   Create feature to calculate total expense as the sum of expense incurred in RoomService, FoodCourt,ShoppingMall, Spa and VRDeck#\n",
    "        a.loc[:,'TotalSpending'] = a[['RoomService','FoodCourt','ShoppingMall','Spa','VRDeck']].sum(axis=1)\n",
    "        \n",
    "    #   Create feature to find the homeplanet the other passengers in the group belong to. This is done by first calculating groupwise passengers. In Groups where there are no passengers with Homeplanet, Nan is marked. Later      \n",
    "        group_wise_passenger=a[['PassengerId','Group']].groupby(['Group']).count()\n",
    "        group_wise_passenger.rename(columns={'PassengerId':'Passengers_in_group'},inplace=True)\n",
    "        group_wise_mf_planet=a[['HomePlanet','Group']].groupby(['Group']).agg(lambda x: x.value_counts().index[0] if x.value_counts().size>0 else float(\"Nan\"))\n",
    "        a=pd.merge(a,group_wise_passenger,how='left',left_on='Group',right_index=True)\n",
    "        group_wise_mf_planet.rename(columns={'HomePlanet':'Top_planet_in_group'},inplace=True)\n",
    "        a=pd.merge(a,group_wise_mf_planet,how='left',left_on='Group',right_index=True)\n",
    "        a.loc[(a['HomePlanet'].isna())&(a['Passengers_in_group']>1),'HomePlanet']=a[(a['HomePlanet'].isna())&(a['Passengers_in_group']>1)]['Top_planet_in_group']\n",
    "        \n",
    "    #   Create a dataframe for HomePlanet wise median age and use it to impute age where it is missing  \n",
    "        for_filling_age=a[['Age','HomePlanet']].groupby(['HomePlanet']).median()\n",
    "        for_filling_age.rename(columns={\"Age\":\"Median_age_planet\"},inplace=True)\n",
    "        a=pd.merge(a,for_filling_age,how=\"left\",left_on=\"HomePlanet\",right_index=True)\n",
    "        a.loc[(~ a['HomePlanet'].isna())&(a['Age'].isna()),'Age']=a[(~a['HomePlanet'].isna())&(a['Age'].isna())]['Median_age_planet']\n",
    "        a.drop(columns=['Top_planet_in_group', 'Median_age_planet','Passengers_in_group'],inplace=True)\n",
    "        a.drop(columns=['Cabin','PassengerId'],inplace=True)\n",
    "\n",
    "        return a\n",
    "daily_trend_feature_pipeline = Pipeline(steps = [ \n",
    "    (\"selector\", FeatureSelector(['PassengerId', 'HomePlanet', 'CryoSleep', 'Cabin', 'Destination', 'Age',\n",
    "       'VIP', 'RoomService', 'FoodCourt', 'ShoppingMall', 'Spa', 'VRDeck'])),\n",
    "    (\"feature_engineering\", feature_maker()),])"
   ]
  },
  {
   "cell_type": "markdown",
   "id": "1e949fe0",
   "metadata": {},
   "source": [
    "**on créer un transformer et une pipeline**"
   ]
  },
  {
   "cell_type": "code",
   "execution_count": 18,
   "id": "7b0804e0",
   "metadata": {},
   "outputs": [],
   "source": [
    "numeric_transformer = Pipeline(\n",
    "    steps=[\n",
    "        ('imputer',SimpleImputer(strategy='median')),\n",
    "        (\"scale\", StandardScaler())])\n",
    "categorical_transformer = Pipeline(\n",
    "    steps=[\n",
    "        ('imputer', SimpleImputer(strategy='most_frequent')),\n",
    "        ('onehot', OneHotEncoder(handle_unknown='ignore')),\n",
    "    ])\n",
    "preprocessor = ColumnTransformer(\n",
    "    transformers=[\n",
    "        ('numeric_transformers', numeric_transformer, ['Age','RoomService','FoodCourt','ShoppingMall','Spa','VRDeck','TotalSpending','Cabin_Passenger','Passenger_in_group']),\n",
    "        ('categorical_transformers', categorical_transformer, ['HomePlanet', 'CryoSleep','Destination','VIP','Deck','Side']),\n",
    "    ])\n",
    "feature_pipeline = Pipeline(\n",
    "    steps=[\n",
    "        (\"daily_trend_feature_pipeline\", daily_trend_feature_pipeline),\n",
    "        (\"otherpipeline\",preprocessor)\n",
    "        \n",
    "    ])"
   ]
  },
  {
   "cell_type": "markdown",
   "id": "a6dbf064",
   "metadata": {},
   "source": [
    "Une fois la pipeline effedctuée on va tester différent modèle pour voir ce qui fonctionne le mieux"
   ]
  },
  {
   "cell_type": "markdown",
   "id": "9a54e673",
   "metadata": {},
   "source": [
    "On test avec une logistic regression :"
   ]
  },
  {
   "cell_type": "code",
   "execution_count": 19,
   "id": "10dedd80",
   "metadata": {},
   "outputs": [
    {
     "name": "stdout",
     "output_type": "stream",
     "text": [
      "Accuracy of Logistic Regression is as follows:  0.787646152596401\n"
     ]
    },
    {
     "data": {
      "image/png": "[encoded data removed]",
      "text/plain": [
       "<Figure size 432x288 with 2 Axes>"
      ]
     },
     "metadata": {},
     "output_type": "display_data"
    }
   ],
   "source": [
    "y_train = train_data['Transported']\n",
    "X_train = train_data.drop(columns={'Name','Transported'})\n",
    "# print(X_train.shape)\n",
    "data = feature_pipeline.fit_transform(X_train)\n",
    "# print(data.shape)\n",
    "log_reg = Pipeline([\n",
    "    (\"Preprocessing\", feature_pipeline),\n",
    "    (\"model\", LogisticRegression(random_state = 42))\n",
    "])\n",
    "\n",
    "#cm_log = confusion_matrix(y_train, y_pred)\n",
    "LogisticReg_acc = cross_val_score(log_reg, X_train, y_train, cv = 3, scoring = \"accuracy\",error_score='raise').mean()\n",
    "\n",
    "print(\"Accuracy of Logistic Regression is as follows: \", LogisticReg_acc)\n",
    "\n",
    "y_pred = cross_val_predict(log_reg, X_train, y_train, cv = 3)\n",
    "\n",
    "ConfusionMatrixDisplay.from_predictions(y_train, y_pred, normalize = \"true\", values_format = \".0%\")\n",
    "plt.show()"
   ]
  },
  {
   "cell_type": "markdown",
   "id": "3a4f2b2b",
   "metadata": {},
   "source": [
    "avec une random forest : "
   ]
  },
  {
   "cell_type": "code",
   "execution_count": 20,
   "id": "b7fb1e19",
   "metadata": {},
   "outputs": [
    {
     "name": "stdout",
     "output_type": "stream",
     "text": [
      "Accuracy of Random Forest is as  0.7768326689699624\n"
     ]
    },
    {
     "data": {
      "text/plain": [
       "<sklearn.metrics._plot.confusion_matrix.ConfusionMatrixDisplay at 0x1f4fa2951f0>"
      ]
     },
     "execution_count": 20,
     "metadata": {},
     "output_type": "execute_result"
    },
    {
     "data": {
      "image/png": "[encoded data removed]",
      "text/plain": [
       "<Figure size 432x288 with 2 Axes>"
      ]
     },
     "metadata": {},
     "output_type": "display_data"
    }
   ],
   "source": [
    "random_forest = Pipeline([\n",
    "    (\"Preprocessing\", feature_pipeline),\n",
    "    (\"model\", RandomForestClassifier(random_state = 42))\n",
    "])\n",
    "\n",
    "RandomForest_acc = cross_val_score(random_forest, X_train, y_train, cv = 3, scoring = \"accuracy\").mean()\n",
    "\n",
    "print(\"Accuracy of Random Forest is as \", RandomForest_acc)\n",
    "\n",
    "y_pred = cross_val_predict(random_forest, X_train, y_train, cv = 3)\n",
    "\n",
    "ConfusionMatrixDisplay.from_predictions(y_train, y_pred, normalize = \"true\", values_format = \".0%\")"
   ]
  },
  {
   "cell_type": "markdown",
   "id": "612e99f3",
   "metadata": {},
   "source": [
    "avec le Support Vector Machine "
   ]
  },
  {
   "cell_type": "code",
   "execution_count": 21,
   "id": "27afc14d",
   "metadata": {},
   "outputs": [
    {
     "name": "stdout",
     "output_type": "stream",
     "text": [
      "Accuracy of Support Vector Machine:  0.7925940378102285\n"
     ]
    },
    {
     "data": {
      "text/plain": [
       "<sklearn.metrics._plot.confusion_matrix.ConfusionMatrixDisplay at 0x1f4fa371610>"
      ]
     },
     "execution_count": 21,
     "metadata": {},
     "output_type": "execute_result"
    },
    {
     "data": {
      "image/png": "[encoded data removed]",
      "text/plain": [
       "<Figure size 432x288 with 2 Axes>"
      ]
     },
     "metadata": {},
     "output_type": "display_data"
    }
   ],
   "source": [
    "svc_clf = Pipeline([\n",
    "    (\"Preprocessing\", feature_pipeline),\n",
    "    (\"model\", SVC(random_state = 42))\n",
    "])\n",
    "\n",
    "SVC_acc = cross_val_score(svc_clf, X_train, y_train, cv = 3, scoring = \"accuracy\").mean()\n",
    "\n",
    "print(\"Accuracy of Support Vector Machine: \", SVC_acc)\n",
    "\n",
    "y_pred = cross_val_predict(svc_clf, X_train, y_train, cv = 3)\n",
    "\n",
    "ConfusionMatrixDisplay.from_predictions(y_train, y_pred, normalize = \"true\", values_format = \".0%\")"
   ]
  },
  {
   "cell_type": "markdown",
   "id": "ddfa8466",
   "metadata": {},
   "source": [
    "On trouve que le meilleur modèle est le SVM on va donc chercher les meilleurs paramètres"
   ]
  },
  {
   "cell_type": "code",
   "execution_count": 22,
   "id": "f4ea77f8",
   "metadata": {},
   "outputs": [],
   "source": [
    "X_test = pd.read_csv(\"data/test.csv\")\n",
    "param_distr = {'model__C':randint(low = 1, high = 100),\n",
    "              'model__degree': randint(low = 1, high = 20),\n",
    "              'model__coef0':randint(low = 1, high = 100)}\n",
    "rnd = RandomizedSearchCV(svc_clf,param_distributions = param_distr, cv = 3, n_iter = 10,\n",
    "                         scoring = \"accuracy\", random_state = 42)\n",
    "rnd.fit(X_train, y_train)\n",
    "model = rnd.best_estimator_\n",
    "prediction = model.predict(X_test)\n",
    "sub = pd.DataFrame({\n",
    "        \"PassengerId\": X_test.PassengerId,\n",
    "        \"Transported\": prediction})\n",
    "sub.to_csv('submission.csv', index=False)"
   ]
  }
 ],
 "metadata": {
  "kernelspec": {
   "display_name": "Python 3",
   "language": "python",
   "name": "python3"
  },
  "language_info": {
   "codemirror_mode": {
    "name": "ipython",
    "version": 3
   },
   "file_extension": ".py",
   "mimetype": "text/x-python",
   "name": "python",
   "nbconvert_exporter": "python",
   "pygments_lexer": "ipython3",
   "version": "3.8.8"
  }
 },
 "nbformat": 4,
 "nbformat_minor": 5
}
