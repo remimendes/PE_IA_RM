{
 "cells": [
  {
   "cell_type": "code",
   "execution_count": 1,
   "id": "1d517b7e",
   "metadata": {},
   "outputs": [],
   "source": [
    "#on importe toutes les bibliothèques\n",
    "import pandas as pd"
   ]
  },
  {
   "cell_type": "code",
   "execution_count": 2,
   "id": "62ce8c7b",
   "metadata": {},
   "outputs": [],
   "source": [
    "train_data=pd.read_csv(\"data/train.csv\")\n",
    "X_test=pd.read_csv(\"data/test.csv\")"
   ]
  },
  {
   "cell_type": "code",
   "execution_count": 22,
   "id": "85dc6e5f",
   "metadata": {},
   "outputs": [
    {
     "name": "stdout",
     "output_type": "stream",
     "text": [
      "<class 'pandas.core.frame.DataFrame'>\n",
      "RangeIndex: 8693 entries, 0 to 8692\n",
      "Data columns (total 16 columns):\n",
      " #   Column        Non-Null Count  Dtype  \n",
      "---  ------        --------------  -----  \n",
      " 0   PassengerId   8693 non-null   object \n",
      " 1   HomePlanet    8492 non-null   object \n",
      " 2   CryoSleep     8476 non-null   object \n",
      " 3   Cabin         8494 non-null   object \n",
      " 4   Destination   8511 non-null   object \n",
      " 5   Age           8514 non-null   float64\n",
      " 6   VIP           8490 non-null   object \n",
      " 7   RoomService   8512 non-null   float64\n",
      " 8   FoodCourt     8510 non-null   float64\n",
      " 9   ShoppingMall  8485 non-null   float64\n",
      " 10  Spa           8510 non-null   float64\n",
      " 11  VRDeck        8505 non-null   float64\n",
      " 12  Name          8493 non-null   object \n",
      " 13  Transported   8693 non-null   bool   \n",
      " 14  group         8693 non-null   object \n",
      " 15  number        8693 non-null   object \n",
      "dtypes: bool(1), float64(6), object(9)\n",
      "memory usage: 1.0+ MB\n"
     ]
    }
   ],
   "source": [
    "train_data.info()"
   ]
  },
  {
   "cell_type": "code",
   "execution_count": 14,
   "id": "a1903c56",
   "metadata": {},
   "outputs": [],
   "source": [
    "#on créer une feature qui représente le groupe et une leur numéro du groupe\n",
    "train_data[\"group\"]=train_data[\"PassengerId\"].str.slice(stop=4)\n",
    "train_data[\"number\"]=train_data[\"PassengerId\"].str.slice(start=5)"
   ]
  },
  {
   "cell_type": "code",
   "execution_count": 17,
   "id": "d76e06c2",
   "metadata": {},
   "outputs": [],
   "source": [
    "from sklearn.pipeline import Pipeline\n",
    "from sklearn.impute import SimpleImputer\n",
    "from sklearn.preprocessing import StandardScaler\n",
    "\n",
    "num_pipeline = Pipeline([\n",
    "        (\"imputer\", SimpleImputer(strategy=\"median\")),\n",
    "        (\"scaler\", StandardScaler())\n",
    "    ])"
   ]
  },
  {
   "cell_type": "code",
   "execution_count": 18,
   "id": "f477a35a",
   "metadata": {},
   "outputs": [],
   "source": [
    "from sklearn.preprocessing import OneHotEncoder\n",
    "cat_pipeline = Pipeline([\n",
    "        (\"imputer\", SimpleImputer(strategy=\"most_frequent\")),\n",
    "        (\"cat_encoder\", OneHotEncoder(sparse=False)),\n",
    "    ])"
   ]
  },
  {
   "cell_type": "code",
   "execution_count": 27,
   "id": "15ea7bc0",
   "metadata": {},
   "outputs": [],
   "source": [
    "from sklearn.ensemble import RandomForestClassifier\n",
    "from sklearn.svm import SVC\n",
    "from sklearn.compose import ColumnTransformer\n",
    "#pour l'instant on n'utilise pas tout, on se contente pour l'instant du plus simple\n",
    "num_attribs = [\"Age\", \"RoomService\", \"FoodCourt\", \"ShoppingMall\",\"Spa\",\"VRDeck\"]\n",
    "cat_attribs = [\"HomePlanet\", \"CryoSleep\", \"Destination\",\"VIP\"]\n",
    "\n",
    "preprocess_pipeline = ColumnTransformer([\n",
    "        (\"num\", num_pipeline, num_attribs),\n",
    "        (\"cat\", cat_pipeline, cat_attribs),\n",
    "    ])\n",
    "\n",
    "clf = Pipeline(\n",
    "    steps=[(\"preprocessor\", preprocess_pipeline), (\"classifier\", SVC())]\n",
    ")\n",
    "\n",
    "X_train=train_data.copy()\n",
    "X_train=X_train.drop(columns=[\"Transported\"])\n",
    "y_train=train_data[\"Transported\"]"
   ]
  },
  {
   "cell_type": "code",
   "execution_count": 28,
   "id": "82d1d331",
   "metadata": {},
   "outputs": [
    {
     "data": {
      "text/plain": [
       "0.785232707182613"
      ]
     },
     "execution_count": 28,
     "metadata": {},
     "output_type": "execute_result"
    }
   ],
   "source": [
    "from sklearn.model_selection import cross_val_score\n",
    "dt_scores = cross_val_score(clf, X_train, y_train, cv=5)\n",
    "dt_scores.mean()"
   ]
  },
  {
   "cell_type": "code",
   "execution_count": 35,
   "id": "ee951848",
   "metadata": {},
   "outputs": [
    {
     "data": {
      "text/plain": [
       "Pipeline(steps=[('preprocessor',\n",
       "                 ColumnTransformer(transformers=[('num',\n",
       "                                                  Pipeline(steps=[('imputer',\n",
       "                                                                   SimpleImputer(strategy='median')),\n",
       "                                                                  ('scaler',\n",
       "                                                                   StandardScaler())]),\n",
       "                                                  ['Age', 'RoomService',\n",
       "                                                   'FoodCourt', 'ShoppingMall',\n",
       "                                                   'Spa', 'VRDeck']),\n",
       "                                                 ('cat',\n",
       "                                                  Pipeline(steps=[('imputer',\n",
       "                                                                   SimpleImputer(strategy='most_frequent')),\n",
       "                                                                  ('cat_encoder',\n",
       "                                                                   OneHotEncoder(sparse=False))]),\n",
       "                                                  ['HomePlanet', 'CryoSleep',\n",
       "                                                   'Destination', 'VIP'])])),\n",
       "                ('classifier', SVC())])"
      ]
     },
     "execution_count": 35,
     "metadata": {},
     "output_type": "execute_result"
    }
   ],
   "source": [
    "clf.fit(X_train,y_train)"
   ]
  },
  {
   "cell_type": "code",
   "execution_count": 36,
   "id": "a83ae311",
   "metadata": {},
   "outputs": [],
   "source": [
    "y_pred=clf.predict(X_test)"
   ]
  },
  {
   "cell_type": "code",
   "execution_count": 37,
   "id": "2eaa40db",
   "metadata": {},
   "outputs": [],
   "source": [
    "y_pred_df=pd.DataFrame(y_pred, columns = ['Transported'])\n",
    "y_pred_df=y_pred_df.set_index(X_test[\"PassengerId\"])"
   ]
  },
  {
   "cell_type": "code",
   "execution_count": 38,
   "id": "7df5e1e7",
   "metadata": {},
   "outputs": [],
   "source": [
    "y_pred_df.to_csv(\"C:/Users/miaou/Documents/UTT/ISI-2/PE_IA_RM/Python_script/spaceship_titanic_competition/data/y_pred.csv\")"
   ]
  },
  {
   "cell_type": "markdown",
   "id": "5b4649cc",
   "metadata": {},
   "source": [
    "après avoir fait le test sur les modèles suivants : Random forest classique(0.7873010757740087),Gaussian nb(0.7361125761071896),Logistique regression(0.785460209860964),Plus proches voisins(0.7632582512733335),SVC(0.7889130493762866),Linear SVC(0.7845402732017329),Decision tree(0.7391004181470111), Bagging decison tree(0.7795942405691935)\n",
    "\n",
    "les modèles les plus parformants sont alors : random forest, logistique regression, svc, linear svc\n",
    "\n",
    "le modèle le plus performant est le SVC"
   ]
  },
  {
   "cell_type": "markdown",
   "id": "47833e8b",
   "metadata": {},
   "source": [
    "pour le premier test on obtient un score de 0.78512 d'accuracy avec le random forest quand on le poste sur kaggle"
   ]
  },
  {
   "cell_type": "markdown",
   "id": "22ada82e",
   "metadata": {},
   "source": [
    "On cherche maintenant à obtimiser la pipeline des données"
   ]
  }
 ],
 "metadata": {
  "kernelspec": {
   "display_name": "Python 3",
   "language": "python",
   "name": "python3"
  },
  "language_info": {
   "codemirror_mode": {
    "name": "ipython",
    "version": 3
   },
   "file_extension": ".py",
   "mimetype": "text/x-python",
   "name": "python",
   "nbconvert_exporter": "python",
   "pygments_lexer": "ipython3",
   "version": "3.8.8"
  }
 },
 "nbformat": 4,
 "nbformat_minor": 5
}
